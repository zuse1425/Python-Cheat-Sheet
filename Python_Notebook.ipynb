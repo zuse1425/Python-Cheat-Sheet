{
  "nbformat": 4,
  "nbformat_minor": 0,
  "metadata": {
    "colab": {
      "provenance": [],
      "collapsed_sections": [
        "K7sJNzfX3X5H",
        "RQaOQ7McDhQV",
        "c81GgWElqSgZ",
        "dS3w7zl6y_-A",
        "3hmmo9Zh8RHH",
        "OMDgLe-CtK3_",
        "gousHoXShzay",
        "j2a0TAHVFFJD",
        "iTXCTn0kixGK",
        "T_uYMeQdDUm_"
      ]
    },
    "kernelspec": {
      "name": "python3",
      "display_name": "Python 3"
    },
    "language_info": {
      "name": "python"
    }
  },
  "cells": [
    {
      "cell_type": "markdown",
      "source": [
        "# **Python Intermediatary Course:**\n",
        "[LINK1 - Full Course](https://www.youtube.com/watch?v=HGOBQPFzWKo)\n",
        "(Good for undertanding various types of methods of each type)\n",
        "\n",
        "[LINK2 - For Various operators](https://www.youtube.com/watch?v=v5MR5JnKcZI)\n"
      ],
      "metadata": {
        "id": "6TZj2N-HzrDq"
      }
    },
    {
      "cell_type": "markdown",
      "source": [
        "## Compilation Differences Between C++ and Python\n",
        "\n",
        "### 1. **Compilation Process**\n",
        "- **C++:**\n",
        "  - Source code is compiled into **machine code** by a compiler (e.g., g++, clang).\n",
        "  - The machine code is platform-specific and produces an executable binary.\n",
        "- **Python:**\n",
        "  - Source code is first **compiled into bytecode** (an intermediate representation).\n",
        "  - The bytecode is then executed by the **Python interpreter**.\n",
        "\n",
        "### 2. **Explicit vs Implicit Compilation**\n",
        "- **C++:**\n",
        "  - Compilation is **explicit**. The programmer runs a compiler manually to generate the executable.\n",
        "- **Python:**\n",
        "  - Compilation is **implicit** and happens behind the scenes when the program runs.\n",
        "\n",
        "### 3. **Compilation Output**\n",
        "- **C++:**\n",
        "  - Produces a standalone, optimized binary executable.\n",
        "- **Python:**\n",
        "  - Produces bytecode files (e.g., `*.pyc`), which require a Python interpreter to execute.\n",
        "\n",
        "### 4. **Platform Dependency**\n",
        "- **C++:**\n",
        "  - Compiled binaries are **platform-specific** (Windows, Linux, macOS, etc.).\n",
        "- **Python:**\n",
        "  - Bytecode is **platform-independent** and runs on any system with a compatible Python interpreter.\n",
        "\n",
        "### 5. **Error Checking**\n",
        "- **C++:**\n",
        "  - Most errors (e.g., syntax or type errors) are caught during compilation.\n",
        "- **Python:**\n",
        "  - Errors are caught **at runtime**, as the code is interpreted line-by-line after compilation to bytecode.\n",
        "\n",
        "\n",
        "### 6. **Optimization**\n",
        "- **C++:**\n",
        "  - Compilation includes heavy **optimization** for performance at the cost of longer compile times.\n",
        "- **Python:**\n",
        "  - Bytecode is optimized to some extent, but Python prioritizes readability and development speed over runtime performance.\n",
        "\n",
        "\n",
        "### 7. **Performance**\n",
        "- **C++:**\n",
        "  - Direct execution of machine code makes it significantly **faster** than Python.\n",
        "- **Python:**\n",
        "  - Interpretation overhead makes it **slower** compared to C++.\n",
        "\n",
        "\n",
        "### 8. **Toolchain Requirements**\n",
        "- **C++:**\n",
        "  - Requires a **compiler** for each platform (e.g., GCC, MSVC).\n",
        "- **Python:**\n",
        "  - Requires the **Python interpreter** to run the bytecode.\n"
      ],
      "metadata": {
        "id": "pAfT7A5coX81"
      }
    },
    {
      "cell_type": "markdown",
      "source": [
        "## **History**\n",
        "Created by Guido Van Rossum in 1989.\n",
        "\n",
        "# What is Python?\n",
        "General purpose programming language that supports OOP approach as well as functional programming approach.\n",
        "\n",
        "An Interpreted programming language is one that translates and executes instructions line by line, without the need to compile the code into machine language first.\n",
        "\n",
        "Also high level programming language as it is easier for human to understand and abstract (not designed according to computer hardware)\n",
        "\n",
        "Python enables programs to be written compactly and readably. Programs written in Python are typically much shorter than equivalent C, C++, or Java programs, for several reasons:\n",
        "\n",
        "- the high-level data types allow you to express complex operations in a single statement;\n",
        "\n",
        "- statement grouping is done by indentation instead of beginning and ending brackets;\n",
        "\n",
        "- no variable or argument declarations are necessary.\n",
        "\n",
        "\n",
        "\n",
        "\n",
        "\n",
        "\n",
        "\n",
        "\n",
        "\n",
        "\n",
        "\n",
        "\n",
        "\n",
        "\n",
        "\n",
        "\n",
        "\n",
        "\n",
        "\n",
        "\n",
        "\n",
        "\n"
      ],
      "metadata": {
        "id": "MnqZWbZtohdK"
      }
    },
    {
      "cell_type": "code",
      "source": [
        "#python as calculator\n",
        "\n",
        "2+2\n",
        "\n",
        "10/23 # division always returns a floating-point number\n",
        "\n",
        "17/3 #Output 5.666666666666667\n",
        "\n",
        "# floor division discards the fractional part\n",
        "17//3 #Output 5\n",
        "\n",
        "# the % operator returns the remainder of the division\n",
        "17 % 3 #Output 2\n",
        "\n",
        "5 * 3 + 2  # floored quotient * divisor + remainder"
      ],
      "metadata": {
        "colab": {
          "base_uri": "https://localhost:8080/"
        },
        "id": "wYT3Ipod-kQ4",
        "outputId": "d8a720c0-a38f-44ea-d20a-5eea9e778e4b"
      },
      "execution_count": null,
      "outputs": [
        {
          "output_type": "execute_result",
          "data": {
            "text/plain": [
              "17"
            ]
          },
          "metadata": {},
          "execution_count": 6
        }
      ]
    },
    {
      "cell_type": "markdown",
      "source": [
        "## **Escape Sequence Characters**\n",
        "An escape sequence is a sequence of characters that, when used inside a character or string, does not represent itself but is converted into another character or series of characters that may be difficult or impossible to express directly, like newline (\\n), tab (\\t)\n",
        "\n",
        "## **Print function**\n",
        "Syntax :\n",
        "print(value(s), sep= ‘ ‘, end = ‘\\n’, file=file, flush=flush)\n",
        "\n",
        "\n",
        "Parameters:\n",
        "\n",
        "\n",
        "- value(s): Any value, and as many as you like. Will be converted to a string before printed\n",
        "- sep=’separator’ : (Optional) Specify how to separate the objects, if there is more than one.Default :’ ‘\n",
        "- end=’end’: (Optional) Specify what to print at the end.Default : ‘\\n’\n",
        "- file : (Optional) An object with a write method. Default :sys.stdout\n",
        "- flush : (Optional) A Boolean, specifying if the output is flushed (True) or buffered (False). Default: False\n",
        "\n",
        "\n",
        "Return Type: It returns output to the screen."
      ],
      "metadata": {
        "id": "koLRwjtQg7rc"
      }
    },
    {
      "cell_type": "code",
      "source": [
        "try:\n",
        "  eval(\"print('doesn't')\")\n",
        "except SyntaxError:\n",
        "  print(\"Single quote use inside single quote is confusing for python\")\n",
        "\n",
        "try:\n",
        "  print('doesn\\'t')\n",
        "except SyntaxError:\n",
        "  print(\"Single quote use inside single quote can be done using an escape '/' sequence\")\n",
        "\n",
        "print(\"doesn't\") # The problem can b handled by using a double quote instead\n",
        "\n",
        "# print(\"Hi!\n",
        "# My name is Naman\")\n",
        "# not correct as will give syntax error and won't be compiled\n",
        "print(\"Hi!\\nMy name is Naman\") # correct\n",
        "\n",
        "#print(\"Hi!\\nMy name is \"Naman\"\") # not correct as it is a sytax error\n",
        "print(\"Hi!\\nMy name is \\\"Naman\\\"\")"
      ],
      "metadata": {
        "colab": {
          "base_uri": "https://localhost:8080/"
        },
        "id": "fuuezO2EmiMu",
        "outputId": "e1c826b8-a91a-4f22-b87c-f00f90bf99f6"
      },
      "execution_count": null,
      "outputs": [
        {
          "output_type": "stream",
          "name": "stdout",
          "text": [
            "Single quote use inside single quote is confusing for python\n",
            "doesn't\n",
            "doesn't\n",
            "Hi!\n",
            "My name is Naman\n",
            "Hi!\n",
            "My name is \"Naman\"\n"
          ]
        }
      ]
    },
    {
      "cell_type": "code",
      "source": [
        "print(\"Hey\", 6,7, sep=\"~\",end=\"009\\n\")\n",
        "print(\"Naman\")\n",
        "\n",
        "Name = 'Bond'\n",
        "code = '007'\n",
        "\n",
        "print(f'My name is {Name} and code is {code}')"
      ],
      "metadata": {
        "colab": {
          "base_uri": "https://localhost:8080/"
        },
        "id": "ZknnQNLVot5b",
        "outputId": "4cf5a038-6aea-4c8f-def3-22409cfdd5aa"
      },
      "execution_count": null,
      "outputs": [
        {
          "output_type": "stream",
          "name": "stdout",
          "text": [
            "Hey~6~7009\n",
            "Naman\n",
            "My name is Bond and code is 007\n"
          ]
        }
      ]
    },
    {
      "cell_type": "markdown",
      "source": [
        "## **Variables and Data Types**\n",
        "\n",
        "\n",
        "- Variables act as placeholders for data. They allow us to store and reuse values in our program.\n",
        "- Unlike many other programming languages, Python variables do not require explicit declaration of type.\n",
        "- The type of the variable is inferred based on the value assigned.\n",
        "\n",
        "**Rules for Naming Variables**\n",
        "\n",
        "To use variables effectively, we must follow Python’s naming rules:\n",
        "\n",
        "- Variable names can only contain letters, digits and underscores (_).\n",
        "- A variable name cannot start with a digit.\n",
        "Variable names are case-sensitive (myVar and myvar are different).\n",
        "- Avoid using Python keywords (e.g., if, else, for) as variable names.\n",
        "---\n",
        "\n",
        "- Python Data types are the classification or categorization of data items.\n",
        "- It represents the kind of value that tells what operations can be performed on a particular data.\n",
        "- Since everything is an object in Python programming, Python data types are classes and variables are instances (objects) of these classes.\n",
        "\n",
        "The following are the standard or built-in data types in Python:\n",
        "\n",
        "1.   Numeric - int, float, complex\n",
        "2.   Sequence Type - string, list, tuple\n",
        "3.   Mapping Type - dict\n",
        "4.   Boolean - bool\n",
        "5.   Set Type - set, frozenset\n",
        "6.   Binary Types - bytes, bytearray, memoryview\n"
      ],
      "metadata": {
        "id": "TScNHqSnpOG9"
      }
    },
    {
      "cell_type": "code",
      "source": [
        "_namw = 'aksnxon'\n",
        "x = 5\n",
        "y = 3.14\n",
        "z = \"Hi\"\n",
        "a = b = c = 100\n",
        "print(a, b, c)\n",
        "var = True\n",
        "d = None\n",
        "print(_namw + z)\n",
        "print(f'Data Type of x is {type(x)}')\n",
        "print(f'Data Type of y is {type(y)}')\n",
        "print(f'Data Type of z is {type(z)}')\n",
        "print(f'Data Type of var is {type(var)}')\n",
        "print(f'Data Type of d is {type(d)}')"
      ],
      "metadata": {
        "colab": {
          "base_uri": "https://localhost:8080/"
        },
        "id": "o1Wnb4_OpNzC",
        "outputId": "b2540f21-9a1f-48c3-b0e3-cf059e7ef3dc"
      },
      "execution_count": null,
      "outputs": [
        {
          "output_type": "stream",
          "name": "stdout",
          "text": [
            "100 100 100\n",
            "aksnxonHi\n",
            "Data Type of x is <class 'int'>\n",
            "Data Type of y is <class 'float'>\n",
            "Data Type of z is <class 'str'>\n",
            "Data Type of var is <class 'bool'>\n",
            "Data Type of d is <class 'NoneType'>\n"
          ]
        }
      ]
    },
    {
      "cell_type": "markdown",
      "source": [
        "### **Implicit Typecasting**\n",
        "\n",
        "Typecasting done by python to prevent data loss"
      ],
      "metadata": {
        "id": "rT2eXdbrI2sa"
      }
    },
    {
      "cell_type": "code",
      "source": [
        "a = 9.24\n",
        "b = 4\n",
        "\n",
        "print(a+b)\n",
        "print(type(a+b))\n",
        "# 4 is coverted to float type and then added to float object. Done by python only"
      ],
      "metadata": {
        "colab": {
          "base_uri": "https://localhost:8080/"
        },
        "id": "pR6TmgVNJHmb",
        "outputId": "521f250b-cac9-4fbf-af3b-b3d50ab191ac"
      },
      "execution_count": null,
      "outputs": [
        {
          "output_type": "stream",
          "name": "stdout",
          "text": [
            "13.24\n",
            "<class 'float'>\n"
          ]
        }
      ]
    },
    {
      "cell_type": "markdown",
      "source": [
        "### Explicit Typecasting\n",
        "\n",
        "The conversion of one data type into another data type done via developer or programmer's intervention or manually as per requirement is known as Explicit Type Conversion.\n",
        "\n",
        "int()\n",
        "\n",
        "float()\n",
        "\n",
        "hex()\n",
        "\n",
        "oct()\n",
        "\n",
        "str()"
      ],
      "metadata": {
        "id": "ciOBOfdTHX9O"
      }
    },
    {
      "cell_type": "code",
      "source": [
        "# Casting variables\n",
        "s = \"10\"  # Initially a string\n",
        "n = int(s)  # Cast string to integer\n",
        "cnt = 5\n",
        "f = float(cnt)  # Cast integer to float\n",
        "age = 25\n",
        "s2 = str(age)  # Cast integer to string\n",
        "t = 2.03\n",
        "p = 24\n",
        "hexa = hex(p)\n",
        "octal = oct(p)\n",
        "comp = complex(t)\n",
        "# Display results\n",
        "print(n, type(n))\n",
        "print(f, type(f))\n",
        "print(s2, type(s2))\n",
        "print(comp, type(comp))\n",
        "print(hexa, type(hexa))\n",
        "print(octal, type(octal))"
      ],
      "metadata": {
        "colab": {
          "base_uri": "https://localhost:8080/"
        },
        "id": "yjk0dX5FyyXE",
        "outputId": "afd6927f-aabb-481b-8489-8740b0072ecd"
      },
      "execution_count": null,
      "outputs": [
        {
          "output_type": "stream",
          "name": "stdout",
          "text": [
            "10 <class 'int'>\n",
            "5.0 <class 'float'>\n",
            "25 <class 'str'>\n",
            "(2.03+0j) <class 'complex'>\n",
            "0x18 <class 'str'>\n",
            "0o30 <class 'str'>\n"
          ]
        }
      ]
    },
    {
      "cell_type": "code",
      "source": [
        "s = 'Welcome to the Geeks World'\n",
        "print(s)\n",
        "\n",
        "# check data type\n",
        "print(type(s))\n",
        "\n",
        "# access string with index\n",
        "print(s[1])\n",
        "print(s[2])\n",
        "print(s[-1])"
      ],
      "metadata": {
        "colab": {
          "base_uri": "https://localhost:8080/"
        },
        "id": "G0ye3Ar9ztAL",
        "outputId": "5bbde9f7-e9cb-40b6-c2f1-c46011db388e"
      },
      "execution_count": null,
      "outputs": [
        {
          "output_type": "stream",
          "name": "stdout",
          "text": [
            "Welcome to the Geeks World\n",
            "<class 'str'>\n",
            "e\n",
            "l\n",
            "d\n"
          ]
        }
      ]
    },
    {
      "cell_type": "code",
      "source": [
        "# Empty list\n",
        "a = []\n",
        "\n",
        "# list with int values\n",
        "a = [1, 2, 3]\n",
        "print(a)\n",
        "\n",
        "# list with mixed int and string\n",
        "b = [\"Geeks\", \"For\", \"Geeks\", 4, 5]\n",
        "print(b)\n",
        "\n",
        "print(type(b))"
      ],
      "metadata": {
        "colab": {
          "base_uri": "https://localhost:8080/"
        },
        "id": "Of6lt3ftzzrJ",
        "outputId": "09b2b0ba-93a2-40cd-85fa-8cf12e60e7a8"
      },
      "execution_count": null,
      "outputs": [
        {
          "output_type": "stream",
          "name": "stdout",
          "text": [
            "[1, 2, 3]\n",
            "['Geeks', 'For', 'Geeks', 4, 5]\n",
            "<class 'list'>\n"
          ]
        }
      ]
    },
    {
      "cell_type": "code",
      "source": [
        "# initiate empty tuple\n",
        "t1 = ()\n",
        "\n",
        "t2 = ('Geeks', 'For')\n",
        "print(\"\\nTuple with the use of String: \", t2)\n",
        "print(type(t1))"
      ],
      "metadata": {
        "colab": {
          "base_uri": "https://localhost:8080/"
        },
        "id": "9ul65PMj0JX7",
        "outputId": "68b939c2-b435-45b4-b752-f63af623c29c"
      },
      "execution_count": null,
      "outputs": [
        {
          "output_type": "stream",
          "name": "stdout",
          "text": [
            "\n",
            "Tuple with the use of String:  ('Geeks', 'For')\n",
            "<class 'tuple'>\n"
          ]
        }
      ]
    },
    {
      "cell_type": "markdown",
      "source": [
        "### **Float Data Type**\n",
        "\n",
        "- A `float` represents a floating-point number, i.e., a number that has a decimal point.\n",
        "- Example: 3.14, -0.001, 2.0\n",
        "- Used to store real numbers, including those with fractional components.\n",
        "\n",
        "- Python uses double-precision (64-bit) floating-point format based on the IEEE 754 standard.\n",
        "- Very large and very small numbers, e.g., 1.7e308 to 5e-324\n",
        "- Like all Python primitive data types, float objects are immutable.\n",
        "\n"
      ],
      "metadata": {
        "id": "OIOpBYBBHYww"
      }
    },
    {
      "cell_type": "code",
      "source": [
        "print(1.7e308)\n",
        "print(5e-324)\n",
        "# greater than 1.8 * 10^308\n",
        "# will print 'inf'\n",
        "print(1.82e308)\n",
        "# less than 5 * 10^-324\n",
        "# will print 0.0\n",
        "print(5e-325)\n",
        "\n",
        "# if value is between 2.5e-324 and 5e-324\n",
        "# will print 5e-324\n",
        "# but at 2.4e-324 will print 0.0\n",
        "print(2.5e-324)\n",
        "print(2.4e-324)"
      ],
      "metadata": {
        "colab": {
          "base_uri": "https://localhost:8080/"
        },
        "id": "P9mUUVVuJWNg",
        "outputId": "6445e320-1b7a-4829-a76f-a7e1290999e3"
      },
      "execution_count": 52,
      "outputs": [
        {
          "output_type": "stream",
          "name": "stdout",
          "text": [
            "1.7e+308\n",
            "5e-324\n",
            "inf\n",
            "0.0\n",
            "5e-324\n",
            "0.0\n"
          ]
        }
      ]
    },
    {
      "cell_type": "markdown",
      "source": [
        "#### **Class Methods and Attributes**\n",
        "Called as float.class_method\n",
        "\n",
        "- `is_integer()`: Checks whether the float represents an integer value (e.g., 5.0 is an integer value).\n",
        "Returns True if the float is equivalent to an integer, False otherwise."
      ],
      "metadata": {
        "id": "vABcUR6OIeRD"
      }
    },
    {
      "cell_type": "code",
      "source": [
        "print((5.0).is_integer())  # Output: True\n",
        "print((5.2).is_integer())  # Output: False\n"
      ],
      "metadata": {
        "colab": {
          "base_uri": "https://localhost:8080/"
        },
        "id": "h3DEc3M_Iuid",
        "outputId": "98990d5c-2eee-4e5e-eea8-91bcaf091052"
      },
      "execution_count": 44,
      "outputs": [
        {
          "output_type": "execute_result",
          "data": {
            "text/plain": [
              "False"
            ]
          },
          "metadata": {},
          "execution_count": 44
        }
      ]
    },
    {
      "cell_type": "markdown",
      "source": [
        "- `as_integer_ratio()`: Returns the float as a fraction in the form of a tuple (numerator, denominator). Exact representation of the float as an integer ratio."
      ],
      "metadata": {
        "id": "z-O7XEsxJJbv"
      }
    },
    {
      "cell_type": "code",
      "source": [
        "def frac(d):\n",
        "\n",
        "    # Using as_integer_ratio\n",
        "    b = d.as_integer_ratio()\n",
        "\n",
        "    return b\n",
        "# Driver code\n",
        "if __name__=='__main__':\n",
        "    b = frac(3.5)\n",
        "    print(b[0], \"/\", b[1])"
      ],
      "metadata": {
        "colab": {
          "base_uri": "https://localhost:8080/"
        },
        "id": "ArV4IJUqNF0L",
        "outputId": "13f06bb8-5828-43e3-cd84-10350c032b53"
      },
      "execution_count": 53,
      "outputs": [
        {
          "output_type": "stream",
          "name": "stdout",
          "text": [
            "7 / 2\n"
          ]
        }
      ]
    },
    {
      "cell_type": "markdown",
      "source": [
        "## **Arithematic Operators**\n",
        "\n",
        "Python Arithmetic operators are used to perform basic mathematical operations like addition, subtraction, multiplication, and division.\n",
        "\n",
        "<img src=\"https://media.geeksforgeeks.org/wp-content/uploads/20240430181610/Operators-in-python.webp\" alt=\"drawing\" width=\"600\"/>\n",
        "\n",
        "![image.png](data:image/png;base64,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)"
      ],
      "metadata": {
        "id": "bJkqBMm66VK_"
      }
    },
    {
      "cell_type": "code",
      "source": [
        "print(5+6)\n",
        "print(5-6)\n",
        "print(5/6)\n",
        "print(5*6)\n",
        "print(15//6)\n",
        "print(15%6)\n",
        "print(5**6)"
      ],
      "metadata": {
        "colab": {
          "base_uri": "https://localhost:8080/"
        },
        "id": "qZO-eFLC8pmJ",
        "outputId": "8aef0cb1-a4a0-42f7-bbd1-b440b9e8a380"
      },
      "execution_count": null,
      "outputs": [
        {
          "output_type": "stream",
          "name": "stdout",
          "text": [
            "11\n",
            "-1\n",
            "0.8333333333333334\n",
            "30\n",
            "2\n",
            "3\n",
            "15625\n"
          ]
        }
      ]
    },
    {
      "cell_type": "markdown",
      "source": [
        "### **Created Calculator**\n",
        "\n",
        "Note: input() takes an input in terms of a string"
      ],
      "metadata": {
        "id": "LeESukxS9BIf"
      }
    },
    {
      "cell_type": "code",
      "source": [
        "a = int(input('enter a number:'))\n",
        "b = int(input('enter a number:'))\n",
        "\n",
        "print(\"addition of \",a,\" and \",b,\" is: \", a+b)\n",
        "print(\"subtraction of \",a,\" and \",b,\" is \", a-b)\n",
        "print(\"Division of \",a,\" and \", b,\" is \", a/b)\n",
        "print(\"multiplication of \",a,\" and \",b,\" is \", a*b)\n",
        "print(\"floor division of \",a,\" and \",b,\" is \", a//b)\n",
        "print(\"modulus of \",a,\" and \",b,\" is \", a%b)\n"
      ],
      "metadata": {
        "colab": {
          "base_uri": "https://localhost:8080/"
        },
        "id": "erwd5h_w9Ans",
        "outputId": "268deec1-e262-4888-b6ea-19872204f834"
      },
      "execution_count": null,
      "outputs": [
        {
          "output_type": "stream",
          "name": "stdout",
          "text": [
            "enter a number:12\n",
            "enter a number:56\n",
            "addition of  12  and  56  is:  68\n",
            "subtraction of  12  and  56  is  -44\n",
            "Division of  12  and  56  is  0.21428571428571427\n",
            "multiplication of  12  and  56  is  672\n",
            "floor division of  12  and  56  is  0\n",
            "modulus of  12  and  56  is  12\n"
          ]
        }
      ]
    },
    {
      "cell_type": "markdown",
      "source": [
        "## **is vs ==**\n",
        "In Python, is and == are both comparison operators that can be used to check if two values are equal. However, there are some important differences between the two that you should be aware of.\n",
        "\n",
        "The is operator compares the identity of two objects, while the == operator compares the values of the objects. This means that is will only return True if the objects being compared are the exact same object in memory, while == will return True if the objects have the same value."
      ],
      "metadata": {
        "id": "AfluFnnEUqfm"
      }
    },
    {
      "cell_type": "code",
      "source": [
        "a = [1, 2, 3]\n",
        "b = [1, 2, 3]\n",
        "\n",
        "print(a == b)  # True\n",
        "print(a is b)  # False"
      ],
      "metadata": {
        "colab": {
          "base_uri": "https://localhost:8080/"
        },
        "id": "IdfwUw1tUpiP",
        "outputId": "520f2431-38d4-4203-a182-bad2e85fdc96"
      },
      "execution_count": null,
      "outputs": [
        {
          "output_type": "stream",
          "name": "stdout",
          "text": [
            "True\n",
            "False\n"
          ]
        }
      ]
    },
    {
      "cell_type": "markdown",
      "source": [
        "One important thing to note is that, in Python, strings and integers are immutable, which means that once they are created, their value cannot be changed. This means that, for strings and integers, is and == will always return the same result"
      ],
      "metadata": {
        "id": "dNMNDgmZVCYO"
      }
    },
    {
      "cell_type": "code",
      "source": [
        "a = \"hello\"\n",
        "b = \"hello\"\n",
        "\n",
        "print(a == b)  # True\n",
        "print(a is b)  # True\n",
        "\n",
        "a = 5\n",
        "b = 5\n",
        "\n",
        "print(a == b)  # True\n",
        "print(a is b)  # True"
      ],
      "metadata": {
        "id": "GhI-5-hvVDuz",
        "outputId": "12d3d6e6-6622-4323-ab7b-515af8db88ad",
        "colab": {
          "base_uri": "https://localhost:8080/"
        }
      },
      "execution_count": null,
      "outputs": [
        {
          "output_type": "stream",
          "name": "stdout",
          "text": [
            "True\n",
            "True\n",
            "True\n",
            "True\n"
          ]
        }
      ]
    },
    {
      "cell_type": "markdown",
      "source": [
        "## **Break and Continue**\n",
        "\n",
        "**break**\n",
        "- Purpose: Exits the nearest enclosing loop (for or while) immediately.\n",
        "- Use Case: When you want to stop the loop prematurely based on a condition.\n",
        "\n",
        "**continue**\n",
        "- Purpose: Skips the rest of the code inside the loop for the current iteration and moves to the next iteration.\n",
        "- Use Case: When you want to skip certain iterations based on a condition but continue looping."
      ],
      "metadata": {
        "id": "8LAZ50eBYrCn"
      }
    },
    {
      "cell_type": "markdown",
      "source": [
        "## **Loops**\n",
        "for(), while() and do-while()\n",
        "\n",
        "- A for loop is used for iterating over a sequence (that is either a list, a tuple, a dictionary, a set, or a string).\n",
        "\n",
        "- This is less like the for keyword in other programming languages, and works more like an iterator method as found in other object-orientated programming languages.\n",
        "\n",
        "- Python While Loop is used to execute a block of statements repeatedly until a given condition is satisfied.\n",
        "\n",
        "- Do-while is a loop in which a set of instructions will execute at least once (irrespective of condition) and then the repetition of loop's body will depend on the condition passed at the end of the while loop. It is known as an exit-controlled loop.\n"
      ],
      "metadata": {
        "id": "ClQ5XyEzFqMC"
      }
    },
    {
      "cell_type": "code",
      "source": [
        "for i in range(1,101):\n",
        "  if i  % 25 == 0:\n",
        "    print(i, end = \"\\n\")\n",
        "    continue\n",
        "  print(i, end = \" \")"
      ],
      "metadata": {
        "colab": {
          "base_uri": "https://localhost:8080/"
        },
        "id": "EA4f74esG80S",
        "outputId": "2ba45868-9983-4abb-d87a-e0943aa964c1"
      },
      "execution_count": null,
      "outputs": [
        {
          "output_type": "stream",
          "name": "stdout",
          "text": [
            "1 2 3 4 5 6 7 8 9 10 11 12 13 14 15 16 17 18 19 20 21 22 23 24 25\n",
            "26 27 28 29 30 31 32 33 34 35 36 37 38 39 40 41 42 43 44 45 46 47 48 49 50\n",
            "51 52 53 54 55 56 57 58 59 60 61 62 63 64 65 66 67 68 69 70 71 72 73 74 75\n",
            "76 77 78 79 80 81 82 83 84 85 86 87 88 89 90 91 92 93 94 95 96 97 98 99 100\n"
          ]
        }
      ]
    },
    {
      "cell_type": "markdown",
      "source": [
        "In loops having an else statement with it, the statement in the else block will be executed after all the iterations are completed. The program exits the loop only after the else block is executed.\n",
        "\n",
        "In case the loop didn't complete its iterative operation the else block won't be executed"
      ],
      "metadata": {
        "id": "cpGfE4YJCEvb"
      }
    },
    {
      "cell_type": "code",
      "source": [
        "i = 0\n",
        "while i < 4:\n",
        "    i += 1\n",
        "    print(i)\n",
        "else:  # Executed because no break in for\n",
        "    print(\"No Break\\n\")\n",
        "\n",
        "i = 0\n",
        "while i < 4:\n",
        "    i += 1\n",
        "    print(i)\n",
        "    break\n",
        "else:  # Not executed as there is a break\n",
        "    print(\"No Break\")"
      ],
      "metadata": {
        "colab": {
          "base_uri": "https://localhost:8080/"
        },
        "id": "WNqeuhluG6RG",
        "outputId": "d3375493-3d26-46cf-b155-5d309a4192bf"
      },
      "execution_count": null,
      "outputs": [
        {
          "output_type": "stream",
          "name": "stdout",
          "text": [
            "1\n",
            "2\n",
            "3\n",
            "4\n",
            "No Break\n",
            "\n",
            "1\n"
          ]
        }
      ]
    },
    {
      "cell_type": "code",
      "source": [
        "# Using for with else\n",
        "for i in range(1, 5):\n",
        "    print(i)\n",
        "    #break\n",
        "else:  # Executed because no break in for\n",
        "    print(\"No Break\\n\")"
      ],
      "metadata": {
        "colab": {
          "base_uri": "https://localhost:8080/"
        },
        "id": "R-2wGHLqBc7r",
        "outputId": "65cd18a2-033b-4cdf-d78c-1d8ab31e35a7"
      },
      "execution_count": null,
      "outputs": [
        {
          "output_type": "stream",
          "name": "stdout",
          "text": [
            "1\n"
          ]
        }
      ]
    },
    {
      "cell_type": "code",
      "source": [],
      "metadata": {
        "id": "UelCgHwABc0E"
      },
      "execution_count": null,
      "outputs": []
    },
    {
      "cell_type": "markdown",
      "source": [
        "## **Functions**\n",
        "\n",
        "A function is a block of code that performs a specific task whenever it is called.\n",
        "\n",
        "![image](https://media.geeksforgeeks.org/wp-content/uploads/20220721172423/51.png)\n",
        "\n"
      ],
      "metadata": {
        "id": "38qw0tiMUK6M"
      }
    },
    {
      "cell_type": "code",
      "source": [
        "def fibo(n: int):\n",
        "    \"\"\"\n",
        "    Calculate the nth Fibonacci number.\n",
        "\n",
        "    Args:\n",
        "        n (int): The index of the Fibonacci number to calculate.\n",
        "\n",
        "    Returns:\n",
        "        None\n",
        "    \"\"\"\n",
        "\n",
        "    a = 0\n",
        "    b = 1\n",
        "\n",
        "    if n >= 0:\n",
        "        print(0,end = \" \")\n",
        "    if n >= 1:\n",
        "        print (1, end = \" \")\n",
        "    if n > 1:\n",
        "      for i in range (2,n):\n",
        "        c = a+b\n",
        "        a = b\n",
        "        b = c\n",
        "        print(c,end = \" \")\n",
        "\n",
        "\n",
        "\n",
        "fibo(5)\n"
      ],
      "metadata": {
        "colab": {
          "base_uri": "https://localhost:8080/"
        },
        "id": "DeKM3SFQWW8F",
        "outputId": "4a62fd72-f3de-496f-e056-1973aabeeb90"
      },
      "execution_count": null,
      "outputs": [
        {
          "output_type": "stream",
          "name": "stdout",
          "text": [
            "0 1 1 2 3 "
          ]
        }
      ]
    },
    {
      "cell_type": "markdown",
      "source": [
        "We can provide arguments with key = value, this way the interpreter recognizes the arguments by the parameter name. Hence, the order in which the arguments are passes does not matter."
      ],
      "metadata": {
        "id": "UyAS3gA4cAAA"
      }
    },
    {
      "cell_type": "code",
      "source": [
        "def add(a = 9, b = 1)-> int: # default arguments\n",
        "  return a+b\n",
        "\n",
        "a1 = 10\n",
        "b1 = 34\n",
        "print(add(a1,b1))\n",
        "\n",
        "print(add(a1))\n",
        "\n",
        "print(add(b1))\n",
        "\n",
        "#print(add(_,b)) Incorrect prints a different value.\n",
        "print(add(b=b1)) #Sends the b1 variable value to b argument\n",
        "\n",
        "print(add(b=b1,a=a1))\n"
      ],
      "metadata": {
        "colab": {
          "base_uri": "https://localhost:8080/"
        },
        "id": "U9NyhREWafxz",
        "outputId": "0f7a1e81-bc5b-46bc-9cc7-f5e9ea7cc7ce"
      },
      "execution_count": null,
      "outputs": [
        {
          "output_type": "stream",
          "name": "stdout",
          "text": [
            "44\n",
            "11\n",
            "35\n",
            "43\n",
            "44\n"
          ]
        }
      ]
    },
    {
      "cell_type": "markdown",
      "source": [
        "The special syntax *args in function definitions is used to pass a variable number of arguments to a function. It is used to pass a non-keyworded, variable-length argument list."
      ],
      "metadata": {
        "id": "MDxc0SPmjnVR"
      }
    },
    {
      "cell_type": "code",
      "source": [
        "def average(*nums)->int: #*nums inputs argument as tuples\n",
        "  print(type(nums))\n",
        "  sum = 0\n",
        "  for i in nums:\n",
        "    # if i==1:\n",
        "    #   print(type(i))\n",
        "    sum += i\n",
        "  avg = sum/len(nums)\n",
        "  return avg\n",
        "\n",
        "print(f'Average of Sums: {average(1,2,3,4,5,6,24,57,12,14,52)}')"
      ],
      "metadata": {
        "colab": {
          "base_uri": "https://localhost:8080/"
        },
        "id": "NWCwQHHaernU",
        "outputId": "26838006-0ad1-4444-960a-6dbb82c6cb95"
      },
      "execution_count": null,
      "outputs": [
        {
          "output_type": "stream",
          "name": "stdout",
          "text": [
            "<class 'tuple'>\n",
            "Average of Sums: 16.363636363636363\n"
          ]
        }
      ]
    },
    {
      "cell_type": "code",
      "source": [
        "def fun(arg1, *argv):\n",
        "    print(\"First argument :\", arg1)\n",
        "    for arg in argv:\n",
        "        print(\"Argument *argv :\", arg)\n",
        "\n",
        "\n",
        "fun('Hello', 'Welcome', 'to', 'GeeksforGeeks')"
      ],
      "metadata": {
        "colab": {
          "base_uri": "https://localhost:8080/"
        },
        "id": "HCpVTx8MjsD8",
        "outputId": "cc49fb66-760f-4bb0-b04a-028eb2d41d44"
      },
      "execution_count": null,
      "outputs": [
        {
          "output_type": "stream",
          "name": "stdout",
          "text": [
            "First argument : Hello\n",
            "Argument *argv : Welcome\n",
            "Argument *argv : to\n",
            "Argument *argv : GeeksforGeeks\n"
          ]
        }
      ]
    },
    {
      "cell_type": "markdown",
      "source": [
        "The special syntax \\*\\*kwargs in function definitions is used to pass a variable length argument list. We use the name kwargs with the double star \\*\\*."
      ],
      "metadata": {
        "id": "y7NzNbvejwHi"
      }
    },
    {
      "cell_type": "code",
      "source": [
        "def fun(**kwargs): # Basically shares unknown number of key-value pairs\n",
        "    for k, val in kwargs.items():\n",
        "        print(\"%s == %s\" % (k, val))\n",
        "\n",
        "\n",
        "# Driver code\n",
        "fun(s1='Geeks', s2='for', s3='Geeks')"
      ],
      "metadata": {
        "colab": {
          "base_uri": "https://localhost:8080/"
        },
        "id": "xWowBTCdjvP0",
        "outputId": "1097ddf0-f104-4291-ccb6-5aff5285b32e"
      },
      "execution_count": null,
      "outputs": [
        {
          "output_type": "stream",
          "name": "stdout",
          "text": [
            "s1 == Geeks\n",
            "s2 == for\n",
            "s3 == Geeks\n"
          ]
        }
      ]
    },
    {
      "cell_type": "markdown",
      "source": [
        "## **Lists**\n",
        "- A list is a data structure that is ordered, mutable, and allows duplicate elements.\n",
        "- Allows different data types in a single list"
      ],
      "metadata": {
        "id": "f4znngUv0P7A"
      }
    },
    {
      "cell_type": "code",
      "execution_count": null,
      "metadata": {
        "colab": {
          "base_uri": "https://localhost:8080/"
        },
        "id": "s39X1N5VzoOh",
        "outputId": "9cf0027c-ebd5-400d-e6c6-b446dd36aa4f"
      },
      "outputs": [
        {
          "output_type": "stream",
          "name": "stdout",
          "text": [
            "['a', 'b', 'c']\n",
            "[1, 2, 3, 4, 5, 6]\n",
            "[]\n",
            "[1, True, 'tracking']\n"
          ]
        }
      ],
      "source": [
        "# Creating and printing lists\n",
        "myList = [\"a\", \"b\", \"c\"]\n",
        "print(myList)\n",
        "\n",
        "myList2 = [1, 2, 3, 4, 5, 6]\n",
        "print(myList2)\n",
        "\n",
        "myList3 = list()  # Empty list\n",
        "print(myList3)\n",
        "\n",
        "myList4 = [1, True, \"tracking\"]\n",
        "print(myList4)\n"
      ]
    },
    {
      "cell_type": "code",
      "source": [
        "# Accessing elements by index\n",
        "item = myList2[2]  # Element at index 2\n",
        "print(item)\n",
        "\n",
        "item1 = myList2[-2]  # 2nd last element\n",
        "print(item1)\n"
      ],
      "metadata": {
        "colab": {
          "base_uri": "https://localhost:8080/"
        },
        "id": "3iWPyyohJbOq",
        "outputId": "2051976c-3b73-49c6-ea2a-a61778d12696"
      },
      "execution_count": null,
      "outputs": [
        {
          "output_type": "stream",
          "name": "stdout",
          "text": [
            "3\n",
            "5\n"
          ]
        }
      ]
    },
    {
      "cell_type": "code",
      "source": [
        "# Iterating through a list\n",
        "for i in myList2:\n",
        "    if i != myList2[-1]:\n",
        "        print(i, end=\" \")  # Print with a space instead of newline\n",
        "    else:\n",
        "        print(i)\n"
      ],
      "metadata": {
        "colab": {
          "base_uri": "https://localhost:8080/"
        },
        "id": "Gi1Oc6ffJdlj",
        "outputId": "bef720f5-d638-4037-ee71-b1e253e5ef48"
      },
      "execution_count": null,
      "outputs": [
        {
          "output_type": "stream",
          "name": "stdout",
          "text": [
            "1 2 3 4 5 6\n"
          ]
        }
      ]
    },
    {
      "cell_type": "code",
      "source": [
        "# Checking for elements in the list\n",
        "myList5 = [\"apple\", \"banana\", \"cherry\", \"date\"]\n",
        "if \"banana\" in myList5:\n",
        "    print(\"yes\")\n",
        "else:\n",
        "    print(\"no\")\n",
        "\n",
        "if \"lemon\" in myList5:\n",
        "    print(True)\n",
        "else:\n",
        "    print(False)\n"
      ],
      "metadata": {
        "colab": {
          "base_uri": "https://localhost:8080/"
        },
        "id": "2ynwK_PCJnFo",
        "outputId": "25998402-6b11-4855-a7c1-0930c6426625"
      },
      "execution_count": null,
      "outputs": [
        {
          "output_type": "stream",
          "name": "stdout",
          "text": [
            "yes\n",
            "False\n"
          ]
        }
      ]
    },
    {
      "cell_type": "code",
      "source": [
        "# Checking for elements in the list\n",
        "myList5 = [\"apple\", \"banana\", \"cherry\", \"date\"]\n",
        "if \"banana\" in myList5:\n",
        "    print(\"yes\")\n",
        "else:\n",
        "    print(\"no\")\n",
        "\n",
        "if \"lemon\" in myList5:\n",
        "    print(True)\n",
        "else:\n",
        "    print(False)\n"
      ],
      "metadata": {
        "colab": {
          "base_uri": "https://localhost:8080/"
        },
        "id": "_XcaEnCQJpSr",
        "outputId": "9e206aeb-281a-4299-ef42-38af81fd0927"
      },
      "execution_count": null,
      "outputs": [
        {
          "output_type": "stream",
          "name": "stdout",
          "text": [
            "yes\n",
            "False\n"
          ]
        }
      ]
    },
    {
      "cell_type": "code",
      "source": [
        "# Finding the length of a list\n",
        "print(len(myList5))\n"
      ],
      "metadata": {
        "colab": {
          "base_uri": "https://localhost:8080/"
        },
        "id": "3sOekcHfJqo6",
        "outputId": "143b1ce2-d363-4361-ce30-af126d36e270"
      },
      "execution_count": null,
      "outputs": [
        {
          "output_type": "stream",
          "name": "stdout",
          "text": [
            "4\n"
          ]
        }
      ]
    },
    {
      "cell_type": "code",
      "source": [
        "# Appending and inserting elements\n",
        "myList5.append(\"lemon\")\n",
        "print(myList5)\n",
        "\n",
        "myList5.insert(1, \"kiwi\")\n",
        "print(myList5)\n"
      ],
      "metadata": {
        "colab": {
          "base_uri": "https://localhost:8080/"
        },
        "id": "xZeW6D1IJwNF",
        "outputId": "b01e8cc4-794c-43de-b7b3-eaf5c0d9ede4"
      },
      "execution_count": null,
      "outputs": [
        {
          "output_type": "stream",
          "name": "stdout",
          "text": [
            "['apple', 'banana', 'cherry', 'date', 'lemon']\n",
            "['apple', 'kiwi', 'banana', 'cherry', 'date', 'lemon']\n"
          ]
        }
      ]
    },
    {
      "cell_type": "code",
      "source": [
        "# Removing and popping elements\n",
        "item = myList5.pop()  # Remove last element\n",
        "print(item)\n",
        "print(myList5)\n",
        "\n",
        "item = myList5.pop(2)  # Remove element at index 2\n",
        "print(item)\n",
        "print(myList5)\n",
        "\n",
        "myList5.remove(\"kiwi\")  # Remove element by value\n",
        "print(myList5)\n"
      ],
      "metadata": {
        "colab": {
          "base_uri": "https://localhost:8080/"
        },
        "id": "vSVIOBZGJxmR",
        "outputId": "01551b64-f7bf-41c6-ef2a-4c572407b77c"
      },
      "execution_count": null,
      "outputs": [
        {
          "output_type": "stream",
          "name": "stdout",
          "text": [
            "lemon\n",
            "['apple', 'kiwi', 'banana', 'cherry', 'date']\n",
            "banana\n",
            "['apple', 'kiwi', 'cherry', 'date']\n",
            "['apple', 'cherry', 'date']\n"
          ]
        }
      ]
    },
    {
      "cell_type": "code",
      "source": [
        "# Clearing all elements from the list\n",
        "myList5.clear()\n",
        "print(myList5)\n"
      ],
      "metadata": {
        "colab": {
          "base_uri": "https://localhost:8080/"
        },
        "id": "1ZAEK3RXJzG0",
        "outputId": "70d92cdb-bc36-4c34-d1ec-3e06c746c36d"
      },
      "execution_count": null,
      "outputs": [
        {
          "output_type": "stream",
          "name": "stdout",
          "text": [
            "[]\n"
          ]
        }
      ]
    },
    {
      "cell_type": "code",
      "source": [
        "# Reversing a list\n",
        "myList2.reverse()  # In-place reversal\n",
        "print(myList2)\n"
      ],
      "metadata": {
        "colab": {
          "base_uri": "https://localhost:8080/"
        },
        "id": "7F8SzH8cJ7CE",
        "outputId": "236d362b-51ff-4bae-9c61-f2438befdc29"
      },
      "execution_count": null,
      "outputs": [
        {
          "output_type": "stream",
          "name": "stdout",
          "text": [
            "[6, 5, 4, 3, 2, 1]\n"
          ]
        }
      ]
    },
    {
      "cell_type": "code",
      "source": [
        "# Sorting a list\n",
        "myList5 = [5, 2, 8, 1, 9, 10, -23, -5, 3.6, 320]\n",
        "myList5.sort()  # In-place sorting\n",
        "print(myList5)\n"
      ],
      "metadata": {
        "colab": {
          "base_uri": "https://localhost:8080/"
        },
        "id": "VOWXd1UrJ8oU",
        "outputId": "00badd19-ccc3-43ff-c8ee-73e08c9c1a05"
      },
      "execution_count": null,
      "outputs": [
        {
          "output_type": "stream",
          "name": "stdout",
          "text": [
            "[-23, -5, 1, 2, 3.6, 5, 8, 9, 10, 320]\n"
          ]
        }
      ]
    },
    {
      "cell_type": "code",
      "source": [
        "# Using sorted to create a new sorted list\n",
        "myList5 = [5, 2, 8, 1, 9, 10, -23, -5, 3.6, 320]\n",
        "New_sorted = sorted(myList5)\n",
        "print(New_sorted)\n"
      ],
      "metadata": {
        "colab": {
          "base_uri": "https://localhost:8080/"
        },
        "id": "E5Y6YLdQJ97v",
        "outputId": "2041d3c0-cc9f-484e-8697-2a2001211e92"
      },
      "execution_count": null,
      "outputs": [
        {
          "output_type": "stream",
          "name": "stdout",
          "text": [
            "[-23, -5, 1, 2, 3.6, 5, 8, 9, 10, 320]\n"
          ]
        }
      ]
    },
    {
      "cell_type": "code",
      "source": [
        "# Creating a list with default values\n",
        "myList5 = [0] * 5\n",
        "print(myList5)\n"
      ],
      "metadata": {
        "colab": {
          "base_uri": "https://localhost:8080/"
        },
        "id": "-6THLSwmJ_Nw",
        "outputId": "61d5afa9-18e1-4462-ed52-046f23dae8ed"
      },
      "execution_count": null,
      "outputs": [
        {
          "output_type": "stream",
          "name": "stdout",
          "text": [
            "[0, 0, 0, 0, 0]\n"
          ]
        }
      ]
    },
    {
      "cell_type": "code",
      "source": [
        "# Concatenating two lists\n",
        "print(myList2 + myList4)\n"
      ],
      "metadata": {
        "colab": {
          "base_uri": "https://localhost:8080/"
        },
        "id": "B1WyWZ6TKA_A",
        "outputId": "0d74e9ec-ec23-4a47-cedf-3b44c484f762"
      },
      "execution_count": null,
      "outputs": [
        {
          "output_type": "stream",
          "name": "stdout",
          "text": [
            "[6, 5, 4, 3, 2, 1, 1, True, 'tracking']\n"
          ]
        }
      ]
    },
    {
      "cell_type": "code",
      "source": [
        "# Slicing a list\n",
        "myList = [10, 20, 30, 40, 50, 60, 70, 80, 90]\n",
        "print(f'myList[2:5] = {myList[2:5]}')  # Basic slicing\n",
        "print(f'myList[:4] = {myList[:4]}')   # Slicing from start\n",
        "print(f'myList[3:] = {myList[3:]}')   # Slicing to end\n",
        "print(f'myList[1:8:2] = {myList[1:8:2]}')  # Slicing with step\n",
        "print(f'myList[::-1] = {myList[::-1]}', end = \"\\n\\n\")   # Reverse slicing\n",
        "\n",
        "# Modifying a slice\n",
        "myList[2:5] = [300, 400, 500]\n",
        "print(myList, end = \"\\n\\n\")\n",
        "\n",
        "# Accessing with negative indices\n",
        "print(myList[-3], end = \"\\n\\n\")  # Single element\n",
        "print(myList[-5:-2], end = \"\\n\\n\")  # Range\n"
      ],
      "metadata": {
        "colab": {
          "base_uri": "https://localhost:8080/"
        },
        "id": "XPe6DyRnKCXU",
        "outputId": "6ceb064a-27b8-483c-cd20-e2ebbc9823ca"
      },
      "execution_count": null,
      "outputs": [
        {
          "output_type": "stream",
          "name": "stdout",
          "text": [
            "myList[2:5] = [30, 40, 50]\n",
            "myList[:4] = [10, 20, 30, 40]\n",
            "myList[3:] = [40, 50, 60, 70, 80, 90]\n",
            "myList[1:8:2] = [20, 40, 60, 80]\n",
            "myList[::-1] = [90, 80, 70, 60, 50, 40, 30, 20, 10]\n",
            "\n",
            "[10, 20, 300, 400, 500, 60, 70, 80, 90]\n",
            "\n",
            "70\n",
            "\n",
            "[500, 60, 70]\n",
            "\n"
          ]
        }
      ]
    },
    {
      "cell_type": "code",
      "source": [
        "# Copying lists\n",
        "myList = [10, 20, 30, 40, 50, 60, 70, 80, 90]\n",
        "newList = myList  # Shares reference\n",
        "print(newList)\n",
        "print(myList)\n",
        "\n",
        "newList += [100, 110]\n",
        "print(newList)\n",
        "print(myList)  # Both lists change\n",
        "\n",
        "# Copying with .copy() or slicing\n",
        "myList = [1, 2, 3, 4, 5]\n",
        "newList = myList.copy()  # Independent copy\n",
        "print(newList)\n",
        "\n",
        "newList = myList[:]  # Another way to copy\n",
        "newList.append(6)\n",
        "print(newList)\n",
        "print(myList)\n"
      ],
      "metadata": {
        "colab": {
          "base_uri": "https://localhost:8080/"
        },
        "id": "njRimt9LKzRp",
        "outputId": "b750e1c7-a063-44af-9464-84233582ccaf"
      },
      "execution_count": null,
      "outputs": [
        {
          "output_type": "stream",
          "name": "stdout",
          "text": [
            "[10, 20, 30, 40, 50, 60, 70, 80, 90]\n",
            "[10, 20, 30, 40, 50, 60, 70, 80, 90]\n",
            "[10, 20, 30, 40, 50, 60, 70, 80, 90, 100, 110]\n",
            "[10, 20, 30, 40, 50, 60, 70, 80, 90, 100, 110]\n",
            "[1, 2, 3, 4, 5]\n",
            "[1, 2, 3, 4, 5, 6]\n",
            "[1, 2, 3, 4, 5]\n"
          ]
        }
      ]
    },
    {
      "cell_type": "code",
      "source": [
        "# Square each element in the list\n",
        "squared_list = [x**2 for x in myList]\n",
        "print(squared_list)\n",
        "\n",
        "# Filter even numbers\n",
        "even_numbers = [x for x in myList if x % 2 == 0]\n",
        "print(even_numbers)\n"
      ],
      "metadata": {
        "colab": {
          "base_uri": "https://localhost:8080/"
        },
        "id": "udPM9eg4K1vn",
        "outputId": "10983a32-8c09-4352-e00e-ccfa6d744a3f"
      },
      "execution_count": null,
      "outputs": [
        {
          "output_type": "stream",
          "name": "stdout",
          "text": [
            "[1, 4, 9, 16, 25]\n",
            "[2, 4]\n"
          ]
        }
      ]
    },
    {
      "cell_type": "markdown",
      "source": [
        "### **List Comprehensions**\n",
        "\n",
        "Offers a shorter syntax when you want to create a list based on the values of an existing list."
      ],
      "metadata": {
        "id": "kcb8NFw2a1y1"
      }
    },
    {
      "cell_type": "code",
      "source": [
        "Marks = {'naman': 24, 'alex' : 21, 'ritu' :  25, 'trent' : 19, 'haru': 18}\n",
        "\n",
        "grade_a = [key for key,value in Marks.items() if value > 20 ]\n",
        "\n",
        "print(grade_a)"
      ],
      "metadata": {
        "colab": {
          "base_uri": "https://localhost:8080/"
        },
        "id": "XwiAK2IMb29F",
        "outputId": "9092f879-5a2a-497a-dc19-389743d582ca"
      },
      "execution_count": null,
      "outputs": [
        {
          "output_type": "stream",
          "name": "stdout",
          "text": [
            "['naman', 'alex', 'ritu']\n"
          ]
        }
      ]
    },
    {
      "cell_type": "markdown",
      "source": [
        "## **Tuples**\n",
        "A Tuple is an ordered, immutable, data structure in python that allows duplicate elements.\n",
        "\n",
        "# Tuples vs Lists: Comparison\n",
        "\n",
        "| Feature                  | Tuples                          | Lists                          |\n",
        "|--------------------------|----------------------------------|--------------------------------|\n",
        "| **Mutability**           | Immutable                       | Mutable                       |\n",
        "| **Syntax**               | Defined using `()`              | Defined using `[]`            |\n",
        "| **Performance**          | Faster due to immutability      | Slower due to mutability      |\n",
        "| **Use Case**             | Fixed collections of items      | Collections requiring changes |\n",
        "| **Storage**              | Less memory usage               | More memory usage             |\n",
        "| **Functions Allowed**    | Limited due to immutability     | Extensive due to mutability   |\n",
        "| **Hashable**             | Hashable (if containing only immutable items) | Not hashable                 |\n",
        "| **Iteration**            | Slightly faster iteration       | Slightly slower iteration     |\n",
        "| **Error-prone**          | Safer from accidental changes   | Prone to accidental changes   |\n",
        "| **Common Applications**  | Keys in dictionaries, constants | Dynamic data storage          |\n",
        "| **Memory Allocation**   | Allocated dynamically for resizing   | Fixed size, allocated statically      |\n",
        "| **Internal Structure**  | Array of references with extra space for growth | Array of references with no extra space |\n",
        "| **Execution**           | Slower due to dynamic resizing and mutability | Faster due to immutability and static nature |\n",
        "| **Garbage Collection**  | More frequent due to resizing and mutability | Less frequent due to fixed size      |\n",
        "| **Immutability Impact** | Requires checks for changes during execution | No need to check for changes          |\n",
        "\n",
        "\n"
      ],
      "metadata": {
        "id": "qN8yckuELAQy"
      }
    },
    {
      "cell_type": "code",
      "source": [
        "# Property Showoff\n",
        "myTuple = (\"apple\", \"banana\", \"cherry\", \"date\")\n",
        "print(myTuple)\n",
        "\n",
        "\n",
        "myTuple1 = (1)\n",
        "print(type(myTuple1))\n",
        "\n",
        "myTuple2 = (1,) # A comma can make an integer into a tuple\n",
        "print(type(myTuple2))\n",
        "\n",
        "# built in tuple function\n",
        "myTuple3 = tuple([\"apple\", \"banana\", \"cherry\", \"date\"])\n",
        "print(myTuple3)\n",
        "\n",
        "# insertion\n",
        "my_tuple = (1, 2, 3, 4, 5)\n",
        "new_element = 6\n",
        "new_tuple = my_tuple + (new_element,)  # Create a new tuple with the new element\n",
        "print(new_tuple)\n",
        "\n",
        "# index use in tuple\n",
        "print(myTuple3.index(\"banana\"))\n",
        "\n",
        "# iteration in tuple\n",
        "for i in myTuple3:\n",
        "    print(i, end = \" \")\n",
        "\n",
        "# check element in tuple\n",
        "if \"banana\" in myTuple3:\n",
        "    print(\"yes\")\n",
        "else:\n",
        "  print(\"no\")\n",
        "\n",
        "# len of tuple\n",
        "print(len(myTuple3))\n",
        "\n",
        "# count in tuple\n",
        "print(myTuple3.count(\"apple\"))\n",
        "\n",
        "# slicing in tuple\n",
        "print(myTuple3[1:3])\n",
        "\n",
        "# index finding\n",
        "print(myTuple3.index(\"cherry\"))\n",
        "# If the element is not present it will raise a ValueError\n",
        "\n",
        "# conversion to list and back to tuple\n",
        "myList = list(myTuple3)\n",
        "myList.append(\"lemon\")\n",
        "myTuple3 = tuple(myList)\n",
        "print(myTuple3)\n",
        "\n",
        "# copying in a tuple\n",
        "myTuple4 = myTuple3\n",
        "print(myTuple4)\n",
        "\n",
        "# element extraction from the tuple and its rules\n",
        "a, b, *other, d = myTuple3\n",
        "print(a)\n",
        "print(b)\n",
        "print(other)\n",
        "print(d)\n",
        "\n",
        "try:\n",
        "    a, b, c = myTuple3  # This will raise a ValueError if the tuple has more than 3 elements\n",
        "    print(a)\n",
        "    print(b)\n",
        "    print(c)\n",
        "except ValueError as e:\n",
        "    print(f\"Error: {e}\")\n",
        "    print(\"The tuple has more than 3 elements.  Handle this situation appropriately.\")\n",
        "\n",
        "\n",
        "# comparison on the basis of size and time for creation of a tuple and list\n",
        "import sys\n",
        "import timeit\n",
        "\n",
        "my_list = list(range(1000000))  # Example list\n",
        "my_tuple = tuple(range(1000000))  # Example tuple\n",
        "\n",
        "print(\"List size:\", sys.getsizeof(my_list))\n",
        "print(\"Tuple size:\", sys.getsizeof(my_tuple))\n",
        "\n",
        "# Time comparison for list creation\n",
        "list_creation_time = timeit.timeit(stmt='[1, 2, 3, 4, 5]', number=1000000)\n",
        "print(f\"List creation time: {list_creation_time}\")\n",
        "\n",
        "# Time comparison for tuple creation\n",
        "tuple_creation_time = timeit.timeit(stmt='(1, 2, 3, 4, 5)', number=1000000)\n",
        "print(f\"Tuple creation time: {tuple_creation_time}\")"
      ],
      "metadata": {
        "colab": {
          "base_uri": "https://localhost:8080/"
        },
        "id": "F7aMGF8HK_sU",
        "outputId": "6f1c2d43-21fa-4a22-e7a7-d0f868be9a7c"
      },
      "execution_count": null,
      "outputs": [
        {
          "output_type": "stream",
          "name": "stdout",
          "text": [
            "('apple', 'banana', 'cherry', 'date')\n",
            "<class 'int'>\n",
            "<class 'tuple'>\n",
            "('apple', 'banana', 'cherry', 'date')\n",
            "(1, 2, 3, 4, 5, 6)\n",
            "1\n",
            "apple banana cherry date yes\n",
            "4\n",
            "1\n",
            "('banana', 'cherry')\n",
            "2\n",
            "('apple', 'banana', 'cherry', 'date', 'lemon')\n",
            "('apple', 'banana', 'cherry', 'date', 'lemon')\n",
            "apple\n",
            "banana\n",
            "['cherry', 'date']\n",
            "lemon\n",
            "Error: too many values to unpack (expected 3)\n",
            "The tuple has more than 3 elements.  Handle this situation appropriately.\n",
            "List size: 8000056\n",
            "Tuple size: 8000040\n",
            "List creation time: 0.06414254599997093\n",
            "Tuple creation time: 0.018279448999919623\n"
          ]
        }
      ]
    },
    {
      "cell_type": "markdown",
      "source": [
        "## **Dictionary**\n",
        "Dictionary is a data structure that is unordered and mutable. It consists of a collection of key-value pairs.\n",
        "- Each key-pair maps the **key** to it's associated **value**"
      ],
      "metadata": {
        "id": "oxdUGmA9xetP"
      }
    },
    {
      "cell_type": "code",
      "source": [
        "# Dictionary creation methods\n",
        "\n",
        "# Method 1: Using curly braces {}\n",
        "my_dict1 = {\"name\": \"Alice\", \"age\": 30, \"city\": \"New York\"}\n",
        "print(my_dict1)\n",
        "\n",
        "# Method 2: Using the dict() constructor\n",
        "my_dict2 = dict(name=\"Bob\", age=25, city=\"Los Angeles\")\n",
        "print(my_dict2)\n",
        "\n",
        "# Method 3: Using a list of tuples\n",
        "my_dict3 = dict([(\"name\", \"Charlie\"), (\"age\", 35), (\"city\", \"Chicago\")])\n",
        "print(my_dict3)\n",
        "\n",
        "# Method 4: Using keyword arguments with dict()\n",
        "my_dict4 = dict(name=\"David\", age=40, city=\"Houston\")\n",
        "print(my_dict4)\n",
        "\n",
        "# Method 5: Using zip() to combine keys and values\n",
        "keys = [\"name\", \"age\", \"city\"]\n",
        "values = [\"Eve\", 28, \"Seattle\"]\n",
        "my_dict5 = dict(zip(keys, values))\n",
        "print(my_dict5)"
      ],
      "metadata": {
        "colab": {
          "base_uri": "https://localhost:8080/"
        },
        "id": "lqKoYtlIzVaJ",
        "outputId": "a5c43de2-58d9-48c5-966d-3e8005c0f5c0"
      },
      "execution_count": null,
      "outputs": [
        {
          "output_type": "stream",
          "name": "stdout",
          "text": [
            "{'name': 'Alice', 'age': 30, 'city': 'New York'}\n",
            "{'name': 'Bob', 'age': 25, 'city': 'Los Angeles'}\n",
            "{'name': 'Charlie', 'age': 35, 'city': 'Chicago'}\n",
            "{'name': 'David', 'age': 40, 'city': 'Houston'}\n",
            "{'name': 'Eve', 'age': 28, 'city': 'Seattle'}\n"
          ]
        }
      ]
    },
    {
      "cell_type": "code",
      "source": [
        "# Adding values to a dictionary\n",
        "\n",
        "# Existing dictionary (example)\n",
        "my_dict = {\"name\": \"Alice\", \"age\": 30}\n",
        "\n",
        "# Method 1: Direct assignment\n",
        "my_dict[\"city\"] = \"New York\"  # Adds a new key-value pair\n",
        "print(my_dict)\n",
        "\n",
        "# Method 2: Using update() method\n",
        "my_dict.update({\"occupation\": \"Engineer\", \"country\": \"USA\"})  # Adds multiple key-value pairs\n",
        "print(my_dict)\n",
        "\n",
        "# Method 3: Using the |= operator (Python 3.9+)\n",
        "my_dict |= {\"hobby\": \"Reading\"}\n",
        "print(my_dict)\n",
        "\n",
        "#If you try to add a key that already exists, its value will be updated:\n",
        "my_dict[\"age\"] = 31 # update the age\n",
        "print(my_dict)"
      ],
      "metadata": {
        "colab": {
          "base_uri": "https://localhost:8080/"
        },
        "id": "wzjO1Manzi-c",
        "outputId": "be7fc381-e10b-4b0c-e7e6-0587ed53f3a3"
      },
      "execution_count": null,
      "outputs": [
        {
          "output_type": "stream",
          "name": "stdout",
          "text": [
            "{'name': 'Alice', 'age': 30, 'city': 'New York'}\n",
            "{'name': 'Alice', 'age': 30, 'city': 'New York', 'occupation': 'Engineer', 'country': 'USA'}\n",
            "{'name': 'Alice', 'age': 30, 'city': 'New York', 'occupation': 'Engineer', 'country': 'USA', 'hobby': 'Reading'}\n",
            "{'name': 'Alice', 'age': 31, 'city': 'New York', 'occupation': 'Engineer', 'country': 'USA', 'hobby': 'Reading'}\n"
          ]
        }
      ]
    },
    {
      "cell_type": "code",
      "source": [
        "# Define a dictionary with multiple attributes\n",
        "my_dict = {'name': 'Alice', 'age': 31, 'city': 'New York', 'occupation': 'Engineer', 'country': 'USA', 'hobby': 'Reading'}\n",
        "\n",
        "# Delete the key 'age' from the dictionary\n",
        "del my_dict[\"age\"]\n",
        "print(my_dict)  # Output: Dictionary without the 'age' key\n",
        "# In case key is not mentioned, del keyword\n",
        "# will delete the entire dictionary\n",
        "\n",
        "# Remove the last element\n",
        "my_dict.popitem()\n",
        "print(my_dict)  # Output: Dictionary without the last key-value pair\n",
        "\n",
        "# Remove the key 'city' using the pop() method and store its value in 'attri'\n",
        "attri = my_dict.pop(\"city\")\n",
        "print(attri)  # Output: The value of the removed key 'city' ('New York')\n",
        "print(my_dict)  # Output: Dictionary without the 'city' key\n",
        "\n",
        "# Check if the key 'name' exists in the dictionary and print its value\n",
        "if \"name\" in my_dict:\n",
        "    print(my_dict[\"name\"])  # Output: 'Alice'\n",
        "\n",
        "# Check if the key 'lastname' exists in the dictionary and attempt to print its value\n",
        "if \"lastname\" in my_dict:\n",
        "    print(my_dict[\"lastname\"])  # This block will not execute as 'lastname' is not in the dictionary\n",
        "\n",
        "# Use a try-except block to handle a KeyError for the missing 'lastname' key\n",
        "try:\n",
        "    print(my_dict[\"lastname\"])  # This will raise a KeyError\n",
        "except KeyError as e:\n",
        "    print(f\"Error: {e}\")  # Output: \"Error: 'lastname'\"\n",
        "    print(\"The key 'lastname' does not exist in the dictionary.\")\n",
        "\n",
        "# Iterate through dictionary keys and values, ensuring proper formatting for the last key-value pair\n",
        "keys = list(my_dict.keys())  # Convert keys to a list for index-based operations\n",
        "for i, key in enumerate(my_dict.keys()):\n",
        "    if i == len(keys) - 1:  # Check if the key is the last one\n",
        "        print(f\"{key} : {my_dict[key]}\")  # Print without a trailing comma for the last key\n",
        "    else:\n",
        "        print(f\"{key} : {my_dict[key]}\", end=\", \")  # Print with a trailing comma for intermediate keys\n",
        "\n",
        "# Convert dictionary values to a list and iterate through them\n",
        "values = list(my_dict.values())  # Convert values to a list\n",
        "for i, value in enumerate(values):\n",
        "    if i == len(values) - 1:  # Check if this is the last value\n",
        "        print(f\"Value {i + 1}: {value}\")  # Print without a trailing comma for the last value\n",
        "    else:\n",
        "        print(f\"Value {i + 1}: {value}\", end=\", \")  # Print with a trailing comma for intermediate values\n"
      ],
      "metadata": {
        "colab": {
          "base_uri": "https://localhost:8080/"
        },
        "id": "O_Y3GyVO0DuK",
        "outputId": "51d7a523-56c6-4abc-99ae-c90c99a31561"
      },
      "execution_count": null,
      "outputs": [
        {
          "output_type": "stream",
          "name": "stdout",
          "text": [
            "{'name': 'Alice', 'city': 'New York', 'occupation': 'Engineer', 'country': 'USA', 'hobby': 'Reading'}\n",
            "{'name': 'Alice', 'city': 'New York', 'occupation': 'Engineer', 'country': 'USA'}\n",
            "New York\n",
            "{'name': 'Alice', 'occupation': 'Engineer', 'country': 'USA'}\n",
            "Alice\n",
            "Error: 'lastname'\n",
            "The key 'lastname' does not exist in the dictionary.\n",
            "name : Alice, occupation : Engineer, country : USA\n",
            "Value 1: Alice, Value 2: Engineer, Value 3: USA\n"
          ]
        }
      ]
    },
    {
      "cell_type": "code",
      "source": [
        "#Copy Methods\n",
        "my_dict = {\"name\" : \"Alice\", \"age\" : 30, \"city\" : \"New York\"}\n",
        "\n",
        "my_dict_cpy = my_dict\n",
        "\n",
        "print(my_dict_cpy)\n",
        "print(my_dict)\n",
        "\n",
        "my_dict_cpy[\"name\"] = \"Bob\"\n",
        "\n",
        "print(my_dict_cpy)\n",
        "print(my_dict)\n",
        "\n",
        "my_dict = {\"name\" : \"Alice\", \"age\" : 30, \"city\" : \"New York\"}\n",
        "\n",
        "my_dict_cpy = dict(my_dict)\n",
        "\n",
        "print(my_dict_cpy)\n",
        "print(my_dict)\n",
        "\n",
        "my_dict_cpy[\"name\"] = \"Bob\"\n",
        "\n",
        "print(my_dict_cpy)\n",
        "print(my_dict)"
      ],
      "metadata": {
        "colab": {
          "base_uri": "https://localhost:8080/"
        },
        "id": "kTljnKvuCtZx",
        "outputId": "69278f14-660d-4250-a8db-2e527281f8f8"
      },
      "execution_count": null,
      "outputs": [
        {
          "output_type": "stream",
          "name": "stdout",
          "text": [
            "{'name': 'Alice', 'age': 30, 'city': 'New York'}\n",
            "{'name': 'Alice', 'age': 30, 'city': 'New York'}\n",
            "{'name': 'Bob', 'age': 30, 'city': 'New York'}\n",
            "{'name': 'Bob', 'age': 30, 'city': 'New York'}\n",
            "{'name': 'Alice', 'age': 30, 'city': 'New York'}\n",
            "{'name': 'Alice', 'age': 30, 'city': 'New York'}\n",
            "{'name': 'Bob', 'age': 30, 'city': 'New York'}\n",
            "{'name': 'Alice', 'age': 30, 'city': 'New York'}\n"
          ]
        }
      ]
    },
    {
      "cell_type": "code",
      "source": [
        "# Tuples as keys in a dictionary\n",
        "\n",
        "# Create a dictionary where tuples are used as keys\n",
        "my_dict = {}\n",
        "my_dict[(1, 2)] = \"Value 1\"\n",
        "my_dict[(3, 4)] = \"Value 2\"\n",
        "my_dict[(\"a\", \"b\")] = \"Value 3\"\n",
        "\n",
        "# Access values using the tuple keys\n",
        "print(my_dict[(1, 2)])\n",
        "print(my_dict[(3, 4)])\n",
        "print(my_dict[(\"a\", \"b\")])\n",
        "\n",
        "# Iterate through the dictionary items\n",
        "for key, value in my_dict.items():\n",
        "  print(f\"Key: {key}, Value: {value}\")"
      ],
      "metadata": {
        "colab": {
          "base_uri": "https://localhost:8080/"
        },
        "id": "W4jtt9cgDQsg",
        "outputId": "3037e80c-84b8-49d2-da65-6344d073f217"
      },
      "execution_count": null,
      "outputs": [
        {
          "output_type": "stream",
          "name": "stdout",
          "text": [
            "Value 1\n",
            "Value 2\n",
            "Value 3\n",
            "Key: (1, 2), Value: Value 1\n",
            "Key: (3, 4), Value: Value 2\n",
            "Key: ('a', 'b'), Value: Value 3\n"
          ]
        }
      ]
    },
    {
      "cell_type": "code",
      "source": [
        "my_dict = {\"name\" : \"Alice\", \"age\" : 30, \"city\" : \"New York\"}\n",
        "my_dict1 = {\"name1\" : \"Naman\", \"age1\" : 21, \"city1\" : \"KKR\"}\n",
        "\n",
        "\n",
        "my_dict.update(my_dict1)\n",
        "print(my_dict)\n",
        "\n",
        "# my_dict.clear()\n",
        "# print(my_dict)\n",
        "\n",
        "del my_dict['name1']\n",
        "print(my_dict)\n",
        "\n"
      ],
      "metadata": {
        "colab": {
          "base_uri": "https://localhost:8080/"
        },
        "id": "9Pt0wW6lWjD2",
        "outputId": "442e85ff-86e4-4f12-c2df-64c074932707"
      },
      "execution_count": null,
      "outputs": [
        {
          "output_type": "stream",
          "name": "stdout",
          "text": [
            "{'name': 'Alice', 'age': 30, 'city': 'New York', 'name1': 'Naman', 'age1': 21, 'city1': 'KKR'}\n",
            "{'name': 'Alice', 'age': 30, 'city': 'New York', 'age1': 21, 'city1': 'KKR'}\n"
          ]
        }
      ]
    },
    {
      "cell_type": "markdown",
      "source": [
        "## **Sets**\n",
        "A set is a collection datatype that is unordered and mutable but unlike lists or tuples it doesn't allow duplicate elements.\n",
        "\n"
      ],
      "metadata": {
        "id": "XX0SfSfdEwKR"
      }
    },
    {
      "cell_type": "code",
      "source": [
        "# Initialization of sets\n",
        "odd = {1, 3, 5, 7, 9}\n",
        "even = {2, 4, 6, 8, 10}\n",
        "prime = {2, 3, 5, 7}\n",
        "\n",
        "print(\"Odd: \", odd ,\"\\n\" ,\"Even: \", even ,\"\\n\" ,\"Prime: \", prime)"
      ],
      "metadata": {
        "colab": {
          "base_uri": "https://localhost:8080/"
        },
        "id": "fN0IVKzBNuiu",
        "outputId": "abb7f263-fde7-4bee-b974-a3da84914a41"
      },
      "execution_count": null,
      "outputs": [
        {
          "output_type": "stream",
          "name": "stdout",
          "text": [
            "Odd:  {1, 3, 5, 7, 9} \n",
            " Even:  {2, 4, 6, 8, 10} \n",
            " Prime:  {2, 3, 5, 7}\n"
          ]
        }
      ]
    },
    {
      "cell_type": "code",
      "source": [
        "# Property: Sets store unique elements\n",
        "example_set = {1, 2, 2, 3, 4}\n",
        "print(\"Unique elements in set:\", example_set)\n"
      ],
      "metadata": {
        "colab": {
          "base_uri": "https://localhost:8080/"
        },
        "id": "jGFsdft4N5sB",
        "outputId": "134c47ef-313d-48b2-b01c-c77c0cce47b0"
      },
      "execution_count": null,
      "outputs": [
        {
          "output_type": "stream",
          "name": "stdout",
          "text": [
            "Unique elements in set: {1, 2, 3, 4}\n"
          ]
        }
      ]
    },
    {
      "cell_type": "code",
      "source": [
        "# Adding a string to the set (use case: storing unique words)\n",
        "example_set = {1, 2, 2, 3, 4}\n",
        "example_set.add(\"hello\")\n",
        "print(\"After adding 'hello':\", example_set)"
      ],
      "metadata": {
        "colab": {
          "base_uri": "https://localhost:8080/"
        },
        "id": "P0CHC0lGOP9E",
        "outputId": "40f087e9-9ebf-456d-c67d-158598665947"
      },
      "execution_count": null,
      "outputs": [
        {
          "output_type": "stream",
          "name": "stdout",
          "text": [
            "After adding 'hello': {1, 2, 3, 4, 'hello'}\n"
          ]
        }
      ]
    },
    {
      "cell_type": "code",
      "source": [
        "example_set = {1, 2, 2, 3, 4}\n",
        "\n",
        "# Remove method (raises KeyError if the element is absent)\n",
        "example_set.remove(1)  # Removes 1\n",
        "print(\"After removing 1:\", example_set)\n",
        "\n",
        "try:\n",
        "    example_set.remove(100)  # Raises KeyError\n",
        "except KeyError as e:\n",
        "    print(f\"Error: {e}\")  # Output: \"Error: 100\"\n",
        "\n",
        "# Discard method (doesn't raise an error if the element is absent)\n",
        "example_set.discard(100)  # No error if 100 is not in the set\n",
        "print(\"After discarding 100:\", example_set)\n",
        "\n",
        "# Clear method (empties the set)\n",
        "example_set.clear()\n",
        "print(\"After clear:\", example_set)\n",
        "\n",
        "# Pop method (removes and returns an arbitrary element)\n",
        "example_set = {10, 20, 30}\n",
        "popped = example_set.pop()\n",
        "print(\"Popped element:\", popped)\n",
        "print(\"After pop:\", example_set)"
      ],
      "metadata": {
        "colab": {
          "base_uri": "https://localhost:8080/"
        },
        "id": "08tttnB9OR_l",
        "outputId": "9bee78c3-3154-404c-c2db-c3722b476faf"
      },
      "execution_count": null,
      "outputs": [
        {
          "output_type": "stream",
          "name": "stdout",
          "text": [
            "After removing 1: {2, 3, 4}\n",
            "Error: 100\n",
            "After discarding 100: {2, 3, 4}\n",
            "After clear: set()\n",
            "Popped element: 10\n",
            "After pop: {20, 30}\n"
          ]
        }
      ]
    },
    {
      "cell_type": "code",
      "source": [
        "# Initialization of sets\n",
        "odd = {1, 3, 5, 7, 9}\n",
        "even = {2, 4, 6, 8, 10}\n",
        "prime = {2, 3, 5, 7}\n",
        "\n",
        "# Union (combines elements from both sets)\n",
        "all_numbers = odd.union(even)\n",
        "print(\"Union of odd and even:\", all_numbers)\n",
        "\n",
        "# Intersection (common elements in both sets)\n",
        "common_primes = odd.intersection(prime)\n",
        "print(\"Intersection of odd and primes:\", common_primes)\n",
        "\n",
        "# Difference (elements in one set but not in the other)\n",
        "only_odd = odd.difference(prime)\n",
        "print(\"Odd numbers not prime:\", only_odd)\n",
        "\n",
        "# Symmetric Difference: Values that are not common between two sets\n",
        "not_common = odd.symmetric_difference(prime)\n",
        "print(\"Odd numbers not prime (symmetric difference):\", not_common)"
      ],
      "metadata": {
        "colab": {
          "base_uri": "https://localhost:8080/"
        },
        "id": "MABvpVJEOTnt",
        "outputId": "e515a66d-2fe4-4f43-d231-1cf2d8c97c3a"
      },
      "execution_count": null,
      "outputs": [
        {
          "output_type": "stream",
          "name": "stdout",
          "text": [
            "Union of odd and even: {1, 2, 3, 4, 5, 6, 7, 8, 9, 10}\n",
            "Intersection of odd and primes: {3, 5, 7}\n",
            "Odd numbers not prime: {1, 9}\n",
            "Odd numbers not prime (symmetric difference): {1, 2, 9}\n"
          ]
        }
      ]
    },
    {
      "cell_type": "code",
      "source": [
        "# Initialization of sets\n",
        "odd = {1, 3, 5, 7, 9}\n",
        "even = {2, 4, 6, 8, 10}\n",
        "prime = {2, 3, 5, 7}\n",
        "\n",
        "all = odd | even\n",
        "print(all)\n",
        "\n",
        "common = odd & prime\n",
        "print(common)\n",
        "\n",
        "only_odd = odd - prime\n",
        "print(only_odd)"
      ],
      "metadata": {
        "colab": {
          "base_uri": "https://localhost:8080/"
        },
        "id": "sgKZWjR9X5u2",
        "outputId": "493133e5-1eef-4be5-ea18-0587fd48b611"
      },
      "execution_count": null,
      "outputs": [
        {
          "output_type": "stream",
          "name": "stdout",
          "text": [
            "{1, 2, 3, 4, 5, 6, 7, 8, 9, 10}\n",
            "{3, 5, 7}\n",
            "{1, 9}\n"
          ]
        }
      ]
    },
    {
      "cell_type": "code",
      "source": [
        "example_set = {1, 2, 2, 3, 4}\n",
        "odd = {1, 3, 5, 7, 9}\n",
        "even = {2, 4, 6, 8, 10}\n",
        "prime = {2, 3, 5, 7}\n",
        "\n",
        "# Update method (adds elements from another set)\n",
        "example_set.update(prime)\n",
        "print(\"After update with primes:\", example_set)\n",
        "\n",
        "# Intersection Update (keeps only common elements with another set)\n",
        "example_set.intersection_update(odd)\n",
        "print(\"After intersection update with odd:\", example_set)\n",
        "\n",
        "# Difference Update (removes elements in another set)\n",
        "example_set.difference_update({3, 7})\n",
        "print(\"After difference update (removing 3, 7):\", example_set)\n",
        "\n",
        "# Symmetric Difference Update (keeps only non-common elements)\n",
        "example_set.symmetric_difference_update(even)\n",
        "print(\"After symmetric difference update with even:\", example_set)"
      ],
      "metadata": {
        "colab": {
          "base_uri": "https://localhost:8080/"
        },
        "id": "V8Dr-MdcOWMv",
        "outputId": "fa4e81b9-9525-4943-f860-c14642f9ef6f"
      },
      "execution_count": null,
      "outputs": [
        {
          "output_type": "stream",
          "name": "stdout",
          "text": [
            "After update with primes: {1, 2, 3, 4, 5, 7}\n",
            "After intersection update with odd: {1, 3, 5, 7}\n",
            "After difference update (removing 3, 7): {1, 5}\n",
            "After symmetric difference update with even: {1, 2, 4, 5, 6, 8, 10}\n"
          ]
        }
      ]
    },
    {
      "cell_type": "code",
      "source": [
        "# Initial sets\n",
        "A = {1, 2, 3}\n",
        "B = {1, 2}\n",
        "C = {4, 5}\n",
        "\n",
        "# Subset method: check if one set is a subset of another\n",
        "print(\"B is subset of A:\", B.issubset(A))\n",
        "print(\"A is subset of B:\", A.issubset(B), end = \"\\n\\n\")\n",
        "\n",
        "# Superset method: check if one set is a superset of another\n",
        "print(\"A is superset of B:\", A.issuperset(B))\n",
        "print(\"B is superset of A:\", B.issuperset (A), end = \"\\n\\n\")\n",
        "\n",
        "# Disjoint method: check if two sets have no common elements\n",
        "print(\"A and C are disjoint:\", A.isdisjoint(C))\n",
        "print(\"A and B are disjoint:\", A.isdisjoint(B), end = \"\\n\\n\")\n",
        "\n",
        "# Copying methods\n",
        "original = {10, 20, 30}\n",
        "shallow_copy = original.copy()\n",
        "print(\"Original set:\", original)\n",
        "print(\"Shallow copy:\", shallow_copy, end = \"\\n\\n\")\n",
        "\n",
        "# Modifying the original to show it doesn't affect the copy\n",
        "original.add(40)\n",
        "print(\"After modifying original set:\")\n",
        "print(\"Original:\", original)\n",
        "print(\"Copy:\", shallow_copy, end = \"\\n\\n\")\n",
        "\n",
        "# Frozen set: immutable set\n",
        "frozen = frozenset([1, 2, 3])\n",
        "print(\"Frozen set:\", frozen, end = \"\\n\\n\")\n",
        "\n",
        "# Operations on frozen set (only operations that don't modify it)\n",
        "print(\"Union of frozen set and B:\", frozen.union(B))\n",
        "print(\"Intersection of frozen set and B:\", frozen.intersection(B))\n",
        "print(\"Frozen set is subset of A:\", frozen.issubset(A))\n",
        "\n",
        "# Attempting modification results in an error (uncomment to test)\n",
        "#frozen.add(4)  # AttributeError: 'frozenset' object has no attribute 'add'"
      ],
      "metadata": {
        "colab": {
          "base_uri": "https://localhost:8080/"
        },
        "id": "WT2tHAwsOY0v",
        "outputId": "05b9a71f-2d47-48e0-da82-2a4bcecdd266"
      },
      "execution_count": null,
      "outputs": [
        {
          "output_type": "stream",
          "name": "stdout",
          "text": [
            "B is subset of A: True\n",
            "A is subset of B: False\n",
            "\n",
            "A is superset of B: True\n",
            "B is superset of A: False\n",
            "\n",
            "A and C are disjoint: True\n",
            "A and B are disjoint: False\n",
            "\n",
            "Original set: {10, 20, 30}\n",
            "Shallow copy: {10, 20, 30}\n",
            "\n",
            "After modifying original set:\n",
            "Original: {40, 10, 20, 30}\n",
            "Copy: {10, 20, 30}\n",
            "\n",
            "Frozen set: frozenset({1, 2, 3})\n",
            "\n",
            "Union of frozen set and B: frozenset({1, 2, 3})\n",
            "Intersection of frozen set and B: frozenset({1, 2})\n",
            "Frozen set is subset of A: True\n"
          ]
        }
      ]
    },
    {
      "cell_type": "markdown",
      "source": [
        "## **Strings**\n",
        "A string is a sequence of characters. String literals in Python are enclosed by either double or single quotes.\n",
        "\n",
        "`my_string = 'Hello'`\n",
        "\n",
        "Python strings are immutable which means they cannot be changed after they are created. Strings are ordered"
      ],
      "metadata": {
        "id": "uYtuH4YVd99z"
      }
    },
    {
      "cell_type": "code",
      "source": [
        "# Creation\n",
        "# use singe or double quotes\n",
        "my_string = 'Hello'\n",
        "my_string = \"Hello\"\n",
        "my_string = \"I' m  a 'Geek'\"\n",
        "\n",
        "# escaping backslash\n",
        "my_string = 'I\\' m  a \"Geek\"'\n",
        "my_string = 'I\\' m a \\'Geek\\''\n",
        "print(my_string)\n",
        "\n",
        "# triple quotes for multiline strings\n",
        "my_string = '''Hello\n",
        "               World'''\n",
        "print(my_string)\n",
        "\n",
        "# backslash if you want to continue in the next line\n",
        "my_string = \"Hello \\\n",
        "World\"\n",
        "print(my_string)"
      ],
      "metadata": {
        "colab": {
          "base_uri": "https://localhost:8080/"
        },
        "id": "Uo1KPOn2IscI",
        "outputId": "4d9c03e7-3648-4f94-e706-224f482e702c"
      },
      "execution_count": null,
      "outputs": [
        {
          "output_type": "stream",
          "name": "stdout",
          "text": [
            "I' m a 'Geek'\n",
            "Hello\n",
            "World\n",
            "Hello World\n"
          ]
        }
      ]
    },
    {
      "cell_type": "code",
      "source": [
        "# Access characters and substrings\n",
        "my_string = \"Hello World\"\n",
        "\n",
        "# get character by referring to index\n",
        "b = my_string[0]\n",
        "print(b)\n",
        "\n",
        "# Substrings with slicing\n",
        "b = my_string[1:3] # Note that the last index is not included\n",
        "print(b) #el\n",
        "b = my_string[:5] # from beginning\n",
        "print(b)\n",
        "print(my_string[3:]) # from 3 index to end\n",
        "b = my_string[6:-1] # from 6 index to one before the last index\n",
        "print(b)\n",
        "b = my_string[-2:-5] # from index -2 to -5 index which makes no sense to python so prints not\n",
        "print(b)\n",
        "print(my_string[-5:-2])\n",
        "b = my_string[::2] # start to end with every second item\n",
        "print(b)\n",
        "b = my_string[::-1] # reverse the string with a negative step:\n",
        "print(b)"
      ],
      "metadata": {
        "colab": {
          "base_uri": "https://localhost:8080/"
        },
        "id": "Q7uhPRc7edS1",
        "outputId": "18240f96-3fe0-4eaf-9848-6ebd0832e39d"
      },
      "execution_count": null,
      "outputs": [
        {
          "output_type": "stream",
          "name": "stdout",
          "text": [
            "H\n",
            "el\n",
            "Hello\n",
            "lo World\n",
            "Worl\n",
            "\n",
            "Wor\n",
            "HloWrd\n",
            "dlroW olleH\n"
          ]
        }
      ]
    },
    {
      "cell_type": "code",
      "source": [
        "# Concatenate two or more strings\n",
        "\n",
        "# concat strings with +\n",
        "greeting = \"Hello\"\n",
        "name = \"Tom\"\n",
        "sentence = greeting + ' ' + name\n",
        "print(sentence)"
      ],
      "metadata": {
        "colab": {
          "base_uri": "https://localhost:8080/"
        },
        "id": "xL-LfO0SfX4t",
        "outputId": "bfc2257b-4af2-4d73-fba8-8c3e1e036c98"
      },
      "execution_count": null,
      "outputs": [
        {
          "output_type": "stream",
          "name": "stdout",
          "text": [
            "Hello Tom\n"
          ]
        }
      ]
    },
    {
      "cell_type": "code",
      "source": [
        "# Iterating\n",
        "\n",
        "# Iterating over a string by using a for in loop\n",
        "my_string = 'Hello'\n",
        "for i in my_string:\n",
        "    print(i, end = \" \")"
      ],
      "metadata": {
        "colab": {
          "base_uri": "https://localhost:8080/"
        },
        "id": "QCbnsoryfs3X",
        "outputId": "f13cf199-ed42-43eb-fab0-97518eb783a9"
      },
      "execution_count": null,
      "outputs": [
        {
          "output_type": "stream",
          "name": "stdout",
          "text": [
            "H e l l o "
          ]
        }
      ]
    },
    {
      "cell_type": "code",
      "source": [
        "# Check if a character or substring exists\n",
        "if \"e\" in \"Hello\":\n",
        "    print(\"yes\")\n",
        "if \"llo\" in \"Hello\":\n",
        "    print(\"yes\")"
      ],
      "metadata": {
        "colab": {
          "base_uri": "https://localhost:8080/"
        },
        "id": "vHS6MOWhf5CC",
        "outputId": "28b6daeb-a78e-494c-b457-aee68408ec50"
      },
      "execution_count": null,
      "outputs": [
        {
          "output_type": "stream",
          "name": "stdout",
          "text": [
            "yes\n",
            "yes\n"
          ]
        }
      ]
    },
    {
      "cell_type": "markdown",
      "source": [
        "lstrips - Strips on the left side only. Takes input argument if"
      ],
      "metadata": {
        "id": "nSE2I_CpRas4"
      }
    },
    {
      "cell_type": "code",
      "source": [
        "my_string = \"    !!!!!!!!!Hello Worldlklklklklk    \"\n",
        "\n",
        "# remove white space\n",
        "my_string1 = my_string.strip() #Since string is immutable my_string won't change\n",
        "print(f'{my_string} with length {len(my_string)}')\n",
        "print(f'{my_string1} with length {len(my_string1)}')\n",
        "\n",
        "print(f'{my_string1.lstrip(\"!\")} with length {len(my_string1.lstrip(\"!\"))}') # only strips left hand trailing characters\n",
        "print(f'{my_string1.rstrip(\"lk\").lstrip(\"!\")} with length {len(my_string1.rstrip(\"lk\").lstrip(\"!\"))}') # only strips right hand trailing characters"
      ],
      "metadata": {
        "colab": {
          "base_uri": "https://localhost:8080/"
        },
        "id": "BQYiLw1sgDtt",
        "outputId": "6cedf8d6-3983-4e59-ec96-5c5c9edd44f0"
      },
      "execution_count": null,
      "outputs": [
        {
          "output_type": "stream",
          "name": "stdout",
          "text": [
            "    !!!!!!!!!Hello Worldlklklklklk     with length 38\n",
            "!!!!!!!!!Hello Worldlklklklklk with length 30\n",
            "Hello Worldlklklklklk with length 21\n",
            "Hello World with length 11\n"
          ]
        }
      ]
    },
    {
      "cell_type": "code",
      "source": [
        "# number of characters\n",
        "my_string = \"Hello World\"\n",
        "print(len(my_string))"
      ],
      "metadata": {
        "colab": {
          "base_uri": "https://localhost:8080/"
        },
        "id": "G-fx4pCNgTI2",
        "outputId": "038f19c3-c125-460c-e089-d0bc57568b72"
      },
      "execution_count": null,
      "outputs": [
        {
          "output_type": "stream",
          "name": "stdout",
          "text": [
            "11\n"
          ]
        }
      ]
    },
    {
      "cell_type": "code",
      "source": [
        "# Upper and lower cases\n",
        "print(my_string.upper())\n",
        "print(my_string.lower())"
      ],
      "metadata": {
        "colab": {
          "base_uri": "https://localhost:8080/"
        },
        "id": "9xHGdUWSgZDa",
        "outputId": "c3e1a07a-0d0d-4082-a0e1-a22289295bf8"
      },
      "execution_count": null,
      "outputs": [
        {
          "output_type": "stream",
          "name": "stdout",
          "text": [
            "HELLO WORLD\n",
            "hello world\n"
          ]
        }
      ]
    },
    {
      "cell_type": "code",
      "source": [
        "# startswith and endswith\n",
        "print(\"hello\".startswith(\"he\"))\n",
        "print(\"hello\".endswith(\"llo\"))\n",
        "print(\"hello\".endswith(\"olo\"))\n",
        "print(\"hello\".endswith(\"el\",1,3)) # ending with given string between index 1 and index 3"
      ],
      "metadata": {
        "colab": {
          "base_uri": "https://localhost:8080/"
        },
        "id": "jyYMKhV2gl33",
        "outputId": "88984efd-638c-4053-c5db-4cc2c2f77980"
      },
      "execution_count": null,
      "outputs": [
        {
          "output_type": "stream",
          "name": "stdout",
          "text": [
            "True\n",
            "True\n",
            "False\n",
            "True\n"
          ]
        }
      ]
    },
    {
      "cell_type": "code",
      "source": [
        "# find first index of a given substring, -1 otherwise\n",
        "print(\"Hello\".find(\"o\"))\n",
        "print(\"Hello\".find(\"lo\"))\n",
        "print(\"superhero\".find(\"mass\"))"
      ],
      "metadata": {
        "colab": {
          "base_uri": "https://localhost:8080/"
        },
        "id": "7fMz-8jKhGYs",
        "outputId": "0ecd0727-1b8d-496c-b921-9d641c9f6c3d"
      },
      "execution_count": null,
      "outputs": [
        {
          "output_type": "stream",
          "name": "stdout",
          "text": [
            "4\n",
            "3\n",
            "-1\n"
          ]
        }
      ]
    },
    {
      "cell_type": "code",
      "source": [
        "# count number of characters/substrings\n",
        "print(\"Hello how are you feeling this morning\".count(\"h\"))\n",
        "print(\"Hello\".count(\"l\"))"
      ],
      "metadata": {
        "colab": {
          "base_uri": "https://localhost:8080/"
        },
        "id": "g6yOY_0ahbBd",
        "outputId": "a2343e95-fcde-49ed-e4bd-2a20cec59b59"
      },
      "execution_count": null,
      "outputs": [
        {
          "output_type": "stream",
          "name": "stdout",
          "text": [
            "2\n",
            "2\n"
          ]
        }
      ]
    },
    {
      "cell_type": "code",
      "source": [
        "# replace a substring with another string (only if the substring is found)\n",
        "# Note: The original string stays the same\n",
        "message = \"Hello World\"\n",
        "new_message = message.replace(\"World\", \"Universe\")\n",
        "print(new_message)\n",
        "\n",
        "# Prints original string if substring not found\n",
        "new_message = message.replace(\"Worrrlddd\", \"Universe\")\n",
        "print(new_message)"
      ],
      "metadata": {
        "colab": {
          "base_uri": "https://localhost:8080/"
        },
        "id": "w8gC-1iXhmGp",
        "outputId": "7753f4a4-b451-4e39-8c12-c92ef56bd341"
      },
      "execution_count": null,
      "outputs": [
        {
          "output_type": "stream",
          "name": "stdout",
          "text": [
            "Hello Universe\n",
            "Hello World\n"
          ]
        }
      ]
    },
    {
      "cell_type": "markdown",
      "source": [
        "Splits on the basis of character passed as argument. Return type is a list of strings."
      ],
      "metadata": {
        "id": "bLO588r_dTrq"
      }
    },
    {
      "cell_type": "code",
      "source": [
        "my_string = \"Hi my name is Naman\"\n",
        "\n",
        "my_string.split(\" \")\n",
        "\n"
      ],
      "metadata": {
        "colab": {
          "base_uri": "https://localhost:8080/"
        },
        "id": "M6EiPTQpcroY",
        "outputId": "b8d9b6ae-fe95-4c4d-e096-e2318d044d6f"
      },
      "execution_count": null,
      "outputs": [
        {
          "output_type": "execute_result",
          "data": {
            "text/plain": [
              "['Hi', 'my', 'name', 'is', 'Naman']"
            ]
          },
          "metadata": {},
          "execution_count": 34
        }
      ]
    },
    {
      "cell_type": "code",
      "source": [
        "# Program to find the ASCII value of the given character\n",
        "\n",
        "c = 'p'\n",
        "print(\"The ASCII value of '\" + c + \"' is\", ord(c))\n",
        "\n",
        "chr(112)"
      ],
      "metadata": {
        "colab": {
          "base_uri": "https://localhost:8080/",
          "height": 53
        },
        "id": "vgeHmfZa-bEl",
        "outputId": "02074a12-7e98-4f12-d305-827a4d98d16d"
      },
      "execution_count": null,
      "outputs": [
        {
          "output_type": "stream",
          "name": "stdout",
          "text": [
            "The ASCII value of 'p' is 112\n"
          ]
        },
        {
          "output_type": "execute_result",
          "data": {
            "text/plain": [
              "'p'"
            ],
            "application/vnd.google.colaboratory.intrinsic+json": {
              "type": "string"
            }
          },
          "metadata": {},
          "execution_count": 38
        }
      ]
    },
    {
      "cell_type": "code",
      "source": [
        "# Finding unique characters in the string\n",
        "myset = set(my_string)\n",
        "print(myset)"
      ],
      "metadata": {
        "colab": {
          "base_uri": "https://localhost:8080/"
        },
        "id": "xYc06PUK-V7H",
        "outputId": "24b27b59-9604-4673-c56a-af16fc4d959b"
      },
      "execution_count": null,
      "outputs": [
        {
          "output_type": "stream",
          "name": "stdout",
          "text": [
            "{'y', 's', ' ', 'm', 'a', 'n', 'N', 'H', 'i', 'e'}\n"
          ]
        }
      ]
    },
    {
      "cell_type": "code",
      "source": [
        "my_string = \"hi my name is Naman\"\n",
        "my_string.capitalize()"
      ],
      "metadata": {
        "id": "QDtE4_60kHz-",
        "colab": {
          "base_uri": "https://localhost:8080/",
          "height": 35
        },
        "outputId": "d798c155-7b51-40d2-f5fb-6fe09c48d177"
      },
      "execution_count": null,
      "outputs": [
        {
          "output_type": "execute_result",
          "data": {
            "text/plain": [
              "'Hi my name is naman'"
            ],
            "application/vnd.google.colaboratory.intrinsic+json": {
              "type": "string"
            }
          },
          "metadata": {},
          "execution_count": 35
        }
      ]
    },
    {
      "cell_type": "code",
      "source": [
        "my_string = \"   This is a sample string.   \"\n",
        "\n",
        "# center() function\n",
        "centered_string = my_string.center(50, '*')  # Centers the string within a field of width 50, padded with '*'\n",
        "print(\"Centered string:\", centered_string)\n",
        "\n",
        "\n",
        "# find() function\n",
        "index = my_string.find(\"sample\")  # Finds the index of the first occurrence of \"sample\"\n",
        "print(\"Index of 'sample':\", index)\n",
        "\n",
        "index = my_string.find(\"xyz\") # Find returns -1 if the substring isn't found\n",
        "print(\"Index of 'xyz':\", index)\n",
        "\n",
        "\n",
        "# index() function (similar to find(), but raises an exception if not found)\n",
        "try:\n",
        "    index = my_string.index(\"sample\")\n",
        "    print(\"Index of 'sample':\", index)\n",
        "\n",
        "    index = my_string.index(\"xyz\") # Raises ValueError as 'xyz' is not in the string\n",
        "    print(\"Index of 'xyz':\", index)\n",
        "except ValueError:\n",
        "    print(\"Substring 'xyz' not found\")\n",
        "\n",
        "\n",
        "# isprintable() function\n",
        "printable_string = \"This is printable.\"\n",
        "non_printable_string = \"This is not printable.\\n\"\n",
        "\n",
        "print(\"Is printable:\", printable_string.isprintable())\n",
        "print(\"Is printable:\", non_printable_string.isprintable())\n",
        "\n",
        "\n",
        "# istitle() function\n",
        "title_string = \"This Is A Title\"\n",
        "not_title_string = \"This is not a title\"\n",
        "\n",
        "print(\"Is title:\", title_string.istitle())\n",
        "print(\"Is title:\", not_title_string.istitle())"
      ],
      "metadata": {
        "colab": {
          "base_uri": "https://localhost:8080/"
        },
        "id": "z1Yf7jyk2xi2",
        "outputId": "ba20267d-b7dd-402a-ca67-402b56909a7e"
      },
      "execution_count": null,
      "outputs": [
        {
          "output_type": "stream",
          "name": "stdout",
          "text": [
            "Centered string: **********   This is a sample string.   **********\n",
            "Index of 'sample': 13\n",
            "Index of 'xyz': -1\n",
            "Index of 'sample': 13\n",
            "Substring 'xyz' not found\n",
            "Is printable: True\n",
            "Is printable: False\n",
            "Is title: True\n",
            "Is title: False\n"
          ]
        }
      ]
    },
    {
      "cell_type": "code",
      "source": [],
      "metadata": {
        "id": "ZKnG3zG0lr2S"
      },
      "execution_count": null,
      "outputs": []
    },
    {
      "cell_type": "markdown",
      "source": [
        "### What is String Formating?\n",
        "\n",
        "New String formatting method:\n",
        "- Also known as Literal String Interpolation or f-strings.\n",
        "\n",
        "f-string evaluates at runtime"
      ],
      "metadata": {
        "id": "K7sJNzfX3X5H"
      }
    },
    {
      "cell_type": "code",
      "source": [
        "letter = \"Hey my name is {} and I am from {}\"\n",
        "country = \"India\"\n",
        "name = \"Naman\"\n",
        "\n",
        "print(letter.format(name, country))\n",
        "# Issue\n",
        "letter1 = \"Hey my name is {1} and I am from {0}\"\n",
        "print(letter1.format(country, name))\n"
      ],
      "metadata": {
        "colab": {
          "base_uri": "https://localhost:8080/"
        },
        "id": "HtOD9EdT3SGU",
        "outputId": "e144bdf7-a830-4216-a0fe-c2ee10afd418"
      },
      "execution_count": null,
      "outputs": [
        {
          "output_type": "stream",
          "name": "stdout",
          "text": [
            "Hey my name is Naman and I am from India\n",
            "Hey my name is Naman and I am from India\n"
          ]
        }
      ]
    },
    {
      "cell_type": "code",
      "source": [
        "print(f'Hey my name is {name} and I am from {country}')# f indenties the string as formatting string"
      ],
      "metadata": {
        "colab": {
          "base_uri": "https://localhost:8080/"
        },
        "id": "6uAPmBQ64fKz",
        "outputId": "45d9f371-c382-46f9-f4c0-6977604bc825"
      },
      "execution_count": null,
      "outputs": [
        {
          "output_type": "stream",
          "name": "stdout",
          "text": [
            "Hey my name is Naman and I am from India\n"
          ]
        }
      ]
    },
    {
      "cell_type": "code",
      "source": [
        "price = 49.99999\n",
        "print(f'The price is {price}') #Prints all the decimal places\n",
        "print(f'The Price is {price:.2f}') #Prints only 2 decimal places"
      ],
      "metadata": {
        "colab": {
          "base_uri": "https://localhost:8080/"
        },
        "id": "BaR3ysyj5N26",
        "outputId": "843e064e-4f88-4b70-b017-2d0123a11b30"
      },
      "execution_count": null,
      "outputs": [
        {
          "output_type": "stream",
          "name": "stdout",
          "text": [
            "The price is 49.99999\n",
            "The Price is 50.00\n"
          ]
        }
      ]
    },
    {
      "cell_type": "code",
      "source": [
        "#To nullify the effect of f-strings\n",
        "\n",
        "price = 49.99999\n",
        "print(f'The price is {{price}} can be written as {price}') #Prints all the decimal places"
      ],
      "metadata": {
        "colab": {
          "base_uri": "https://localhost:8080/"
        },
        "id": "eXmtzXmA6Agr",
        "outputId": "e144b3cc-6998-4ed1-cbbf-b3040931e965"
      },
      "execution_count": null,
      "outputs": [
        {
          "output_type": "stream",
          "name": "stdout",
          "text": [
            "The price is {price} can be written as 49.99999\n"
          ]
        }
      ]
    },
    {
      "cell_type": "markdown",
      "source": [
        "### **Docstrings (for readability of the code)**\n",
        "\n",
        "Python comments are descriptions that help programmers understand the intent and functionality of the program. They are completely ignored by the Python interpreter whereas Python **docstrings** are strings used right after the definition of the function, method, class, or modeule. They are used to document our code.\n"
      ],
      "metadata": {
        "id": "VSKriOiFLb9P"
      }
    },
    {
      "cell_type": "code",
      "source": [
        "def Square(n):\n",
        "  '''Takes in a number n, returns the square of n'''\n",
        "  return n**2\n",
        "\n",
        "print(Square(5))\n",
        "print(Square.__doc__)"
      ],
      "metadata": {
        "colab": {
          "base_uri": "https://localhost:8080/"
        },
        "id": "-2jZYKeJNFWf",
        "outputId": "ec390c78-bd74-42b2-d392-a1df22eaef0b"
      },
      "execution_count": null,
      "outputs": [
        {
          "output_type": "stream",
          "name": "stdout",
          "text": [
            "25\n",
            "Takes in a number n, returns the square of n\n"
          ]
        }
      ]
    },
    {
      "cell_type": "code",
      "source": [
        "import this"
      ],
      "metadata": {
        "colab": {
          "base_uri": "https://localhost:8080/"
        },
        "id": "VC9RbZemOL3Y",
        "outputId": "37e0a96a-ea19-412a-d033-26a3f883d3dd"
      },
      "execution_count": null,
      "outputs": [
        {
          "output_type": "stream",
          "name": "stdout",
          "text": [
            "The Zen of Python, by Tim Peters\n",
            "\n",
            "Beautiful is better than ugly.\n",
            "Explicit is better than implicit.\n",
            "Simple is better than complex.\n",
            "Complex is better than complicated.\n",
            "Flat is better than nested.\n",
            "Sparse is better than dense.\n",
            "Readability counts.\n",
            "Special cases aren't special enough to break the rules.\n",
            "Although practicality beats purity.\n",
            "Errors should never pass silently.\n",
            "Unless explicitly silenced.\n",
            "In the face of ambiguity, refuse the temptation to guess.\n",
            "There should be one-- and preferably only one --obvious way to do it.\n",
            "Although that way may not be obvious at first unless you're Dutch.\n",
            "Now is better than never.\n",
            "Although never is often better than *right* now.\n",
            "If the implementation is hard to explain, it's a bad idea.\n",
            "If the implementation is easy to explain, it may be a good idea.\n",
            "Namespaces are one honking great idea -- let's do more of those!\n"
          ]
        }
      ]
    },
    {
      "cell_type": "markdown",
      "source": [
        "## **Exception Handling**\n",
        "\n",
        " Exception handling is the process of responding to unwanted or unexpected events when a computer program runs. Exception handling deals with these events to avoid the program or systems crashing, and without this process, exceptions would disrupt the normal operations of a program.\n",
        "\n",
        "In python, there are many in-built exceptions that are raised when your program encounters an error (something in the program goes wrong)\n",
        "\n",
        "When these exceptions occur, the python interpreter stops the current process and passes it to the calling process until it's handled. If not handled, the program will crash.\n",
        "\n",
        "$try$ and $except$ keywords are used in python to handle errors and exceptions. The code in try block runs when there is no error. If the try block catches the error, then the except block is executed"
      ],
      "metadata": {
        "id": "RQaOQ7McDhQV"
      }
    },
    {
      "cell_type": "code",
      "source": [
        "a = input(\"Enter the number: \")\n",
        "print(f\"Multiplication table of {a} is:\")\n",
        "try:\n",
        "  for i in range(1,11):\n",
        "    print(f\"{int(a)} X {i} = {int(a)*i}\")\n",
        "# except Exception as e:\n",
        "#   print(f\"{e}\")\n",
        "except:\n",
        "  print(f\"Sorry some error occured\")\n",
        "\n",
        "print(\"Completed\") # This line runs irrespective of error"
      ],
      "metadata": {
        "colab": {
          "base_uri": "https://localhost:8080/"
        },
        "id": "EpkVwC7oe88_",
        "outputId": "124d5969-b9fc-42a7-c1bd-127c3aaf3026"
      },
      "execution_count": null,
      "outputs": [
        {
          "output_type": "stream",
          "name": "stdout",
          "text": [
            "Enter the number: 58\n",
            "Multiplication table of 58 is:\n",
            "58 X 1 = 58\n",
            "58 X 2 = 116\n",
            "58 X 3 = 174\n",
            "58 X 4 = 232\n",
            "58 X 5 = 290\n",
            "58 X 6 = 348\n",
            "58 X 7 = 406\n",
            "58 X 8 = 464\n",
            "58 X 9 = 522\n",
            "58 X 10 = 580\n",
            "Completed\n"
          ]
        }
      ]
    },
    {
      "cell_type": "code",
      "source": [
        "def funcky(t: int):\n",
        "  try:\n",
        "    num = int(input(\"Enter an positive integers: \"))\n",
        "    b = 5/num\n",
        "    if t==0:\n",
        "      a = num + 'r'\n",
        "    elif t==2:\n",
        "      a = chr(num) + 'r'\n",
        "    elif t==1:\n",
        "      return\n",
        "  except ValueError:\n",
        "    print(\"Number entered is not an integer\")\n",
        "  except TypeError:\n",
        "    print(\"Number cannot be added to a string\")\n",
        "  except ZeroDivisionError:\n",
        "    print(\"Division by zero is not possible\")\n",
        "  else:\n",
        "    print(\"Everthing is fine!\")\n",
        "  finally:\n",
        "    print(\"FINALLY! It's over!\")\n",
        "\n",
        "\n",
        "funcky(0)\n",
        "print('\\n')\n",
        "funcky(1)\n",
        "print('\\n')\n",
        "funcky(2)"
      ],
      "metadata": {
        "colab": {
          "base_uri": "https://localhost:8080/"
        },
        "id": "KFr8PBegkS1R",
        "outputId": "658ad6c6-1204-4a20-953b-2383acdaec6c"
      },
      "execution_count": null,
      "outputs": [
        {
          "output_type": "stream",
          "name": "stdout",
          "text": [
            "Enter an positive integers: 5\n",
            "Number cannot be added to a string\n",
            "FINALLY! It's over!\n",
            "\n",
            "\n",
            "Enter an positive integers: 5\n",
            "FINALLY! It's over!\n",
            "\n",
            "\n",
            "Enter an positive integers: 5\n",
            "Everthing is fine!\n",
            "FINALLY! It's over!\n"
          ]
        }
      ]
    },
    {
      "cell_type": "code",
      "source": [
        "k = [3,353,53,35]\n",
        "try:\n",
        "  print(k[5])\n",
        "except IndexError:\n",
        "  print(\"Index out of range\")"
      ],
      "metadata": {
        "colab": {
          "base_uri": "https://localhost:8080/"
        },
        "id": "ty03H-CbkrxM",
        "outputId": "79ff3cd3-838d-419e-b1e4-0a50180183fd"
      },
      "execution_count": null,
      "outputs": [
        {
          "output_type": "stream",
          "name": "stdout",
          "text": [
            "Index out of range\n"
          ]
        }
      ]
    },
    {
      "cell_type": "markdown",
      "source": [
        "### **Finally**\n",
        "\n",
        "Using finally keyword causes the code to always run the lines in the finally keyword's scope.\n",
        "\n",
        "It's property is mainly used in functions as before exiting the scope of functions midway through the process due to return after an error was catched and except block"
      ],
      "metadata": {
        "id": "c81GgWElqSgZ"
      }
    },
    {
      "cell_type": "code",
      "source": [
        "# Finally key word\n",
        "\n",
        "def func1():\n",
        "  try:\n",
        "    l = [1,5,6,7]\n",
        "    i = int(input(\"Enter the index: \"))\n",
        "    print(l[i])\n",
        "    return True\n",
        "  except:\n",
        "    print(\"Some error occured\")\n",
        "    return False\n",
        "  finally:\n",
        "    print(\"I am always executed\")\n",
        "\n",
        "\n",
        "print(func1())"
      ],
      "metadata": {
        "colab": {
          "base_uri": "https://localhost:8080/"
        },
        "id": "K1qrmD-gqO7m",
        "outputId": "21ba1bc4-3ac0-4aed-ffba-48bb338b2cd2"
      },
      "execution_count": null,
      "outputs": [
        {
          "output_type": "stream",
          "name": "stdout",
          "text": [
            "Enter the index: 323\n",
            "Some error occured\n",
            "I am always executed\n",
            "False\n"
          ]
        }
      ]
    },
    {
      "cell_type": "markdown",
      "source": [
        "### **Raising Custom Errors**\n",
        "\n",
        "In python we can raise custom errors by using the $raise$ keyword.\n",
        "\n"
      ],
      "metadata": {
        "id": "dS3w7zl6y_-A"
      }
    },
    {
      "cell_type": "code",
      "source": [
        "def error(a: int):\n",
        "  if a < 5 or a > 9:\n",
        "    raise ValueError(\"Invalid value entered\")\n",
        "\n",
        "try:\n",
        "  a = int(input(\"Enter a number: \"))\n",
        "  error(a)\n",
        "  print(a)\n",
        "except ValueError as e:\n",
        "  print(e)\n"
      ],
      "metadata": {
        "colab": {
          "base_uri": "https://localhost:8080/"
        },
        "id": "cKBzu65B4k89",
        "outputId": "729c4b87-ebb9-4e72-f482-d04fbceeeb59"
      },
      "execution_count": null,
      "outputs": [
        {
          "output_type": "stream",
          "name": "stdout",
          "text": [
            "Enter a number: 3\n",
            "Invalid value entered\n"
          ]
        }
      ]
    },
    {
      "cell_type": "markdown",
      "source": [
        "## **Short-hand if-else**\n",
        "\n",
        "Ruins readablity"
      ],
      "metadata": {
        "id": "3hmmo9Zh8RHH"
      }
    },
    {
      "cell_type": "code",
      "source": [
        "a = 330\n",
        "b = 331\n",
        "print(\"A\") if a > b else print(\"=\") if a == b else print(\"B\")"
      ],
      "metadata": {
        "colab": {
          "base_uri": "https://localhost:8080/"
        },
        "id": "jfDxiY-Z8a-c",
        "outputId": "716c672a-296c-4793-8e5b-71fd73473bf0"
      },
      "execution_count": null,
      "outputs": [
        {
          "output_type": "stream",
          "name": "stdout",
          "text": [
            "B\n"
          ]
        }
      ]
    },
    {
      "cell_type": "code",
      "source": [
        "year = int(input(\"Enter a year: \"))\n",
        "leap = False if year%4!=0 else True if year%100!=0 else True if year%400 == 0 else False\n",
        "print(f\"{year} is a leap year: {leap}\")"
      ],
      "metadata": {
        "colab": {
          "base_uri": "https://localhost:8080/"
        },
        "id": "koVOx3yB8u46",
        "outputId": "7ee71f8d-8674-4452-ad10-9d623f521bef"
      },
      "execution_count": null,
      "outputs": [
        {
          "output_type": "stream",
          "name": "stdout",
          "text": [
            "Enter a year: 2021\n",
            "2021 is a leap year: False\n"
          ]
        }
      ]
    },
    {
      "cell_type": "markdown",
      "source": [
        "## **Enumerate**\n",
        "\n",
        "The enumerate function is a built-in function in python that allows you to loop over a sequence (such as a list,tuple, or string) and get the index and value of each element in the sequence at the same time."
      ],
      "metadata": {
        "id": "21NL2-tCtghg"
      }
    },
    {
      "cell_type": "code",
      "source": [
        "fruits = ['apple','banana','mango']\n",
        "\n",
        "for t in enumerate(fruits):\n",
        "  print(t,\" \", type(t))\n",
        "\n",
        "# The data is of tuple type therefore unpack it in beginning of each iteration of loop\n",
        "for index,value in enumerate(fruits):\n",
        "  print(index,value)\n",
        "  if(index == 2):\n",
        "    print('How you doing?')\n",
        "print(\"\",end = '\\n\\n')\n",
        "\n",
        "\n",
        "# To start enumerate function from a particular index\n",
        "for index,value in enumerate(fruits,start=2):\n",
        "  print(index,value)\n",
        "  if index == 2:\n",
        "    print('How you doing?')\n",
        "\n"
      ],
      "metadata": {
        "colab": {
          "base_uri": "https://localhost:8080/"
        },
        "id": "Q68LFS3BuHQR",
        "outputId": "91e83813-659e-4f8f-f512-f140fdd6822a"
      },
      "execution_count": null,
      "outputs": [
        {
          "output_type": "stream",
          "name": "stdout",
          "text": [
            "(0, 'apple')   <class 'tuple'>\n",
            "(1, 'banana')   <class 'tuple'>\n",
            "(2, 'mango')   <class 'tuple'>\n",
            "0 apple\n",
            "1 banana\n",
            "2 mango\n",
            "How you doing?\n",
            "\n",
            "\n",
            "2 apple\n",
            "How you doing?\n",
            "3 banana\n",
            "4 mango\n"
          ]
        }
      ]
    },
    {
      "cell_type": "markdown",
      "source": [
        "## **Developer Shortcuts for Virtual Environments in Anaconda**"
      ],
      "metadata": {
        "id": "hF1cE2nf86yf"
      }
    },
    {
      "cell_type": "markdown",
      "source": [
        "### Create a New Virtual Environment\n",
        "```bash\n",
        "conda create --name <env_name> python=<version>\n",
        "```\n",
        "Example:\n",
        "```bash\n",
        "conda create --name my_env python=3.9\n",
        "```\n",
        "\n",
        "### Activate a Virtual Environment\n",
        "```bash\n",
        "conda activate <env_name>\n",
        "```\n",
        "Example:\n",
        "```bash\n",
        "conda activate my_env\n",
        "```\n",
        "\n",
        "### Deactivate a Virtual Environment\n",
        "```bash\n",
        "conda deactivate\n",
        "```\n",
        "\n",
        "### List All Virtual Environments\n",
        "```bash\n",
        "conda env list\n",
        "```\n",
        "\n",
        "### Remove a Virtual Environment\n",
        "```bash\n",
        "conda remove --name <env_name> --all\n",
        "```\n",
        "Example:\n",
        "```bash\n",
        "conda remove --name my_env --all\n",
        "```\n",
        "\n",
        "### Export Environment to a YAML File\n",
        "```bash\n",
        "conda env export > environment.yml\n",
        "```\n",
        "\n",
        "### Create Environment from YAML File\n",
        "```bash\n",
        "conda env create -f environment.yml\n",
        "```\n",
        "\n",
        "### Export Requirements to requirements.txt\n",
        "```bash\n",
        "conda list --explicit > requirements.txt\n",
        "```\n",
        "\n",
        "### Export a Simpler requirements.txt\n",
        "Run this within the environment activated environment\n",
        "```bash\n",
        "conda list --export > requirements.txt\n",
        "```\n",
        "### Add a New Package to the Environment\n",
        "```bash\n",
        "conda install -n <env_name> <package_name>\n",
        "```\n",
        "Example:\n",
        "```bash\n",
        "conda install -n my_env numpy\n",
        "```\n",
        "\n",
        "### Update All Packages in the Environment\n",
        "```bash\n",
        "conda update --all\n",
        "```\n",
        "\n",
        "### Search for a Package\n",
        "```bash\n",
        "conda search <package_name>\n",
        "```\n",
        "\n",
        "---\n",
        "\n",
        "### Tips\n",
        "- Always deactivate the current environment before switching to another.\n",
        "- Use `environment.yml` files to ensure reproducibility across systems.\n",
        "- Regularly clean up unused environments to save disk space."
      ],
      "metadata": {
        "id": "3C6-2Ulo5Ic8"
      }
    },
    {
      "cell_type": "markdown",
      "source": [
        "## **Importing in python**\n",
        "\n",
        "Importing in Python is the process of loading code from a Python module into the current script. This allows you to use the functions and variables defined in the module in your current script, as well as any additional modules that the imported module may depend on.\n",
        "\n",
        "To import a module in Python, you use the import statement followed by the name of the module. For example, to import the math module, which contains a variety of mathematical functions."
      ],
      "metadata": {
        "id": "MigexHGlAHDB"
      }
    },
    {
      "cell_type": "code",
      "source": [
        "import pandas\n",
        "\n",
        "pandas.read_csv('/content/sample_data/california_housing_train.csv')"
      ],
      "metadata": {
        "colab": {
          "base_uri": "https://localhost:8080/",
          "height": 444
        },
        "id": "xr-ZIz2DAKfd",
        "outputId": "3b43c798-7b83-482c-d160-1e4e79cee63a"
      },
      "execution_count": null,
      "outputs": [
        {
          "output_type": "execute_result",
          "data": {
            "text/plain": [
              "       longitude  latitude  housing_median_age  total_rooms  total_bedrooms  \\\n",
              "0        -114.31     34.19                15.0       5612.0          1283.0   \n",
              "1        -114.47     34.40                19.0       7650.0          1901.0   \n",
              "2        -114.56     33.69                17.0        720.0           174.0   \n",
              "3        -114.57     33.64                14.0       1501.0           337.0   \n",
              "4        -114.57     33.57                20.0       1454.0           326.0   \n",
              "...          ...       ...                 ...          ...             ...   \n",
              "16995    -124.26     40.58                52.0       2217.0           394.0   \n",
              "16996    -124.27     40.69                36.0       2349.0           528.0   \n",
              "16997    -124.30     41.84                17.0       2677.0           531.0   \n",
              "16998    -124.30     41.80                19.0       2672.0           552.0   \n",
              "16999    -124.35     40.54                52.0       1820.0           300.0   \n",
              "\n",
              "       population  households  median_income  median_house_value  \n",
              "0          1015.0       472.0         1.4936             66900.0  \n",
              "1          1129.0       463.0         1.8200             80100.0  \n",
              "2           333.0       117.0         1.6509             85700.0  \n",
              "3           515.0       226.0         3.1917             73400.0  \n",
              "4           624.0       262.0         1.9250             65500.0  \n",
              "...           ...         ...            ...                 ...  \n",
              "16995       907.0       369.0         2.3571            111400.0  \n",
              "16996      1194.0       465.0         2.5179             79000.0  \n",
              "16997      1244.0       456.0         3.0313            103600.0  \n",
              "16998      1298.0       478.0         1.9797             85800.0  \n",
              "16999       806.0       270.0         3.0147             94600.0  \n",
              "\n",
              "[17000 rows x 9 columns]"
            ],
            "text/html": [
              "\n",
              "  <div id=\"df-0f1b815c-68ef-4ff1-93f2-ee4d854da3cf\" class=\"colab-df-container\">\n",
              "    <div>\n",
              "<style scoped>\n",
              "    .dataframe tbody tr th:only-of-type {\n",
              "        vertical-align: middle;\n",
              "    }\n",
              "\n",
              "    .dataframe tbody tr th {\n",
              "        vertical-align: top;\n",
              "    }\n",
              "\n",
              "    .dataframe thead th {\n",
              "        text-align: right;\n",
              "    }\n",
              "</style>\n",
              "<table border=\"1\" class=\"dataframe\">\n",
              "  <thead>\n",
              "    <tr style=\"text-align: right;\">\n",
              "      <th></th>\n",
              "      <th>longitude</th>\n",
              "      <th>latitude</th>\n",
              "      <th>housing_median_age</th>\n",
              "      <th>total_rooms</th>\n",
              "      <th>total_bedrooms</th>\n",
              "      <th>population</th>\n",
              "      <th>households</th>\n",
              "      <th>median_income</th>\n",
              "      <th>median_house_value</th>\n",
              "    </tr>\n",
              "  </thead>\n",
              "  <tbody>\n",
              "    <tr>\n",
              "      <th>0</th>\n",
              "      <td>-114.31</td>\n",
              "      <td>34.19</td>\n",
              "      <td>15.0</td>\n",
              "      <td>5612.0</td>\n",
              "      <td>1283.0</td>\n",
              "      <td>1015.0</td>\n",
              "      <td>472.0</td>\n",
              "      <td>1.4936</td>\n",
              "      <td>66900.0</td>\n",
              "    </tr>\n",
              "    <tr>\n",
              "      <th>1</th>\n",
              "      <td>-114.47</td>\n",
              "      <td>34.40</td>\n",
              "      <td>19.0</td>\n",
              "      <td>7650.0</td>\n",
              "      <td>1901.0</td>\n",
              "      <td>1129.0</td>\n",
              "      <td>463.0</td>\n",
              "      <td>1.8200</td>\n",
              "      <td>80100.0</td>\n",
              "    </tr>\n",
              "    <tr>\n",
              "      <th>2</th>\n",
              "      <td>-114.56</td>\n",
              "      <td>33.69</td>\n",
              "      <td>17.0</td>\n",
              "      <td>720.0</td>\n",
              "      <td>174.0</td>\n",
              "      <td>333.0</td>\n",
              "      <td>117.0</td>\n",
              "      <td>1.6509</td>\n",
              "      <td>85700.0</td>\n",
              "    </tr>\n",
              "    <tr>\n",
              "      <th>3</th>\n",
              "      <td>-114.57</td>\n",
              "      <td>33.64</td>\n",
              "      <td>14.0</td>\n",
              "      <td>1501.0</td>\n",
              "      <td>337.0</td>\n",
              "      <td>515.0</td>\n",
              "      <td>226.0</td>\n",
              "      <td>3.1917</td>\n",
              "      <td>73400.0</td>\n",
              "    </tr>\n",
              "    <tr>\n",
              "      <th>4</th>\n",
              "      <td>-114.57</td>\n",
              "      <td>33.57</td>\n",
              "      <td>20.0</td>\n",
              "      <td>1454.0</td>\n",
              "      <td>326.0</td>\n",
              "      <td>624.0</td>\n",
              "      <td>262.0</td>\n",
              "      <td>1.9250</td>\n",
              "      <td>65500.0</td>\n",
              "    </tr>\n",
              "    <tr>\n",
              "      <th>...</th>\n",
              "      <td>...</td>\n",
              "      <td>...</td>\n",
              "      <td>...</td>\n",
              "      <td>...</td>\n",
              "      <td>...</td>\n",
              "      <td>...</td>\n",
              "      <td>...</td>\n",
              "      <td>...</td>\n",
              "      <td>...</td>\n",
              "    </tr>\n",
              "    <tr>\n",
              "      <th>16995</th>\n",
              "      <td>-124.26</td>\n",
              "      <td>40.58</td>\n",
              "      <td>52.0</td>\n",
              "      <td>2217.0</td>\n",
              "      <td>394.0</td>\n",
              "      <td>907.0</td>\n",
              "      <td>369.0</td>\n",
              "      <td>2.3571</td>\n",
              "      <td>111400.0</td>\n",
              "    </tr>\n",
              "    <tr>\n",
              "      <th>16996</th>\n",
              "      <td>-124.27</td>\n",
              "      <td>40.69</td>\n",
              "      <td>36.0</td>\n",
              "      <td>2349.0</td>\n",
              "      <td>528.0</td>\n",
              "      <td>1194.0</td>\n",
              "      <td>465.0</td>\n",
              "      <td>2.5179</td>\n",
              "      <td>79000.0</td>\n",
              "    </tr>\n",
              "    <tr>\n",
              "      <th>16997</th>\n",
              "      <td>-124.30</td>\n",
              "      <td>41.84</td>\n",
              "      <td>17.0</td>\n",
              "      <td>2677.0</td>\n",
              "      <td>531.0</td>\n",
              "      <td>1244.0</td>\n",
              "      <td>456.0</td>\n",
              "      <td>3.0313</td>\n",
              "      <td>103600.0</td>\n",
              "    </tr>\n",
              "    <tr>\n",
              "      <th>16998</th>\n",
              "      <td>-124.30</td>\n",
              "      <td>41.80</td>\n",
              "      <td>19.0</td>\n",
              "      <td>2672.0</td>\n",
              "      <td>552.0</td>\n",
              "      <td>1298.0</td>\n",
              "      <td>478.0</td>\n",
              "      <td>1.9797</td>\n",
              "      <td>85800.0</td>\n",
              "    </tr>\n",
              "    <tr>\n",
              "      <th>16999</th>\n",
              "      <td>-124.35</td>\n",
              "      <td>40.54</td>\n",
              "      <td>52.0</td>\n",
              "      <td>1820.0</td>\n",
              "      <td>300.0</td>\n",
              "      <td>806.0</td>\n",
              "      <td>270.0</td>\n",
              "      <td>3.0147</td>\n",
              "      <td>94600.0</td>\n",
              "    </tr>\n",
              "  </tbody>\n",
              "</table>\n",
              "<p>17000 rows × 9 columns</p>\n",
              "</div>\n",
              "    <div class=\"colab-df-buttons\">\n",
              "\n",
              "  <div class=\"colab-df-container\">\n",
              "    <button class=\"colab-df-convert\" onclick=\"convertToInteractive('df-0f1b815c-68ef-4ff1-93f2-ee4d854da3cf')\"\n",
              "            title=\"Convert this dataframe to an interactive table.\"\n",
              "            style=\"display:none;\">\n",
              "\n",
              "  <svg xmlns=\"http://www.w3.org/2000/svg\" height=\"24px\" viewBox=\"0 -960 960 960\">\n",
              "    <path d=\"M120-120v-720h720v720H120Zm60-500h600v-160H180v160Zm220 220h160v-160H400v160Zm0 220h160v-160H400v160ZM180-400h160v-160H180v160Zm440 0h160v-160H620v160ZM180-180h160v-160H180v160Zm440 0h160v-160H620v160Z\"/>\n",
              "  </svg>\n",
              "    </button>\n",
              "\n",
              "  <style>\n",
              "    .colab-df-container {\n",
              "      display:flex;\n",
              "      gap: 12px;\n",
              "    }\n",
              "\n",
              "    .colab-df-convert {\n",
              "      background-color: #E8F0FE;\n",
              "      border: none;\n",
              "      border-radius: 50%;\n",
              "      cursor: pointer;\n",
              "      display: none;\n",
              "      fill: #1967D2;\n",
              "      height: 32px;\n",
              "      padding: 0 0 0 0;\n",
              "      width: 32px;\n",
              "    }\n",
              "\n",
              "    .colab-df-convert:hover {\n",
              "      background-color: #E2EBFA;\n",
              "      box-shadow: 0px 1px 2px rgba(60, 64, 67, 0.3), 0px 1px 3px 1px rgba(60, 64, 67, 0.15);\n",
              "      fill: #174EA6;\n",
              "    }\n",
              "\n",
              "    .colab-df-buttons div {\n",
              "      margin-bottom: 4px;\n",
              "    }\n",
              "\n",
              "    [theme=dark] .colab-df-convert {\n",
              "      background-color: #3B4455;\n",
              "      fill: #D2E3FC;\n",
              "    }\n",
              "\n",
              "    [theme=dark] .colab-df-convert:hover {\n",
              "      background-color: #434B5C;\n",
              "      box-shadow: 0px 1px 3px 1px rgba(0, 0, 0, 0.15);\n",
              "      filter: drop-shadow(0px 1px 2px rgba(0, 0, 0, 0.3));\n",
              "      fill: #FFFFFF;\n",
              "    }\n",
              "  </style>\n",
              "\n",
              "    <script>\n",
              "      const buttonEl =\n",
              "        document.querySelector('#df-0f1b815c-68ef-4ff1-93f2-ee4d854da3cf button.colab-df-convert');\n",
              "      buttonEl.style.display =\n",
              "        google.colab.kernel.accessAllowed ? 'block' : 'none';\n",
              "\n",
              "      async function convertToInteractive(key) {\n",
              "        const element = document.querySelector('#df-0f1b815c-68ef-4ff1-93f2-ee4d854da3cf');\n",
              "        const dataTable =\n",
              "          await google.colab.kernel.invokeFunction('convertToInteractive',\n",
              "                                                    [key], {});\n",
              "        if (!dataTable) return;\n",
              "\n",
              "        const docLinkHtml = 'Like what you see? Visit the ' +\n",
              "          '<a target=\"_blank\" href=https://colab.research.google.com/notebooks/data_table.ipynb>data table notebook</a>'\n",
              "          + ' to learn more about interactive tables.';\n",
              "        element.innerHTML = '';\n",
              "        dataTable['output_type'] = 'display_data';\n",
              "        await google.colab.output.renderOutput(dataTable, element);\n",
              "        const docLink = document.createElement('div');\n",
              "        docLink.innerHTML = docLinkHtml;\n",
              "        element.appendChild(docLink);\n",
              "      }\n",
              "    </script>\n",
              "  </div>\n",
              "\n",
              "\n",
              "<div id=\"df-adccd74f-2b19-441c-ae63-350884d4a190\">\n",
              "  <button class=\"colab-df-quickchart\" onclick=\"quickchart('df-adccd74f-2b19-441c-ae63-350884d4a190')\"\n",
              "            title=\"Suggest charts\"\n",
              "            style=\"display:none;\">\n",
              "\n",
              "<svg xmlns=\"http://www.w3.org/2000/svg\" height=\"24px\"viewBox=\"0 0 24 24\"\n",
              "     width=\"24px\">\n",
              "    <g>\n",
              "        <path d=\"M19 3H5c-1.1 0-2 .9-2 2v14c0 1.1.9 2 2 2h14c1.1 0 2-.9 2-2V5c0-1.1-.9-2-2-2zM9 17H7v-7h2v7zm4 0h-2V7h2v10zm4 0h-2v-4h2v4z\"/>\n",
              "    </g>\n",
              "</svg>\n",
              "  </button>\n",
              "\n",
              "<style>\n",
              "  .colab-df-quickchart {\n",
              "      --bg-color: #E8F0FE;\n",
              "      --fill-color: #1967D2;\n",
              "      --hover-bg-color: #E2EBFA;\n",
              "      --hover-fill-color: #174EA6;\n",
              "      --disabled-fill-color: #AAA;\n",
              "      --disabled-bg-color: #DDD;\n",
              "  }\n",
              "\n",
              "  [theme=dark] .colab-df-quickchart {\n",
              "      --bg-color: #3B4455;\n",
              "      --fill-color: #D2E3FC;\n",
              "      --hover-bg-color: #434B5C;\n",
              "      --hover-fill-color: #FFFFFF;\n",
              "      --disabled-bg-color: #3B4455;\n",
              "      --disabled-fill-color: #666;\n",
              "  }\n",
              "\n",
              "  .colab-df-quickchart {\n",
              "    background-color: var(--bg-color);\n",
              "    border: none;\n",
              "    border-radius: 50%;\n",
              "    cursor: pointer;\n",
              "    display: none;\n",
              "    fill: var(--fill-color);\n",
              "    height: 32px;\n",
              "    padding: 0;\n",
              "    width: 32px;\n",
              "  }\n",
              "\n",
              "  .colab-df-quickchart:hover {\n",
              "    background-color: var(--hover-bg-color);\n",
              "    box-shadow: 0 1px 2px rgba(60, 64, 67, 0.3), 0 1px 3px 1px rgba(60, 64, 67, 0.15);\n",
              "    fill: var(--button-hover-fill-color);\n",
              "  }\n",
              "\n",
              "  .colab-df-quickchart-complete:disabled,\n",
              "  .colab-df-quickchart-complete:disabled:hover {\n",
              "    background-color: var(--disabled-bg-color);\n",
              "    fill: var(--disabled-fill-color);\n",
              "    box-shadow: none;\n",
              "  }\n",
              "\n",
              "  .colab-df-spinner {\n",
              "    border: 2px solid var(--fill-color);\n",
              "    border-color: transparent;\n",
              "    border-bottom-color: var(--fill-color);\n",
              "    animation:\n",
              "      spin 1s steps(1) infinite;\n",
              "  }\n",
              "\n",
              "  @keyframes spin {\n",
              "    0% {\n",
              "      border-color: transparent;\n",
              "      border-bottom-color: var(--fill-color);\n",
              "      border-left-color: var(--fill-color);\n",
              "    }\n",
              "    20% {\n",
              "      border-color: transparent;\n",
              "      border-left-color: var(--fill-color);\n",
              "      border-top-color: var(--fill-color);\n",
              "    }\n",
              "    30% {\n",
              "      border-color: transparent;\n",
              "      border-left-color: var(--fill-color);\n",
              "      border-top-color: var(--fill-color);\n",
              "      border-right-color: var(--fill-color);\n",
              "    }\n",
              "    40% {\n",
              "      border-color: transparent;\n",
              "      border-right-color: var(--fill-color);\n",
              "      border-top-color: var(--fill-color);\n",
              "    }\n",
              "    60% {\n",
              "      border-color: transparent;\n",
              "      border-right-color: var(--fill-color);\n",
              "    }\n",
              "    80% {\n",
              "      border-color: transparent;\n",
              "      border-right-color: var(--fill-color);\n",
              "      border-bottom-color: var(--fill-color);\n",
              "    }\n",
              "    90% {\n",
              "      border-color: transparent;\n",
              "      border-bottom-color: var(--fill-color);\n",
              "    }\n",
              "  }\n",
              "</style>\n",
              "\n",
              "  <script>\n",
              "    async function quickchart(key) {\n",
              "      const quickchartButtonEl =\n",
              "        document.querySelector('#' + key + ' button');\n",
              "      quickchartButtonEl.disabled = true;  // To prevent multiple clicks.\n",
              "      quickchartButtonEl.classList.add('colab-df-spinner');\n",
              "      try {\n",
              "        const charts = await google.colab.kernel.invokeFunction(\n",
              "            'suggestCharts', [key], {});\n",
              "      } catch (error) {\n",
              "        console.error('Error during call to suggestCharts:', error);\n",
              "      }\n",
              "      quickchartButtonEl.classList.remove('colab-df-spinner');\n",
              "      quickchartButtonEl.classList.add('colab-df-quickchart-complete');\n",
              "    }\n",
              "    (() => {\n",
              "      let quickchartButtonEl =\n",
              "        document.querySelector('#df-adccd74f-2b19-441c-ae63-350884d4a190 button');\n",
              "      quickchartButtonEl.style.display =\n",
              "        google.colab.kernel.accessAllowed ? 'block' : 'none';\n",
              "    })();\n",
              "  </script>\n",
              "</div>\n",
              "\n",
              "    </div>\n",
              "  </div>\n"
            ],
            "application/vnd.google.colaboratory.intrinsic+json": {
              "type": "dataframe",
              "summary": "{\n  \"name\": \"pandas\",\n  \"rows\": 17000,\n  \"fields\": [\n    {\n      \"column\": \"longitude\",\n      \"properties\": {\n        \"dtype\": \"number\",\n        \"std\": 2.005166408426173,\n        \"min\": -124.35,\n        \"max\": -114.31,\n        \"num_unique_values\": 827,\n        \"samples\": [\n          -117.56,\n          -123.32,\n          -118.26\n        ],\n        \"semantic_type\": \"\",\n        \"description\": \"\"\n      }\n    },\n    {\n      \"column\": \"latitude\",\n      \"properties\": {\n        \"dtype\": \"number\",\n        \"std\": 2.1373397946570734,\n        \"min\": 32.54,\n        \"max\": 41.95,\n        \"num_unique_values\": 840,\n        \"samples\": [\n          38.44,\n          40.79,\n          32.69\n        ],\n        \"semantic_type\": \"\",\n        \"description\": \"\"\n      }\n    },\n    {\n      \"column\": \"housing_median_age\",\n      \"properties\": {\n        \"dtype\": \"number\",\n        \"std\": 12.586936981660335,\n        \"min\": 1.0,\n        \"max\": 52.0,\n        \"num_unique_values\": 52,\n        \"samples\": [\n          23.0,\n          52.0,\n          47.0\n        ],\n        \"semantic_type\": \"\",\n        \"description\": \"\"\n      }\n    },\n    {\n      \"column\": \"total_rooms\",\n      \"properties\": {\n        \"dtype\": \"number\",\n        \"std\": 2179.947071452768,\n        \"min\": 2.0,\n        \"max\": 37937.0,\n        \"num_unique_values\": 5533,\n        \"samples\": [\n          3564.0,\n          6955.0,\n          5451.0\n        ],\n        \"semantic_type\": \"\",\n        \"description\": \"\"\n      }\n    },\n    {\n      \"column\": \"total_bedrooms\",\n      \"properties\": {\n        \"dtype\": \"number\",\n        \"std\": 421.49945157986514,\n        \"min\": 1.0,\n        \"max\": 6445.0,\n        \"num_unique_values\": 1848,\n        \"samples\": [\n          729.0,\n          719.0,\n          2075.0\n        ],\n        \"semantic_type\": \"\",\n        \"description\": \"\"\n      }\n    },\n    {\n      \"column\": \"population\",\n      \"properties\": {\n        \"dtype\": \"number\",\n        \"std\": 1147.852959159525,\n        \"min\": 3.0,\n        \"max\": 35682.0,\n        \"num_unique_values\": 3683,\n        \"samples\": [\n          249.0,\n          1735.0,\n          235.0\n        ],\n        \"semantic_type\": \"\",\n        \"description\": \"\"\n      }\n    },\n    {\n      \"column\": \"households\",\n      \"properties\": {\n        \"dtype\": \"number\",\n        \"std\": 384.52084085590013,\n        \"min\": 1.0,\n        \"max\": 6082.0,\n        \"num_unique_values\": 1740,\n        \"samples\": [\n          390.0,\n          1089.0,\n          1351.0\n        ],\n        \"semantic_type\": \"\",\n        \"description\": \"\"\n      }\n    },\n    {\n      \"column\": \"median_income\",\n      \"properties\": {\n        \"dtype\": \"number\",\n        \"std\": 1.908156518379093,\n        \"min\": 0.4999,\n        \"max\": 15.0001,\n        \"num_unique_values\": 11175,\n        \"samples\": [\n          7.2655,\n          5.6293,\n          4.2262\n        ],\n        \"semantic_type\": \"\",\n        \"description\": \"\"\n      }\n    },\n    {\n      \"column\": \"median_house_value\",\n      \"properties\": {\n        \"dtype\": \"number\",\n        \"std\": 115983.76438720913,\n        \"min\": 14999.0,\n        \"max\": 500001.0,\n        \"num_unique_values\": 3694,\n        \"samples\": [\n          162300.0,\n          346800.0,\n          116700.0\n        ],\n        \"semantic_type\": \"\",\n        \"description\": \"\"\n      }\n    }\n  ]\n}"
            }
          },
          "metadata": {},
          "execution_count": 9
        }
      ]
    },
    {
      "cell_type": "markdown",
      "source": [
        "Once a module is imported, you can use any of the functions and variables defined in the module by using the dot notation."
      ],
      "metadata": {
        "id": "9mrm3B5fCc78"
      }
    },
    {
      "cell_type": "code",
      "source": [
        "import math #imports modules from math library and can be used using math.function_name\n",
        "\n",
        "math.floor(32.42523)"
      ],
      "metadata": {
        "colab": {
          "base_uri": "https://localhost:8080/"
        },
        "id": "XakSAnlKAZb3",
        "outputId": "f7252a56-7c84-467f-d46d-e2eb8de4cda5"
      },
      "execution_count": null,
      "outputs": [
        {
          "output_type": "execute_result",
          "data": {
            "text/plain": [
              "32"
            ]
          },
          "metadata": {},
          "execution_count": 10
        }
      ]
    },
    {
      "cell_type": "code",
      "source": [
        "from math import sqrt #import a particular module\n",
        "\n",
        "sqrt(9)"
      ],
      "metadata": {
        "colab": {
          "base_uri": "https://localhost:8080/"
        },
        "id": "OJmSWGdwAraR",
        "outputId": "b68c674d-d43c-4790-a65e-744b59c6ad46"
      },
      "execution_count": null,
      "outputs": [
        {
          "output_type": "execute_result",
          "data": {
            "text/plain": [
              "3.0"
            ]
          },
          "metadata": {},
          "execution_count": 12
        }
      ]
    },
    {
      "cell_type": "code",
      "source": [
        "from math import * #import all modules\n",
        "\n",
        "sqrt(9)"
      ],
      "metadata": {
        "colab": {
          "base_uri": "https://localhost:8080/"
        },
        "id": "9eMCoHCuB2LK",
        "outputId": "30e0c2ec-b0d9-491b-a6cc-99891539ac29"
      },
      "execution_count": null,
      "outputs": [
        {
          "output_type": "execute_result",
          "data": {
            "text/plain": [
              "3.0"
            ]
          },
          "metadata": {},
          "execution_count": 20
        }
      ]
    },
    {
      "cell_type": "code",
      "source": [
        "from math import sqrt,pi as s,#import particular modules with alias\n",
        "result = sqrt(100) * pi\n",
        "print(result)"
      ],
      "metadata": {
        "colab": {
          "base_uri": "https://localhost:8080/"
        },
        "id": "gVSy5OiLA2Ei",
        "outputId": "004694e2-a010-4b92-c6c4-89b3ad323bf4"
      },
      "execution_count": null,
      "outputs": [
        {
          "output_type": "stream",
          "name": "stdout",
          "text": [
            "31.41592653589793\n"
          ]
        }
      ]
    },
    {
      "cell_type": "code",
      "source": [
        "import math\n",
        "\n",
        "print(dir(math))\n",
        "print(math.nan,type(math.nan))"
      ],
      "metadata": {
        "colab": {
          "base_uri": "https://localhost:8080/"
        },
        "id": "fRe-AI9tEyGP",
        "outputId": "213c19cb-2ef5-4177-975e-4389e056ed59"
      },
      "execution_count": null,
      "outputs": [
        {
          "output_type": "stream",
          "name": "stdout",
          "text": [
            "['__doc__', '__loader__', '__name__', '__package__', '__spec__', 'acos', 'acosh', 'asin', 'asinh', 'atan', 'atan2', 'atanh', 'ceil', 'comb', 'copysign', 'cos', 'cosh', 'degrees', 'dist', 'e', 'erf', 'erfc', 'exp', 'expm1', 'fabs', 'factorial', 'floor', 'fmod', 'frexp', 'fsum', 'gamma', 'gcd', 'hypot', 'inf', 'isclose', 'isfinite', 'isinf', 'isnan', 'isqrt', 'lcm', 'ldexp', 'lgamma', 'log', 'log10', 'log1p', 'log2', 'modf', 'nan', 'nextafter', 'perm', 'pi', 'pow', 'prod', 'radians', 'remainder', 'sin', 'sinh', 'sqrt', 'tan', 'tanh', 'tau', 'trunc', 'ulp']\n",
            "nan <class 'float'>\n"
          ]
        }
      ]
    },
    {
      "cell_type": "markdown",
      "source": [
        "### **Create Custom Module**\n",
        "\n",
        "Any python file 1 if called in python file 2 given that file 1 is present in the same directory as the file 2 will just fine."
      ],
      "metadata": {
        "id": "3HLEeXQvJEIt"
      }
    },
    {
      "cell_type": "markdown",
      "source": [
        "\n",
        "I made a naman.py file with this code:\n",
        "```python\n",
        "def welcome():\n",
        "    print(\"My name is Naman\")\n",
        "\n",
        "welcome()\n",
        "```\n",
        "\n",
        "And when I imported this module in my main.py\n",
        "\n",
        "```python\n",
        "import naman\n",
        "\n",
        "\n",
        "```\n",
        "\n",
        "```bash\n",
        "My name is Naman\n",
        "My name is Naman\n",
        "```\n",
        "\n",
        "this is because welcome is executed twice once when calling the function in main.py and other in naman.py\n",
        "\n",
        "So use ```if __name__ == \"__main__\":``` instead in the naman.py file.```__name__``` represents from the code is being run.\n",
        "\n",
        "```python\n",
        "def welcome():\n",
        "    print(\"My name is Naman\")\n",
        "\n",
        "if __name__ == \"__main__\":\n",
        "    welcome()\n",
        "\n",
        "```\n",
        "\n",
        "this way the output will be only:\n",
        "\n",
        "```\n",
        "My name is Naman\n",
        "```\n",
        "1. **Direct Execution Check:** When `naman.py` is run directly, `__name__` is set to `\"__main__\"`, causing the `welcome()` function within the `if __name__ == \"__main__\":` block to execute, printing \"My name is Naman\" just once.\n",
        "\n",
        "2. **Import Behavior:** When `naman.py` is imported as a module in another script like `main.py`, `__name__` is set to `\"naman\"`, not `\"__main__\"`, so the `welcome()` function inside the `if` block does not execute, preventing it from printing \"My name is Naman\" again."
      ],
      "metadata": {
        "id": "zew1_FwcQWLc"
      }
    },
    {
      "cell_type": "markdown",
      "source": [
        "## **os Module**\n",
        "\n",
        "The os module in Python is a built-in library that provides functions for interacting with the operating system. It allows you to perform a wide variety of tasks, such as reading and writing files, interacting with the file system, and running system commands."
      ],
      "metadata": {
        "id": "OMDgLe-CtK3_"
      }
    },
    {
      "cell_type": "code",
      "source": [
        "import os\n",
        "\n",
        "This_folder = os.getcwd()\n",
        "print(This_folder)\n",
        "\n",
        "myfolder = os.path.join(This_folder,\"drive/MyDrive/Python\")\n",
        "print(myfolder)"
      ],
      "metadata": {
        "colab": {
          "base_uri": "https://localhost:8080/"
        },
        "id": "JfJmzZ2SKjYx",
        "outputId": "f4f92dd9-0937-4d9e-8311-ed402612a8a2"
      },
      "execution_count": null,
      "outputs": [
        {
          "output_type": "stream",
          "name": "stdout",
          "text": [
            "/content\n",
            "/content/drive/MyDrive/Python\n"
          ]
        }
      ]
    },
    {
      "cell_type": "code",
      "source": [
        "os.chdir(myfolder)\n",
        "print(os.getcwd())"
      ],
      "metadata": {
        "colab": {
          "base_uri": "https://localhost:8080/"
        },
        "id": "CZwC8Td54B09",
        "outputId": "f983f541-344c-4040-f2d5-031ebe2cb1fc"
      },
      "execution_count": null,
      "outputs": [
        {
          "output_type": "stream",
          "name": "stdout",
          "text": [
            "/content/drive/MyDrive/Python\n"
          ]
        }
      ]
    },
    {
      "cell_type": "code",
      "source": [
        "for dir_list in os.listdir():\n",
        "  print(dir_list)"
      ],
      "metadata": {
        "colab": {
          "base_uri": "https://localhost:8080/"
        },
        "id": "WHR_-bYT4D4m",
        "outputId": "8b7bc5dc-0567-42aa-c1e9-18465a5a57ee"
      },
      "execution_count": null,
      "outputs": [
        {
          "output_type": "stream",
          "name": "stdout",
          "text": [
            ".ipynb_checkpoints\n",
            "naman.py\n",
            "main.py\n",
            "myfile.txt\n",
            "Python Notebook.ipynb\n"
          ]
        }
      ]
    },
    {
      "cell_type": "code",
      "source": [
        "# Creates a new file and writes in it\n",
        "with open('myfile1.txt', 'w') as fp:\n",
        "    fp.write(\"This is a file created using os module\")"
      ],
      "metadata": {
        "id": "8KlXwPnI4O1v"
      },
      "execution_count": null,
      "outputs": []
    },
    {
      "cell_type": "code",
      "source": [
        "for dir_list in os.listdir():\n",
        "  print(dir_list)"
      ],
      "metadata": {
        "colab": {
          "base_uri": "https://localhost:8080/"
        },
        "id": "vQ9LKn3B42Hl",
        "outputId": "ae7fcaea-6dd0-4353-8fc5-11f82cc6fcaa"
      },
      "execution_count": null,
      "outputs": [
        {
          "output_type": "stream",
          "name": "stdout",
          "text": [
            ".ipynb_checkpoints\n",
            "naman.py\n",
            "main.py\n",
            "myfile.txt\n",
            "Python Notebook.ipynb\n",
            "myfile1.txt\n"
          ]
        }
      ]
    },
    {
      "cell_type": "code",
      "source": [
        "f = os.open('myfile.txt',os.O_RDONLY)\n",
        "\n",
        "contents = os.read(f,1024)\n",
        "print(contents)\n",
        "\n",
        "os.close(f)"
      ],
      "metadata": {
        "colab": {
          "base_uri": "https://localhost:8080/"
        },
        "id": "N6PB_SfW48hQ",
        "outputId": "4c0ffbcd-995f-43dc-d3bb-7ded37219183"
      },
      "execution_count": null,
      "outputs": [
        {
          "output_type": "stream",
          "name": "stdout",
          "text": [
            "b'This is file created using os module'\n"
          ]
        }
      ]
    },
    {
      "cell_type": "code",
      "source": [
        "os.listdir(\".\")"
      ],
      "metadata": {
        "colab": {
          "base_uri": "https://localhost:8080/"
        },
        "id": "91AHsZCR5y6I",
        "outputId": "465fa692-30f3-443f-fd58-81c9c1fc49f4"
      },
      "execution_count": null,
      "outputs": [
        {
          "output_type": "execute_result",
          "data": {
            "text/plain": [
              "['.ipynb_checkpoints',\n",
              " 'naman.py',\n",
              " 'main.py',\n",
              " 'myfile.txt',\n",
              " 'Python Notebook.ipynb',\n",
              " 'myfile1.txt']"
            ]
          },
          "metadata": {},
          "execution_count": 7
        }
      ]
    },
    {
      "cell_type": "code",
      "source": [
        "if os.path.exists(\"data\") is False:\n",
        "  os.mkdir(\"data\")\n",
        "\n",
        "for i in range(0,100):\n",
        "  os.mkdir(f\"data/day{i+1}\")"
      ],
      "metadata": {
        "id": "65MBDBnp71cX"
      },
      "execution_count": null,
      "outputs": []
    },
    {
      "cell_type": "code",
      "source": [
        "for i in range(0,100):\n",
        "  os.rename(f\"data/day{i+1}\",f\"data/Tutorial {i+1}\")"
      ],
      "metadata": {
        "id": "nCBDJs9SEXSI"
      },
      "execution_count": null,
      "outputs": []
    },
    {
      "cell_type": "code",
      "source": [
        "os.makedirs('data/Sub-dir-1')"
      ],
      "metadata": {
        "id": "xbHxLBtRZ9ln"
      },
      "execution_count": null,
      "outputs": []
    },
    {
      "cell_type": "code",
      "source": [
        "os.rmdir('data/Sub-dir-1') #for removing particular directories"
      ],
      "metadata": {
        "id": "XCRbHvcpYyc2"
      },
      "execution_count": null,
      "outputs": []
    },
    {
      "cell_type": "code",
      "source": [
        "try:\n",
        "  os.removedirs('data')  #for removing complete directories\n",
        "except Exception as e:\n",
        "  print(e)\n",
        "  print(\"This error is printed as the directory is not empty and removedirs doesn't remove the directories which are not empty\")"
      ],
      "metadata": {
        "colab": {
          "base_uri": "https://localhost:8080/"
        },
        "id": "0KVRTQVTZqdB",
        "outputId": "26cec16c-c111-4044-e0a1-594d9496a8f0"
      },
      "execution_count": null,
      "outputs": [
        {
          "output_type": "stream",
          "name": "stdout",
          "text": [
            "[Errno 39] Directory not empty: 'data'\n",
            "This error is printed as the directory is not empty and removedirs doesn't remove the directories which are not empty\n"
          ]
        }
      ]
    },
    {
      "cell_type": "code",
      "source": [
        "import shutil\n",
        "# Delete a Non-Empty Directory using shutil\n",
        "\n",
        "shutil.rmtree('data',ignore_errors=True,onerror=None)"
      ],
      "metadata": {
        "id": "B4uE9_Tnbfki"
      },
      "execution_count": null,
      "outputs": []
    },
    {
      "cell_type": "code",
      "source": [
        "from datetime import datetime\n",
        "\n",
        "mod_time = os.stat('myfile.txt').st_mtime\n",
        "print(datetime.fromtimestamp(mod_time))"
      ],
      "metadata": {
        "colab": {
          "base_uri": "https://localhost:8080/"
        },
        "id": "TnX2KTIacKRB",
        "outputId": "62e8b78c-68ba-4631-9285-dc6eecb001fa"
      },
      "execution_count": null,
      "outputs": [
        {
          "output_type": "stream",
          "name": "stdout",
          "text": [
            "2025-01-11 06:20:40\n"
          ]
        }
      ]
    },
    {
      "cell_type": "code",
      "source": [
        "for dirpath,dirname,filenames in os.walk(os.getcwd()):\n",
        "  print(\"Current Path:\",dirpath)\n",
        "  print(\"Directories:\",dirname)\n",
        "  print(\"Files:\",filenames)\n",
        "  print()"
      ],
      "metadata": {
        "colab": {
          "base_uri": "https://localhost:8080/"
        },
        "id": "RPXZsz1wedm8",
        "outputId": "3e77b2f1-be4a-411c-d264-1ad6e09b94d7"
      },
      "execution_count": null,
      "outputs": [
        {
          "output_type": "stream",
          "name": "stdout",
          "text": [
            "Current Path: /content/drive/MyDrive/Python\n",
            "Directories: ['.ipynb_checkpoints']\n",
            "Files: ['naman.py', 'main.py', 'myfile.txt', 'Python Notebook.ipynb', 'myfile1.txt']\n",
            "\n",
            "Current Path: /content/drive/MyDrive/Python/.ipynb_checkpoints\n",
            "Directories: []\n",
            "Files: []\n",
            "\n"
          ]
        }
      ]
    },
    {
      "cell_type": "markdown",
      "source": [
        "### **Files IO**\n",
        "\n",
        "#### **Opening a file**\n",
        " Python provides the open() function to open a file. It takes two arguments: the name of the file and the mode in which the file should be opened. The mode can be 'r' for reading, 'w' for writing, or 'a' for appending.\n",
        "\n",
        "#### **Modes in file**\n",
        "\n",
        "There are various modes in which we can open files.\n",
        "\n",
        "- read (r): This mode opens the file for reading only and gives an error if the file does not exist. This is the default mode if no mode is passed as a parameter.\n",
        "\n",
        "- write (w): This mode opens the file for writing only and creates a new file if the file does not exist. It overwrites over a content.\n",
        "\n",
        "- append (a): This mode opens the file for appending only and creates a new file if the file does not exist.\n",
        "\n",
        "- create (x): This mode creates a file and gives an error if the file already exists.\n",
        "\n",
        "- text (t): Apart from these modes we also need to specify how the file must be handled. t mode is used to handle text files. t refers to the text mode. There is no difference between r and rt or w and wt since text mode is the default. The default mode is 'r' (open for reading text, synonym of 'rt' ).\n",
        "\n",
        "- binary (b): used to handle binary files (images, pdfs, etc).\n",
        "\n"
      ],
      "metadata": {
        "id": "gousHoXShzay"
      }
    },
    {
      "cell_type": "code",
      "source": [
        "f = open('myfile.txt','r')\n",
        "print(f.read())\n",
        "f.close()\n",
        "\n",
        "with open('myfile.txt','a') as f: #Automatically closes the file after being open\n",
        "  f.write(\".\\nHi! now opening the file via file handling in python. \")\n",
        "\n",
        "f = open('myfile.txt','r')\n",
        "print(f.read())\n",
        "f.close()"
      ],
      "metadata": {
        "colab": {
          "base_uri": "https://localhost:8080/"
        },
        "id": "eGdySXinhxeu",
        "outputId": "e7b4a302-51e2-4327-dabb-68de92dc8bf2"
      },
      "execution_count": null,
      "outputs": [
        {
          "output_type": "stream",
          "name": "stdout",
          "text": [
            "This is file created using os module.\n",
            "Hi! now opening the file via file handling in python\n",
            "This is file created using os module.\n",
            "Hi! now opening the file via file handling in python.\n",
            "Hi! now opening the file via file handling in python. \n"
          ]
        }
      ]
    },
    {
      "cell_type": "markdown",
      "source": [
        "#### **readlines() method**\n",
        "The readline() method reads a single line from the file. If we want to read multiple lines, we can use a loop.\n",
        "\n",
        "The readlines() method reads all the lines of the file and returns them as a list of strings."
      ],
      "metadata": {
        "id": "8QY-8Cn5xSO0"
      }
    },
    {
      "cell_type": "code",
      "source": [
        "f = open('myfile.txt', 'r')\n",
        "while True:\n",
        "    line = f.readline()\n",
        "    if not line:\n",
        "        break\n",
        "    print(line)"
      ],
      "metadata": {
        "colab": {
          "base_uri": "https://localhost:8080/"
        },
        "id": "kZykd7okxw9A",
        "outputId": "e2b382d0-a4f7-455c-f67c-ff36e7b4a61c"
      },
      "execution_count": null,
      "outputs": [
        {
          "output_type": "stream",
          "name": "stdout",
          "text": [
            "This is file created using os module.\n",
            "\n",
            "Hi! now opening the file via file handling in python.\n",
            "\n",
            "Hi! now opening the file via file handling in python. \n"
          ]
        }
      ]
    },
    {
      "cell_type": "markdown",
      "source": [
        "#### **writelines() method**\n",
        "The writelines() method in Python writes a sequence of strings to a file. The sequence can be any iterable object, such as a list or a tuple."
      ],
      "metadata": {
        "id": "2HX3zQ2XyQ-3"
      }
    },
    {
      "cell_type": "code",
      "source": [
        "f = open('myfile3.txt', 'w')\n",
        "lines = ['line 1\\nline 2\\nline 3\\n']\n",
        "f.writelines(lines)\n",
        "f.close()"
      ],
      "metadata": {
        "id": "hQgSZx6bx9Ab"
      },
      "execution_count": null,
      "outputs": []
    },
    {
      "cell_type": "code",
      "source": [
        "f = open('myfile.txt', 'w')\n",
        "lines = ['line 1', 'line 2', 'line 3']\n",
        "for line in lines:\n",
        "    f.write(line + '\\n')\n",
        "f.close()"
      ],
      "metadata": {
        "id": "qZlZ77z50gT_"
      },
      "execution_count": null,
      "outputs": []
    },
    {
      "cell_type": "markdown",
      "source": [
        "#### **seek(), tell() and truncate() methods**\n",
        "\n",
        "In Python, the seek() and tell() functions are used to work with file objects and their positions within a file. These functions are part of the built-in io module, which provides a consistent interface for reading and writing to various file-like objects, such as files, pipes, and in-memory buffers.\n",
        "\n",
        "The **seek()** function allows you to move the current position within a file to a specific point. The position is specified in bytes, and you can move either forward or backward from the current position.\n",
        "\n",
        "The **tell()** function returns the current position within the file, in bytes. This can be useful for keeping track of your location within the file or for seeking to a specific position relative to the current position.\n",
        "\n",
        "When you open a file in Python using the open function, you can specify the mode in which you want to open the file. If you specify the mode as 'w' or 'a', the file is opened in write mode and you can write to the file. However, if you want to truncate the file to a specific size, you can use the **truncate()**."
      ],
      "metadata": {
        "id": "C7m_eWbhasMN"
      }
    },
    {
      "cell_type": "code",
      "source": [
        "import os\n",
        "print(os.getcwd())\n",
        "os.chdir('/content/drive/MyDrive/Python')\n",
        "print(os.getcwd())\n",
        "\n",
        "with open('myfile.txt','r') as f:\n",
        "  print(type(f))\n",
        "\n",
        "  f.seek(10)\n",
        "\n",
        "  data = f.read(10)\n",
        "  print(data)\n",
        "\n",
        "  print(f.tell())"
      ],
      "metadata": {
        "colab": {
          "base_uri": "https://localhost:8080/"
        },
        "id": "_p7_nGveaqr0",
        "outputId": "a2e4bed8-63b3-40e1-9ad0-8e9c3563e1f5"
      },
      "execution_count": null,
      "outputs": [
        {
          "output_type": "stream",
          "name": "stdout",
          "text": [
            "/content/drive/MyDrive/Python\n",
            "/content/drive/MyDrive/Python\n",
            "<class '_io.TextIOWrapper'>\n",
            "le created\n",
            "20\n"
          ]
        }
      ]
    },
    {
      "cell_type": "markdown",
      "source": [
        "## **Local Variable vs Global Variable**\n",
        "\n",
        "A local variable is a variable that is defined within a function and is only accessible within that function. It is created when the function is called and is destroyed when the function returns.\n",
        "\n",
        "On the other hand, a global variable is a variable that is defined outside of a function and is accessible from within any function in your code."
      ],
      "metadata": {
        "id": "j2a0TAHVFFJD"
      }
    },
    {
      "cell_type": "code",
      "source": [
        "x = 10\n",
        "\n",
        "def my_function():\n",
        "    x = 5\n",
        "    print(x)\n",
        "\n",
        "my_function()\n",
        "print(x)"
      ],
      "metadata": {
        "colab": {
          "base_uri": "https://localhost:8080/"
        },
        "id": "N93veVMDFmmX",
        "outputId": "05d58d6b-03ab-4354-d4e8-0eac5391b050"
      },
      "execution_count": null,
      "outputs": [
        {
          "output_type": "stream",
          "name": "stdout",
          "text": [
            "5\n",
            "10\n"
          ]
        }
      ]
    },
    {
      "cell_type": "code",
      "source": [
        "x = 10\n",
        "\n",
        "def my_function():\n",
        "    global x\n",
        "    x = 5\n",
        "    y = 5\n",
        "\n",
        "my_function()\n",
        "print(x)\n",
        "try:\n",
        "  print(y)\n",
        "except Exception as e:\n",
        "  print(e)"
      ],
      "metadata": {
        "colab": {
          "base_uri": "https://localhost:8080/"
        },
        "id": "fVeg4O4pFyQI",
        "outputId": "f83555f3-b07d-4c67-9b4b-adfc9540e365"
      },
      "execution_count": null,
      "outputs": [
        {
          "output_type": "stream",
          "name": "stdout",
          "text": [
            "5\n",
            "name 'y' is not defined\n"
          ]
        }
      ]
    },
    {
      "cell_type": "markdown",
      "source": [
        "## **Lambda Function**\n",
        "\n",
        "In Python, a lambda function is a small anonymous function without a name. It is defined using the lambda keyword and has the following syntax:\n",
        "\n",
        "```python\n",
        "lambda arguments: expression\n",
        "```\n",
        "Lambda functions are often used in situations where a small function is required for a short period of time. They are commonly used as arguments to higher-order functions, such as map, filter, and reduce."
      ],
      "metadata": {
        "id": "iTJK3_5Je4LV"
      }
    },
    {
      "cell_type": "code",
      "source": [
        "from re import X\n",
        "double = lambda x: x * 2\n",
        "print(double(5))\n",
        "cube = lambda x: x * x * x\n",
        "print(cube(3))\n",
        "avg = lambda x,y,z: (x+y+z)/3\n",
        "print(avg(3,5,2))"
      ],
      "metadata": {
        "colab": {
          "base_uri": "https://localhost:8080/"
        },
        "id": "d5fR1pPRf9LF",
        "outputId": "3a9c1f9b-d87c-4ffb-ec09-face8abd4a82"
      },
      "execution_count": null,
      "outputs": [
        {
          "output_type": "stream",
          "name": "stdout",
          "text": [
            "10\n",
            "27\n",
            "3.3333333333333335\n"
          ]
        }
      ]
    },
    {
      "cell_type": "code",
      "source": [
        "#passing function as an argument\n",
        "\n",
        "def appl(fx,value):\n",
        "  return 5 + fx(value)\n",
        "\n",
        "print(appl(double,3))\n",
        "print(appl(cube,3))"
      ],
      "metadata": {
        "colab": {
          "base_uri": "https://localhost:8080/"
        },
        "id": "vGCnagQAhPcV",
        "outputId": "718111a7-3446-4b38-8b0d-457d458f55bc"
      },
      "execution_count": null,
      "outputs": [
        {
          "output_type": "stream",
          "name": "stdout",
          "text": [
            "11\n",
            "32\n"
          ]
        }
      ]
    },
    {
      "cell_type": "code",
      "source": [
        "# using lambda with sorted function\n",
        "points2D =  [(1,2),(15,1),(5,-1),(10,4)]\n",
        "points2D_sorted = sorted(points2D,key = lambda x: x[1] + x[0])\n",
        "print(points2D)\n",
        "print(points2D_sorted)"
      ],
      "metadata": {
        "colab": {
          "base_uri": "https://localhost:8080/"
        },
        "id": "L7ZSVHDyHy1o",
        "outputId": "6ae97851-f5b9-4446-aa28-693f0868eac5"
      },
      "execution_count": null,
      "outputs": [
        {
          "output_type": "stream",
          "name": "stdout",
          "text": [
            "[(1, 2), (15, 1), (5, -1), (10, 4)]\n",
            "[(1, 2), (5, -1), (10, 4), (15, 1)]\n"
          ]
        }
      ]
    },
    {
      "cell_type": "markdown",
      "source": [
        "### **Map, Filter and Reduce**\n",
        "The map, filter, and reduce functions are built-in functions that allow you to apply a function to a sequence of elements and return a new sequence. These functions are known as higher-order functions, as they take other functions as arguments.\n",
        "\n",
        "The map function applies a function to each element in a sequence and returns a new sequence containing the transformed elements. The map function has the following syntax\n",
        "\n",
        "```python\n",
        "map(function , iterable)\n",
        "```\n",
        "\n"
      ],
      "metadata": {
        "id": "EbBIZuosJv6y"
      }
    },
    {
      "cell_type": "code",
      "source": [
        "# using lambda with map function\n",
        "a = [1,2,3,4,5]\n",
        "b = map(lambda x: x**2,a)\n",
        "print(list(b))"
      ],
      "metadata": {
        "colab": {
          "base_uri": "https://localhost:8080/"
        },
        "id": "h1HXu_NlI7FP",
        "outputId": "f9a6aef2-2ddb-44e1-d7eb-391b9ad7a866"
      },
      "execution_count": null,
      "outputs": [
        {
          "output_type": "stream",
          "name": "stdout",
          "text": [
            "[1, 4, 9, 16, 25]\n"
          ]
        }
      ]
    },
    {
      "cell_type": "markdown",
      "source": [
        "The filter function filters a sequence of elements based on a given predicate (a function that returns a boolean value) and returns a new sequence containing only the elements that meet the predicate. The filter function has the following syntax:\n",
        "```python\n",
        "filter(predicate, iterable)\n",
        "```\n",
        "The predicate argument is a function that returns a boolean value and is applied to each element in the iterable argument. The iterable argument can be a list, tuple, or any other iterable object.\n",
        "\n"
      ],
      "metadata": {
        "id": "2jO1AVMfQpL8"
      }
    },
    {
      "cell_type": "code",
      "source": [
        "a = [1,2,3,4,5,6]\n",
        "b = filter(lambda x: x%2==0,a)\n",
        "print(list(b))"
      ],
      "metadata": {
        "colab": {
          "base_uri": "https://localhost:8080/"
        },
        "id": "vM9whfsWQxQq",
        "outputId": "d1a5bd09-3446-4a4e-919d-da5337dfb248"
      },
      "execution_count": null,
      "outputs": [
        {
          "output_type": "stream",
          "name": "stdout",
          "text": [
            "[2, 4, 6]\n"
          ]
        }
      ]
    },
    {
      "cell_type": "markdown",
      "source": [
        "The reduce function is a higher-order function that applies a function to a sequence and returns a single value. It is a part of the functools module in Python and has the following syntax:\n",
        "```python\n",
        "reduce(function, iterable)\n",
        "```\n",
        "The function argument is a function that takes in two arguments and returns a single value. The iterable argument is a sequence of elements, such as a list or tuple.\n",
        "\n",
        "The reduce function applies the function to the first two elements in the iterable and then applies the function to the result and the next element, and so on. The reduce function returns the final result."
      ],
      "metadata": {
        "id": "ch7vnUjYRlQw"
      }
    },
    {
      "cell_type": "code",
      "source": [
        "from functools import reduce\n",
        "\n",
        "# List of numbers\n",
        "numbers = [1, 2, 3, 4, 5]\n",
        "\n",
        "# Calculate the diff of the numbers using the reduce function\n",
        "sum = reduce(lambda x, y: x * y, numbers)\n",
        "\n",
        "# Print the sum\n",
        "print(sum)"
      ],
      "metadata": {
        "colab": {
          "base_uri": "https://localhost:8080/"
        },
        "id": "OhPgiBuLRpuc",
        "outputId": "30e4d265-100d-4383-dc92-de77a1e8a503"
      },
      "execution_count": null,
      "outputs": [
        {
          "output_type": "stream",
          "name": "stdout",
          "text": [
            "120\n"
          ]
        }
      ]
    },
    {
      "cell_type": "markdown",
      "source": [
        "## **any()**\n",
        "\n",
        "The any() function returns True if any item in an iterable are true, otherwise it returns False.\n",
        "\n",
        "If the iterable object is empty, the any() function will return False."
      ],
      "metadata": {
        "id": "zt5pbRBzTgA_"
      }
    },
    {
      "cell_type": "code",
      "source": [
        "mylist = [False, True, False]\n",
        "x = any(mylist)\n",
        "print(x)"
      ],
      "metadata": {
        "colab": {
          "base_uri": "https://localhost:8080/"
        },
        "id": "dWJjJtAbUCnT",
        "outputId": "ad4815ce-c96d-4f95-a854-65f696d74101"
      },
      "execution_count": null,
      "outputs": [
        {
          "output_type": "stream",
          "name": "stdout",
          "text": [
            "True\n"
          ]
        }
      ]
    },
    {
      "cell_type": "code",
      "source": [
        "mytuple = (0, 1, False)\n",
        "x = any(mytuple)\n",
        "print(x)"
      ],
      "metadata": {
        "colab": {
          "base_uri": "https://localhost:8080/"
        },
        "id": "9efgIXpdTok4",
        "outputId": "6ec632a7-ee9d-4214-92d4-e9a331ebb6fc"
      },
      "execution_count": null,
      "outputs": [
        {
          "output_type": "stream",
          "name": "stdout",
          "text": [
            "True\n"
          ]
        }
      ]
    },
    {
      "cell_type": "markdown",
      "source": [
        "## **Time Module in Python**\n",
        "\n",
        "- Python’s time module provides a variety of functions that help you work with time-related tasks.\n",
        "- You can measure time intervals, pause your program, convert between different time representations, and format time stamps for display.\n"
      ],
      "metadata": {
        "id": "iTXCTn0kixGK"
      }
    },
    {
      "cell_type": "code",
      "source": [
        "import time\n",
        "count = 1\n",
        "start = time.time() #Returns the current time in seconds since the “Unix Epoch” (January 1, 1970, 00:00:00 UTC).\n",
        "# some code here\n",
        "for i in range(1000):\n",
        "  count += 1\n",
        "end = time.time()\n",
        "print(\"Time taken:\", end - start, \"seconds\")\n"
      ],
      "metadata": {
        "colab": {
          "base_uri": "https://localhost:8080/"
        },
        "id": "cIHuJehijmDq",
        "outputId": "6dc32ea6-64fa-4c64-d868-fb6ba682313f"
      },
      "execution_count": null,
      "outputs": [
        {
          "output_type": "stream",
          "name": "stdout",
          "text": [
            "Time taken: 0.000308990478515625 seconds\n"
          ]
        }
      ]
    },
    {
      "cell_type": "code",
      "source": [
        "current_time = time.time() #Takes the number of seconds since the Unix Epoch and returns a readable string representing local time.\n",
        "print(time.ctime(current_time))"
      ],
      "metadata": {
        "colab": {
          "base_uri": "https://localhost:8080/"
        },
        "id": "JkWaPfdljqqs",
        "outputId": "818efe10-3014-40fb-99fe-5ce769826aad"
      },
      "execution_count": null,
      "outputs": [
        {
          "output_type": "stream",
          "name": "stdout",
          "text": [
            "Mon Jan  6 07:42:28 2025\n"
          ]
        }
      ]
    },
    {
      "cell_type": "code",
      "source": [
        "print(\"Start\")\n",
        "time.sleep(2)  # Pause for 2 seconds\n",
        "print(\"End\")"
      ],
      "metadata": {
        "colab": {
          "base_uri": "https://localhost:8080/"
        },
        "id": "K4prM0lMkIh6",
        "outputId": "ebfca190-340c-47b1-a895-056aa3413f12"
      },
      "execution_count": null,
      "outputs": [
        {
          "output_type": "stream",
          "name": "stdout",
          "text": [
            "Start\n",
            "End\n"
          ]
        }
      ]
    },
    {
      "cell_type": "code",
      "source": [
        "now_struct = time.localtime()\n",
        "formatted_time = time.strftime(\"%Y-%m-%d %H:%M:%S\", now_struct)\n",
        "print(formatted_time)\n",
        "# Output example: \"2025-01-06 14:32:53\"\n"
      ],
      "metadata": {
        "colab": {
          "base_uri": "https://localhost:8080/"
        },
        "id": "svT-NVyHkVAn",
        "outputId": "30db8b22-9cbc-43ed-8d13-d1ff7a53ddc5"
      },
      "execution_count": null,
      "outputs": [
        {
          "output_type": "stream",
          "name": "stdout",
          "text": [
            "2025-01-06 07:45:37\n"
          ]
        }
      ]
    },
    {
      "cell_type": "code",
      "source": [],
      "metadata": {
        "id": "-SRhWUzGlC_L"
      },
      "execution_count": null,
      "outputs": []
    },
    {
      "cell_type": "markdown",
      "source": [
        "## **Match-Case**\n",
        "\n",
        "The match case statement offers a powerful mechanism for pattern matching in Python. It allows us to perform more expressive and readable conditional checks. Unlike traditional if-elif-else chains, which can become unwieldy with complex conditions, the match-case statement provides a more elegant and flexible solution.\n",
        "\n",
        "This is a swtich-case like function used also in c++. The only DIFFERENCE is that we don't have to use break keyword after each case to prevent consecutively written cases in the code to be printed.\n"
      ],
      "metadata": {
        "id": "2gAXyiUVmKWS"
      }
    },
    {
      "cell_type": "code",
      "source": [
        "def check_number(x):\n",
        "    match x:\n",
        "        case 10:\n",
        "            print(\"It's 10\")\n",
        "        case 20:\n",
        "            print(\"It's 20\")\n",
        "        case _:#default case\n",
        "            print(\"It's neither 10 nor 20\")\n",
        "\n",
        "check_number(10)\n",
        "check_number(30)"
      ],
      "metadata": {
        "colab": {
          "base_uri": "https://localhost:8080/"
        },
        "id": "Vq7nUReqoE4v",
        "outputId": "9ef7db44-5cdc-47a4-dbfd-3e0433a8c497"
      },
      "execution_count": null,
      "outputs": [
        {
          "output_type": "stream",
          "name": "stdout",
          "text": [
            "It's 10\n",
            "It's neither 10 nor 20\n"
          ]
        }
      ]
    },
    {
      "cell_type": "code",
      "source": [
        "animal = \"cat\"\n",
        "\n",
        "match animal:\n",
        "    case (\"dog\" | \"cat\"):\n",
        "        print(\"This is a pet (dog or cat).\")\n",
        "    case \"horse\":\n",
        "        print(\"This is a horse.\")\n",
        "    case _:\n",
        "        print(\"Unknown animal.\")\n"
      ],
      "metadata": {
        "colab": {
          "base_uri": "https://localhost:8080/"
        },
        "id": "hTC1tsM21DP9",
        "outputId": "b8290a23-52d6-49db-baf6-157755f5b8f9"
      },
      "execution_count": null,
      "outputs": [
        {
          "output_type": "stream",
          "name": "stdout",
          "text": [
            "This is a pet (dog or cat).\n"
          ]
        }
      ]
    },
    {
      "cell_type": "code",
      "source": [
        "n = int(input(\"Enter a number: \"))\n",
        "\n",
        "match n:\n",
        "  case n if n > 10 and n < 20:\n",
        "    print(\"Number is greater than 10 and less than 20\")\n",
        "  case n if n < 10:\n",
        "    print(\"Number is less than 10\")\n",
        "  case n if n > 20:\n",
        "    print(\"Number is greater than 20\")\n",
        "  case _:\n",
        "    print(f'{n} is the number')"
      ],
      "metadata": {
        "colab": {
          "base_uri": "https://localhost:8080/"
        },
        "id": "SDlK43g8306b",
        "outputId": "6d1293fd-60a4-42b3-f924-4ac00c3fa00a"
      },
      "execution_count": null,
      "outputs": [
        {
          "output_type": "stream",
          "name": "stdout",
          "text": [
            "Enter a number: 15\n",
            "Number is greater than 10 and less than 20\n"
          ]
        }
      ]
    },
    {
      "cell_type": "code",
      "source": [
        "point = (1, 2)\n",
        "\n",
        "match point:\n",
        "    case (0, 0):\n",
        "        print(\"Origin\")\n",
        "    case (x, 0):\n",
        "        print(f\"Point is on the X-axis at x={x}\")\n",
        "    case (0, y):\n",
        "        print(f\"Point is on the Y-axis at y={y}\")\n",
        "    case (x, y):\n",
        "        print(f\"Point is at x={x}, y={y}\")\n"
      ],
      "metadata": {
        "colab": {
          "base_uri": "https://localhost:8080/"
        },
        "id": "mxmqB3Xl38cB",
        "outputId": "3f08c31e-d2b2-49ba-fd61-27c7158dd97f"
      },
      "execution_count": null,
      "outputs": [
        {
          "output_type": "stream",
          "name": "stdout",
          "text": [
            "Point is at x=1, y=2\n"
          ]
        }
      ]
    },
    {
      "cell_type": "code",
      "source": [
        "person = (\"Alice\", 30, \"Architect\")\n",
        "\n",
        "match person:\n",
        "    case (name, _, \"Engineer\"):\n",
        "        print(f\"{name} is an Engineer.\")\n",
        "    case (name, age, _):\n",
        "        print(f\"{name} is {age} years old but not an Engineer.\")"
      ],
      "metadata": {
        "colab": {
          "base_uri": "https://localhost:8080/"
        },
        "id": "Qv9gddCi5PS6",
        "outputId": "582c68b8-4ca0-4c5f-8d83-0519a7405f79"
      },
      "execution_count": null,
      "outputs": [
        {
          "output_type": "stream",
          "name": "stdout",
          "text": [
            "Alice is 30 years old but not an Engineer.\n"
          ]
        }
      ]
    },
    {
      "cell_type": "markdown",
      "source": [
        "## **Decorators**\n",
        "\n",
        "Decorators are a design pattern in Python that allows you to modify or extend the behavior of a function or method without changing its source code.\n"
      ],
      "metadata": {
        "id": "z2uzarYDtply"
      }
    },
    {
      "cell_type": "markdown",
      "source": [
        "###**Key Concepts Behind Decorators**\n"
      ],
      "metadata": {
        "id": "_WmANbhDvGgJ"
      }
    },
    {
      "cell_type": "markdown",
      "source": [
        "#### **Functions as First-Class Objects:**\n",
        "Functions in Python are treated as objects. You can assign them to variables, pass them as arguments, or return them from other functions."
      ],
      "metadata": {
        "id": "QuuDO53ovRxO"
      }
    },
    {
      "cell_type": "code",
      "source": [
        "def greet():\n",
        "    return \"Hello!\"\n",
        "\n",
        "# Assigning a function to a variable\n",
        "say_hello = greet\n",
        "print(say_hello())  # Output: Hello!"
      ],
      "metadata": {
        "colab": {
          "base_uri": "https://localhost:8080/"
        },
        "id": "cUTBXpyKvdMr",
        "outputId": "7f67152f-7575-48a6-8be5-e93eab1d68ed"
      },
      "execution_count": 11,
      "outputs": [
        {
          "output_type": "stream",
          "name": "stdout",
          "text": [
            "Hello!\n"
          ]
        }
      ]
    },
    {
      "cell_type": "markdown",
      "source": [
        "####**Nested Functions:**\n",
        "A function can be defined inside another function."
      ],
      "metadata": {
        "id": "YfWoC4jrveyL"
      }
    },
    {
      "cell_type": "code",
      "source": [
        "def outer_function():\n",
        "    def inner_function():\n",
        "        print(\"Inner function\")\n",
        "    inner_function()\n",
        "\n",
        "outer_function()"
      ],
      "metadata": {
        "colab": {
          "base_uri": "https://localhost:8080/"
        },
        "id": "2Zsz0lENvlkv",
        "outputId": "f605825e-d558-412c-ea78-14400a0f48f8"
      },
      "execution_count": 12,
      "outputs": [
        {
          "output_type": "stream",
          "name": "stdout",
          "text": [
            "Inner function\n"
          ]
        }
      ]
    },
    {
      "cell_type": "markdown",
      "source": [
        "#### **Functions as Arguments:**\n",
        "Functions can be passed as arguments to other functions."
      ],
      "metadata": {
        "id": "81oJR6Oevz43"
      }
    },
    {
      "cell_type": "code",
      "source": [
        "def add(x, y):\n",
        "    return x + y\n",
        "\n",
        "def operate(func, a, b):\n",
        "    return func(a, b)\n",
        "\n",
        "print(operate(add, 5, 3))  # Output: 8\n"
      ],
      "metadata": {
        "colab": {
          "base_uri": "https://localhost:8080/"
        },
        "id": "JCFLq9fhvyVM",
        "outputId": "99d4876b-c8c2-4173-a2ab-3187bb0d0171"
      },
      "execution_count": 13,
      "outputs": [
        {
          "output_type": "stream",
          "name": "stdout",
          "text": [
            "8\n"
          ]
        }
      ]
    },
    {
      "cell_type": "markdown",
      "source": [
        "#### **Functions Returning Functions:**\n",
        "\n",
        "A function can return another function.\n",
        "python\n",
        "Copy code\n"
      ],
      "metadata": {
        "id": "Xpolctplv-6b"
      }
    },
    {
      "cell_type": "code",
      "source": [
        "def outer_function():\n",
        "    def inner_function():\n",
        "        return \"Returned from inner!\"\n",
        "    return inner_function\n",
        "\n",
        "returned_function = outer_function()\n",
        "print(returned_function())  # Output: Returned from inner!"
      ],
      "metadata": {
        "colab": {
          "base_uri": "https://localhost:8080/"
        },
        "id": "Apj12PviwDs7",
        "outputId": "78d3cfb1-8b8f-4066-aa29-848bc7c24152"
      },
      "execution_count": 14,
      "outputs": [
        {
          "output_type": "stream",
          "name": "stdout",
          "text": [
            "Returned from inner!\n"
          ]
        }
      ]
    },
    {
      "cell_type": "markdown",
      "source": [
        "### **Creating Decorators**\n",
        "A decorator is a function that takes another function as input, adds some functionality, and returns the modified function."
      ],
      "metadata": {
        "id": "PLavQnO6wIyV"
      }
    },
    {
      "cell_type": "code",
      "source": [
        "def decorator_function(original_function):\n",
        "    def wrapper_function():\n",
        "        # Code to execute before the original function\n",
        "        print(\"Wrapper executed before the original function.\")\n",
        "\n",
        "        # Call the original function\n",
        "        original_function()\n",
        "\n",
        "        # Code to execute after the original function\n",
        "        print(\"Wrapper executed after the original function.\")\n",
        "\n",
        "    return wrapper_function\n"
      ],
      "metadata": {
        "id": "REZMFHjHwQts"
      },
      "execution_count": 15,
      "outputs": []
    },
    {
      "cell_type": "code",
      "source": [
        "def display():\n",
        "    print(\"Display function executed.\")"
      ],
      "metadata": {
        "id": "-H2Lz-iTw0bw"
      },
      "execution_count": 17,
      "outputs": []
    },
    {
      "cell_type": "code",
      "source": [
        "display = decorator_function(display)\n",
        "\n",
        "display()"
      ],
      "metadata": {
        "colab": {
          "base_uri": "https://localhost:8080/"
        },
        "id": "-E683sZCwVlx",
        "outputId": "ead744db-975b-43a9-9c6f-1eeda21a9e42"
      },
      "execution_count": 18,
      "outputs": [
        {
          "output_type": "stream",
          "name": "stdout",
          "text": [
            "Wrapper executed before the original function.\n",
            "Display function executed.\n",
            "Wrapper executed after the original function.\n"
          ]
        }
      ]
    },
    {
      "cell_type": "markdown",
      "source": [
        "Now, since I have to call `display()` with extented functionality from the the `decorator function()`, I have to use this line always i.e. `display = decorator_function(display)` to create, pass, update the display function. Instead of this just write @name_of_decorator function before the actual function to avoid doing all that.\n",
        "In this case it'll be `@decorator_function`"
      ],
      "metadata": {
        "id": "_qX3287EwlyS"
      }
    },
    {
      "cell_type": "code",
      "source": [
        "def decorator_function(original_function):\n",
        "    def wrapper_function():\n",
        "        # Code to execute before the original function\n",
        "        print(\"Wrapper executed before the original function.\")\n",
        "\n",
        "        # Call the original function\n",
        "        original_function()\n",
        "\n",
        "        # Code to execute after the original function\n",
        "        print(\"Wrapper executed after the original function.\")\n",
        "\n",
        "    return wrapper_function\n",
        "\n",
        "@decorator_function\n",
        "def display():\n",
        "    print(\"Display function executed.\")\n",
        "\n",
        "# Equivalent to:\n",
        "# display = decorator_function(display)\n",
        "\n",
        "display()"
      ],
      "metadata": {
        "colab": {
          "base_uri": "https://localhost:8080/"
        },
        "id": "Tz1zYgXUwlJC",
        "outputId": "4acc01bd-a8b1-4446-fef6-244c6e748f5d"
      },
      "execution_count": 20,
      "outputs": [
        {
          "output_type": "stream",
          "name": "stdout",
          "text": [
            "Wrapper executed before the original function.\n",
            "Display function executed.\n",
            "Wrapper executed after the original function.\n"
          ]
        }
      ]
    },
    {
      "cell_type": "markdown",
      "source": [
        "### **Use Cases of Decorators**"
      ],
      "metadata": {
        "id": "FVhAT-sOyfSU"
      }
    },
    {
      "cell_type": "markdown",
      "source": [
        "#### **Built-in Decorators in Python**\n",
        "\n",
        "`@staticmethod` - A static method is a method defined inside a class that does not operate on an instance or the class itself. It is a utility function, logically grouped within a class but does not require access to class-specific or instance-specific data.\n",
        "- Declared using the @staticmethod decorator.\n",
        "- Does not take self (instance reference) or cls (class reference) as its first argument.\n",
        "- Cannot access or modify instance or class-level attributes.\n"
      ],
      "metadata": {
        "id": "M-lyKU9ZypSS"
      }
    },
    {
      "cell_type": "code",
      "source": [
        "class Calculator:\n",
        "    @staticmethod\n",
        "    def add(a, b):\n",
        "        return a + b\n",
        "\n",
        "    @staticmethod\n",
        "    def multiply(a, b):\n",
        "        return a * b\n",
        "\n",
        "# Call static methods without creating an instance\n",
        "print(Calculator.add(5, 3))      # Output: 8\n",
        "print(Calculator.multiply(4, 6)) # Output: 24"
      ],
      "metadata": {
        "colab": {
          "base_uri": "https://localhost:8080/"
        },
        "id": "dD2bKyUL0L8a",
        "outputId": "1940e93e-8f91-4bf4-95b4-0779fa28b15c"
      },
      "execution_count": 27,
      "outputs": [
        {
          "output_type": "stream",
          "name": "stdout",
          "text": [
            "8\n",
            "24\n"
          ]
        }
      ]
    },
    {
      "cell_type": "markdown",
      "source": [
        "`@classmethod` - A class method is a method that operates on the class itself rather than any particular instance. It has access to the class object (cls) and can modify class-level attributes.\n",
        "\n",
        "- Declared using the @classmethod decorator.\n",
        "- The first parameter is cls, a reference to the class.\n",
        "- Can access and modify class-level attributes.\n",
        "- Often used for alternative constructors or class-level operations."
      ],
      "metadata": {
        "id": "YfWMXgeG3Tvf"
      }
    },
    {
      "cell_type": "code",
      "source": [
        "class Employee:\n",
        "  company_name = 'Techcorp'\n",
        "\n",
        "  def __init__(self, name):\n",
        "    self.name  = name\n",
        "\n",
        "  @classmethod\n",
        "  def change_company(cls,new_name):\n",
        "    cls.company_name = new_name\n",
        "\n",
        "Employee.change_company('Google') # changes data at a class level\n",
        "print(Employee.company_name)\n",
        "emp1 = Employee('Naman')\n",
        "print(emp1.company_name)\n",
        "emp1.change_company('Microsoft') # still changes data at a class level as it is a class method and is changing a class attribute not an instance attribute as cls is pass as argument not self\n",
        "print(emp1.company_name)\n",
        "print(Employee.company_name)"
      ],
      "metadata": {
        "colab": {
          "base_uri": "https://localhost:8080/"
        },
        "id": "A_lDY_3J38lE",
        "outputId": "056efa4c-08a7-485a-d0d2-e06b48be2d39"
      },
      "execution_count": 43,
      "outputs": [
        {
          "output_type": "stream",
          "name": "stdout",
          "text": [
            "Google\n",
            "Google\n",
            "Microsoft\n",
            "Microsoft\n"
          ]
        }
      ]
    },
    {
      "cell_type": "markdown",
      "source": [
        "**Use Case:** When a method needs to interact with or modify the class itself, such as altering class attributes or providing alternative constructors."
      ],
      "metadata": {
        "id": "IgrZuA015diG"
      }
    },
    {
      "cell_type": "markdown",
      "source": [
        "## **OOPs in Python**\n",
        "\n",
        "[Source](https://www.youtube.com/watch?v=Ej_02ICOIgs)\n"
      ],
      "metadata": {
        "id": "F7uejJhQkrZB"
      }
    },
    {
      "cell_type": "markdown",
      "source": [
        "- Object-Oriented Programming (OOP) organizes data and behavior into objects.\n",
        "- Objects are instances of classes, which serve as blueprints for creating structured and reusable data types.\n",
        "\n",
        "**Example for Explanation: Store Management System**\n",
        "\n",
        "A store management system is chosen as the example to demonstrate OOP concepts in a relatable and practical manner.\n",
        "The first step in the system is tracking items in a store, showing how basic variables can be used."
      ],
      "metadata": {
        "id": "IO6HWwEgk9WL"
      }
    },
    {
      "cell_type": "code",
      "source": [
        "item1 = \"Phone\"\n",
        "item1_price = 100\n",
        "item1_quantity = 5\n",
        "item1_price_total = item1_price * item1_quantity\n",
        "\n",
        "\n",
        "print(type(item1))\n",
        "\n",
        "print(type(item1_price))\n",
        "\n",
        "print(type(item1_quantity))\n",
        "\n",
        "print(type(item1_price_total))"
      ],
      "metadata": {
        "colab": {
          "base_uri": "https://localhost:8080/"
        },
        "id": "2TVO6br6nQwo",
        "outputId": "dc34ef6c-6035-4f2e-cc93-5596445ef228"
      },
      "execution_count": null,
      "outputs": [
        {
          "output_type": "stream",
          "name": "stdout",
          "text": [
            "<class 'str'>\n",
            "<class 'int'>\n",
            "<class 'int'>\n",
            "<class 'int'>\n"
          ]
        }
      ]
    },
    {
      "cell_type": "markdown",
      "source": [
        "**Challenge Identified:**\n",
        "\n",
        "- These variables are related by naming convention (item1_), but Python treats them as independent.\n",
        "- The relationship is not enforced by the language, leading to potential errors and lack of scalability."
      ],
      "metadata": {
        "id": "E3pGHCP7oGoI"
      }
    },
    {
      "cell_type": "markdown",
      "source": [
        "- Python's built-in data types (int, str, etc.) are objects instantiated from their respective classes.\n",
        "- The same principles apply when creating custom classes."
      ],
      "metadata": {
        "id": "XZGJWW_Uvq0j"
      }
    },
    {
      "cell_type": "markdown",
      "source": [
        "### **Introduction to Classes**\n",
        "- A class is a way to define a custom data type that bundles attributes and behaviors.\n",
        "- Attributes define the properties of an object (e.g., name, price, quantity).\n",
        "- Behaviors (or methods) define the actions an object can perform."
      ],
      "metadata": {
        "id": "8mJEe_act35f"
      }
    },
    {
      "cell_type": "markdown",
      "source": [
        "**Definition of Classes**\n",
        "- A class in Python is a blueprint for creating objects.\n",
        "\n",
        "- It defines a structure for encapsulating related attributes (data) and methods (behavior)."
      ],
      "metadata": {
        "id": "x_Wq8jOd27QF"
      }
    },
    {
      "cell_type": "markdown",
      "source": [
        "**Creating Objects**\n",
        "- An object is an instance of a class.\n",
        "\n",
        "- It is created by calling the class name followed by parentheses.\n",
        "\n",
        "- Each object is independent and can have its own attributes and behaviors."
      ],
      "metadata": {
        "id": "f4SGnjRv2XcY"
      }
    },
    {
      "cell_type": "code",
      "source": [
        "# Defining a class\n",
        "class Item:\n",
        "    pass\n",
        "\n",
        "# Creating an object (instance of the class)\n",
        "item1 = Item()\n",
        "print(type(item1))"
      ],
      "metadata": {
        "colab": {
          "base_uri": "https://localhost:8080/"
        },
        "id": "waZih6OGuLXc",
        "outputId": "d7161fa8-c2e8-40d8-fe2f-28aa8433c071"
      },
      "execution_count": null,
      "outputs": [
        {
          "output_type": "stream",
          "name": "stdout",
          "text": [
            "<class '__main__.Item'>\n"
          ]
        }
      ]
    },
    {
      "cell_type": "markdown",
      "source": [
        "**Benefits of Using Classes**\n",
        "- Encapsulation: Bundles data and related behavior.\n",
        "\n",
        "- Reusability: Once defined, classes can be reused to create multiple objects.\n",
        "\n",
        "- Scalability: Easier to manage and expand compared to scattered variables."
      ],
      "metadata": {
        "id": "7pombXjk1sEh"
      }
    },
    {
      "cell_type": "markdown",
      "source": [
        "**Attributes in Python Classes**\n",
        "- Attributes are variables associated with an object that store data about that object."
      ],
      "metadata": {
        "id": "161NT_hg3eAm"
      }
    },
    {
      "cell_type": "markdown",
      "source": [
        "**Adding Attributes to Objects**\n",
        "- Attributes can be added to an object after creation using the dot operator.\n",
        "- Attributes are explicitly tied to an object (e.g., item1.name).\n",
        "- This grouping enforces a relationship between the properties."
      ],
      "metadata": {
        "id": "sGjAJNjfulpy"
      }
    },
    {
      "cell_type": "code",
      "source": [
        "# Define a class\n",
        "class Item:\n",
        "    pass\n",
        "\n",
        "# Create an instance of the class\n",
        "item1 = Item()\n",
        "\n",
        "# Assign attributes to the instance\n",
        "item1.name = \"Phone\"\n",
        "item1.price = 100\n",
        "item1.quantity = 5\n"
      ],
      "metadata": {
        "id": "8UIFHTx54ERD"
      },
      "execution_count": null,
      "outputs": []
    },
    {
      "cell_type": "code",
      "source": [
        "# Accessing Attributes\n",
        "print(item1.name)       # Output: Phone\n",
        "print(item1.price)      # Output: 100\n",
        "print(item1.quantity)   # Output: 5\n"
      ],
      "metadata": {
        "colab": {
          "base_uri": "https://localhost:8080/"
        },
        "id": "DqA8_uNO4G_I",
        "outputId": "60d85af5-c6ae-4786-be5e-68f511709995"
      },
      "execution_count": null,
      "outputs": [
        {
          "output_type": "stream",
          "name": "stdout",
          "text": [
            "Phone\n",
            "100\n",
            "5\n"
          ]
        }
      ]
    },
    {
      "cell_type": "markdown",
      "source": [
        "### **Methods in Python Classes**\n",
        "- Methods are functions defined within a class that operate on the objects of that class.\n",
        "- Functions are standalone and operate independently.\n",
        "- Methods are tied to a class and operate on instances of that class."
      ],
      "metadata": {
        "id": "CfiQjTrH6dJl"
      }
    },
    {
      "cell_type": "markdown",
      "source": [
        "**Creating Methods**\n",
        "- Methods are defined within a class using the def keyword.\n",
        "\n",
        "- The first parameter of a method is always self, which represents the instance on which the method is called."
      ],
      "metadata": {
        "id": "Hk5U4xum7gbE"
      }
    },
    {
      "cell_type": "code",
      "source": [
        "class Item:\n",
        "    # Method to calculate the total price of an item\n",
        "    def calculate_total_price(self): # Since passing of self, tranferring the values x and y is redundant as the price and quantity are bounded by self\n",
        "        return self.price * self.quantity\n"
      ],
      "metadata": {
        "id": "xEv7TOeN7ZDg"
      },
      "execution_count": null,
      "outputs": []
    },
    {
      "cell_type": "code",
      "source": [
        "# Create an instance and assign attributes\n",
        "item1 = Item()\n",
        "item1.price = 100\n",
        "item1.quantity = 5\n",
        "\n",
        "# Call the method\n",
        "print(item1.calculate_total_price())  # Output: 500\n"
      ],
      "metadata": {
        "colab": {
          "base_uri": "https://localhost:8080/"
        },
        "id": "ln74RiEN7m-Q",
        "outputId": "bbf6ffa1-3f54-480f-85f5-d3e8dff79081"
      },
      "execution_count": null,
      "outputs": [
        {
          "output_type": "stream",
          "name": "stdout",
          "text": [
            "500\n"
          ]
        }
      ]
    },
    {
      "cell_type": "markdown",
      "source": [
        "Adding function to the class dynamically:\n",
        "\n",
        "- In Python, you can add more functions or methods to a class after it has been defined. However, this is not the usual practice for defining a class and is typically discouraged as it can make the code harder to read and maintain.\n",
        "\n",
        "- This approach can be helpful in some specific scenarios, like monkey patching or dynamically extending classes in a flexible framework, but it is not ideal for regular development. It is better to include all methods within the class definition for clarity.\n",
        "\n",
        "```python\n",
        "def calculate_total_price(self):\n",
        "    return self.price * self.quantity\n",
        "\n",
        "Item.calculate_total_price = calculate_total_price\n",
        "\n",
        "print(item1.calculate_total_price())\n",
        "```"
      ],
      "metadata": {
        "id": "nVjpzB_0DpWp"
      }
    },
    {
      "cell_type": "markdown",
      "source": [
        "**Benefits of Methods**\n",
        "- Encapsulate functionality specific to a class.\n",
        "- Improve code readability and reuse.\n",
        "Reduce duplication by centralizing logic.\n",
        "- Methods allow dynamic behavior based on object attributes.\n",
        "- Using methods ensures code is scalable and maintainable by grouping data (attributes) with logic (methods)."
      ],
      "metadata": {
        "id": "YcnDdYuE7xZI"
      }
    },
    {
      "cell_type": "markdown",
      "source": [
        "- Methods that take `self` as the first parameter are called instance methods.\n",
        "- These methods operate on an instance of the class and can access and modify instance-level attributes."
      ],
      "metadata": {
        "id": "tJxeAh7S1Wc0"
      }
    },
    {
      "cell_type": "markdown",
      "source": [
        "### `__init__` **method**\n",
        "\n",
        "- The `__init__` method is a special(Magic) method in Python, also called the constructor.\n",
        "\n",
        "- It is automatically invoked when an object is instantiated (created) from a class.\n",
        "\n",
        "- Purpose:\n",
        "\n",
        "  - To initialize the attributes of the object.\n",
        "  - To define mandatory or default values for attributes.\n",
        "\n",
        "  ```python\n",
        "  class ClassName:\n",
        "    def __init__(self, parameters):\n",
        "        # Initialize attributes\n",
        "        self.attribute = value\n",
        "\n",
        "  ```"
      ],
      "metadata": {
        "id": "EeN-CBQy8-FC"
      }
    },
    {
      "cell_type": "code",
      "source": [
        "class Item:\n",
        "    def __init__(self, name, price, quantity = 0): #default values for parameters to handle cases where a value is not passed during object creation.\n",
        "        self.name = name\n",
        "        self.price = price\n",
        "        self.quantity = quantity"
      ],
      "metadata": {
        "id": "Iy6_TKFpAhhY"
      },
      "execution_count": null,
      "outputs": []
    },
    {
      "cell_type": "code",
      "source": [
        "# Create an instance of the class\n",
        "item1 = Item(\"Phone\", 100, 5)\n",
        "\n",
        "# Access attributes\n",
        "print(item1.name)\n",
        "print(item1.price)\n",
        "print(item1.quantity)\n",
        "item2 = Item(\"Laptop\",100, 3)\n",
        "print(item2.name)\n",
        "print(item2.price)\n",
        "print(item2.quantity)\n",
        "item3 = Item(\"Tablet\",1000)\n",
        "print(item3.name)\n",
        "print(item3.price)\n",
        "print(item3.quantity)"
      ],
      "metadata": {
        "colab": {
          "base_uri": "https://localhost:8080/"
        },
        "id": "r3X6gQAuAjy0",
        "outputId": "eb83c5c9-a3d9-4270-acca-8863157a908a"
      },
      "execution_count": null,
      "outputs": [
        {
          "output_type": "stream",
          "name": "stdout",
          "text": [
            "Phone\n",
            "100\n",
            "5\n",
            "Laptop\n",
            "100\n",
            "3\n",
            "Tablet\n",
            "1000\n",
            "0\n"
          ]
        }
      ]
    },
    {
      "cell_type": "markdown",
      "source": [
        "- Eliminates the need for assigning attributes manually after object creation.\n",
        "- Ensures that all required attributes are initialized when an object is created.\n",
        "- Provides flexibility to set default values for certain attributes.\n"
      ],
      "metadata": {
        "id": "EJCRCdwwAq_z"
      }
    },
    {
      "cell_type": "code",
      "source": [
        "item2.has_numpad = False #Dynamic Assigning of attribute to objects\n",
        "\n",
        "print(item1.__dict__) # accessing all the attributes of item1 in dictionary format\n",
        "print(item2.__dict__)"
      ],
      "metadata": {
        "colab": {
          "base_uri": "https://localhost:8080/"
        },
        "id": "OG7OII7YDwrs",
        "outputId": "132db93c-a8f3-43fe-84a3-0de4018ea2d4"
      },
      "execution_count": null,
      "outputs": [
        {
          "output_type": "stream",
          "name": "stdout",
          "text": [
            "{'name': 'Phone', 'price': 100, 'quantity': 5}\n",
            "{'name': 'Laptop', 'price': 100, 'quantity': 3, 'has_numpad': False}\n"
          ]
        }
      ]
    },
    {
      "cell_type": "code",
      "source": [
        "# Dynamic assignment within the __init__ method\n",
        "class Item:\n",
        "    def __init__(self, name, price, quantity=0):\n",
        "        self.name = name\n",
        "        self.price = price\n",
        "        self.quantity = quantity\n",
        "        self.total_price = price * quantity\n",
        "\n",
        "\n",
        "item1 = Item(\"Phone\", 100, 5)\n",
        "print(item1.total_price)  # Output: 500"
      ],
      "metadata": {
        "colab": {
          "base_uri": "https://localhost:8080/"
        },
        "id": "NbgDZHuQFNEj",
        "outputId": "7cac394c-2441-4daa-ac5d-57a9fa61be6e"
      },
      "execution_count": null,
      "outputs": [
        {
          "output_type": "stream",
          "name": "stdout",
          "text": [
            "500\n"
          ]
        }
      ]
    },
    {
      "cell_type": "markdown",
      "source": [
        "**Validation Inside** `__init__`\n",
        "\n",
        "- Data validation can be performed within the constructor to ensure attributes meet specific criteria.\n",
        "- This can done using `assert` keyword.\n"
      ],
      "metadata": {
        "id": "YM6K-hTF_qe9"
      }
    },
    {
      "cell_type": "code",
      "source": [
        "class Item:\n",
        "    def __init__(self, name, price, quantity):\n",
        "        assert price >= 0, f\"Price {price} is not greater than or equal to zero!\"\n",
        "        assert quantity >= 0, f\"Quantity {quantity} is not greater than or equal to zero!\"\n",
        "        self.name = name\n",
        "        self.price = price\n",
        "        self.quantity = quantity\n",
        "\n",
        "    def calculate_total_price(self):\n",
        "        return self.price * self.quantity"
      ],
      "metadata": {
        "id": "JCeyHVrUF9lj"
      },
      "execution_count": null,
      "outputs": []
    },
    {
      "cell_type": "markdown",
      "source": [
        "This is a method of extending the class methods dynamically.**DON't RUN! JUST READ**.\n",
        "```python\n",
        "original_init = Item.__init__\n",
        "\n",
        "# Define the new __init__ method with validations\n",
        "def new_init(self, name, price, quantity):\n",
        "    # Add assertions to check for valid inputs\n",
        "    assert price >= 0, f\"Price {price} is not greater than or equal to zero!\"\n",
        "    assert quantity >= 0, f\"Quantity {quantity} is not greater than or equal to zero!\"\n",
        "    \n",
        "    # Call the original __init__ to initialize the object\n",
        "    original_init(self, name, price, quantity)\n",
        "\n",
        "# Assign the new __init__ method to the class\n",
        "Item.__init__ = new_init\n",
        "```\n",
        "\n"
      ],
      "metadata": {
        "id": "3051ycjE_7T9"
      }
    },
    {
      "cell_type": "code",
      "source": [
        "# Test the class\n",
        "try:\n",
        "    item1 = Item(\"Phone\", 100, -12)  # This will trigger the assertion\n",
        "except AssertionError as e:\n",
        "    print(e)\n",
        "\n",
        "try:\n",
        "    item1 = Item(\"Phone\", -100, 12)  # This will also trigger the assertion\n",
        "except AssertionError as e:\n",
        "    print(e)"
      ],
      "metadata": {
        "colab": {
          "base_uri": "https://localhost:8080/"
        },
        "id": "DbXIm4Y--epp",
        "outputId": "d2c1df8e-7ea8-4d64-a9e0-b301d9ee28d4"
      },
      "execution_count": null,
      "outputs": [
        {
          "output_type": "stream",
          "name": "stdout",
          "text": [
            "Quantity -12 is not greater than or equal to zero!\n",
            "Price -100 is not greater than or equal to zero!\n"
          ]
        }
      ]
    },
    {
      "cell_type": "code",
      "source": [
        "item1 = Item(\"Phone\",100,5)\n",
        "item2 = Item(\"Laptop\", 1000, 3)\n",
        "print(f'Instance:\\nname:{item1.name}, price:{item1.price}, Quantity:{item1.quantity}, Total Price:{item1.calculate_total_price()}')\n",
        "print(f'Instance:\\nname:{item2.name}, price:{item2.price}, Quantity:{item2.quantity}, Total Price:{item2.calculate_total_price()}')"
      ],
      "metadata": {
        "colab": {
          "base_uri": "https://localhost:8080/"
        },
        "id": "6iTBjDQ02gms",
        "outputId": "222ebed5-bcd2-4163-8dd9-17135459eb91"
      },
      "execution_count": null,
      "outputs": [
        {
          "output_type": "stream",
          "name": "stdout",
          "text": [
            "Instance:\n",
            "name:Phone, price:100, Quantity:5, Total Price:500\n",
            "Instance:\n",
            "name:Laptop, price:1000, Quantity:3, Total Price:3000\n"
          ]
        }
      ]
    },
    {
      "cell_type": "markdown",
      "source": [
        "### **Class and Instance Attributes**\n",
        "Python supports two types of attributes:\n",
        "- Instance Attributes: Specific to each object (unique per instance).\n",
        "- Class Attributes: Shared across all objects of the same class."
      ],
      "metadata": {
        "id": "i0ei2w9H8Bcl"
      }
    },
    {
      "cell_type": "code",
      "source": [
        "class Item:\n",
        "  pay_rate = 0.8 # Global attribute accesible by all instances.\n",
        "  def __init__(self, name: str, price: float, quantity = 0):\n",
        "    assert price >= 0, f\"Price {price} is not greater than or equal to zero!\"\n",
        "    assert quantity >= 0, f\"Quantity {quantity} is not greater than or equal to zero!\"\n",
        "    self.name = name # Instance Attribute\n",
        "    self.price = price # Instance Attribute\n",
        "    self.quantity = quantity # Instance Attribute\n",
        "\n",
        "  def calculate_total_price(self):\n",
        "        return self.price * self.quantity\n",
        "\n",
        "  def apply_discount(self):\n",
        "    self.price  = self.price * self.pay_rate\n",
        "\n",
        "item1 = Item(\"Phone\", 100, 5)\n",
        "item2 = Item(\"Laptop\", 1000, 3)\n",
        "print(item2.calculate_total_price())\n",
        "print(item1.calculate_total_price())\n",
        "\n",
        "print(Item.pay_rate)\n",
        "print(item1.pay_rate)\n",
        "print(item2.pay_rate)\n",
        "\n",
        "print(Item.__dict__) # accessing all the attributes at the class level\n",
        "print(item1.__dict__) # accessing all the attributes at the instance level\n"
      ],
      "metadata": {
        "colab": {
          "base_uri": "https://localhost:8080/"
        },
        "id": "vK1WbXuMAGDA",
        "outputId": "64c44c1b-bfef-4f24-f78b-34cb761cff4c"
      },
      "execution_count": null,
      "outputs": [
        {
          "output_type": "stream",
          "name": "stdout",
          "text": [
            "3000\n",
            "500\n",
            "0.8\n",
            "0.8\n",
            "0.8\n",
            "{'__module__': '__main__', 'pay_rate': 0.8, '__init__': <function Item.__init__ at 0x79280e7491b0>, 'calculate_total_price': <function Item.calculate_total_price at 0x79280e748790>, 'apply_discount': <function Item.apply_discount at 0x79280e7497e0>, '__dict__': <attribute '__dict__' of 'Item' objects>, '__weakref__': <attribute '__weakref__' of 'Item' objects>, '__doc__': None}\n",
            "{'name': 'Phone', 'price': 100, 'quantity': 5}\n"
          ]
        }
      ]
    },
    {
      "cell_type": "markdown",
      "source": [
        "- Python prioritizes instance attributes over class attributes. If an attribute is not found at the instance level, Python checks the class level.\n",
        "- Class attributes provide a way to manage global values applicable to all instances, such as a discount rate or configuration settings.\n",
        "- Since no `pay_rate` attribute is set for instances (neither in the `__init__` nor dynamically) `pay_rate` will not appear in their `__dict__`. They still access the `pay_rate` via the class attribute."
      ],
      "metadata": {
        "id": "2Ok5rFUavc0K"
      }
    },
    {
      "cell_type": "code",
      "source": [
        "# Modify the class attribute for one instance\n",
        "item1.pay_rate = 0.9  # Overrides for item1 only\n",
        "print(item1.pay_rate)\n",
        "print(item2.pay_rate)"
      ],
      "metadata": {
        "colab": {
          "base_uri": "https://localhost:8080/"
        },
        "id": "uYphcYs1qZox",
        "outputId": "dd9cabbd-0ad0-4d49-cb36-69731bc7fd28"
      },
      "execution_count": null,
      "outputs": [
        {
          "output_type": "stream",
          "name": "stdout",
          "text": [
            "0.9\n",
            "0.8\n"
          ]
        }
      ]
    },
    {
      "cell_type": "code",
      "source": [
        "# Modify class attribute for class level\n",
        "Item.pay_rate = 0.7\n",
        "print(item1.pay_rate)\n",
        "print(item2.pay_rate)\n",
        "Item.pay_rate = 0.8 # Resetting the value"
      ],
      "metadata": {
        "colab": {
          "base_uri": "https://localhost:8080/"
        },
        "id": "REFxqixVrEhZ",
        "outputId": "8055f6ca-c815-4214-8c66-36090a0079fc"
      },
      "execution_count": null,
      "outputs": [
        {
          "output_type": "stream",
          "name": "stdout",
          "text": [
            "0.7\n",
            "0.7\n"
          ]
        }
      ]
    },
    {
      "cell_type": "markdown",
      "source": [
        "- Use instance attributes for data specific to an object.\n",
        "- Use class attributes for shared data, like constants or configuration values.\n",
        "- Avoid modifying class attributes dynamically unless necessary, as it may lead to unexpected behavior."
      ],
      "metadata": {
        "id": "f_uXtBpSvyMz"
      }
    },
    {
      "cell_type": "markdown",
      "source": [
        "How it can be used in this Store Management System"
      ],
      "metadata": {
        "id": "l6yiiKKNMEU6"
      }
    },
    {
      "cell_type": "code",
      "source": [
        "class Item:\n",
        "  pay_rate = 0.8 # Global attribute accesible by all instances. Not unique to one instance\n",
        "  def __init__(self, name: str, price: float, quantity = 0):\n",
        "    assert price >= 0, f\"Price {price} is not greater than or equal to zero!\"\n",
        "    assert quantity >= 0, f\"Quantity {quantity} is not greater than or equal to zero!\"\n",
        "    self.name = name\n",
        "    self.price = price\n",
        "    self.quantity = quantity\n",
        "    self.sell_price = self.price # Attribute that will not change until the\n",
        "    # discount is applied. It will make sure the MRP is not lost\n",
        "    # while applying various discounts over period of time\n",
        "\n",
        "  def calculate_total_price(self):\n",
        "    return self.price * self.quantity\n",
        "\n",
        "  def apply_discount(self):\n",
        "    # self.sell_price  = self.price * Item.pay_rate # This only allows the class level attribute and not the instance level attribute. For a common discount\n",
        "    self.sell_price = self.price * self.pay_rate # This applies the instance level attribute\n",
        "\n",
        "item1 = Item(\"Phone\",1000,1)\n",
        "item2 = Item(\"Laptop\",100000,1)\n",
        "item1.pay_rate = 0.7\n",
        "item1.apply_discount()\n",
        "item2.apply_discount()\n",
        "print(item1.sell_price)\n",
        "print(item2.sell_price)"
      ],
      "metadata": {
        "colab": {
          "base_uri": "https://localhost:8080/"
        },
        "id": "FYW7U61drjb_",
        "outputId": "a064788b-9ce5-43c4-b444-9a417011ac58"
      },
      "execution_count": null,
      "outputs": [
        {
          "output_type": "stream",
          "name": "stdout",
          "text": [
            "700.0\n",
            "80000.0\n"
          ]
        }
      ]
    },
    {
      "cell_type": "markdown",
      "source": [
        "### **Magic Methods**\n",
        "\n",
        "- Magic methods are special methods in Python that start and end with double underscores (__).\n",
        "- They are also known as dunder methods.\n",
        "- These methods allow developers to define how objects behave for common operations (e.g., addition, string representation, initialization)."
      ],
      "metadata": {
        "id": "_YiHlfVZoGFb"
      }
    },
    {
      "cell_type": "code",
      "source": [
        "class Item:\n",
        "  pay_rate = 0.8\n",
        "  all = []\n",
        "  def __init__(self, name: str, price: float, quantity = 0):\n",
        "    assert price >= 0, f\"Price {price} is not greater than or equal to zero!\"\n",
        "    assert quantity >= 0, f\"Quantity {quantity} is not greater than or equal to zero!\"\n",
        "    self.name = name\n",
        "    self.price = price\n",
        "    self.quantity = quantity\n",
        "    self.sell_price = self.price\n",
        "\n",
        "    Item.all.append(self)\n",
        "\n",
        "  def calculate_total_price(self):\n",
        "    return self.price * self.quantity\n",
        "\n",
        "  def apply_discount(self):\n",
        "    self.sell_price = self.price * self.pay_rate\n",
        "\n",
        "\n",
        "item1 = Item(\"Phone\", 100, 1)\n",
        "item2 = Item(\"Laptop\", 1000, 3)\n",
        "item3 = Item(\"Cable\", 10, 5)\n",
        "item4 = Item(\"Mouse\", 50, 5)\n",
        "item5 = Item(\"Keyboard\", 75, 5)\n",
        "\n"
      ],
      "metadata": {
        "id": "qaxfCwtbq0t2"
      },
      "execution_count": 6,
      "outputs": []
    },
    {
      "cell_type": "code",
      "source": [
        "print(item1)\n",
        "print(Item.all)"
      ],
      "metadata": {
        "colab": {
          "base_uri": "https://localhost:8080/"
        },
        "id": "vDR09mX4uP7Q",
        "outputId": "74167631-bdd0-44eb-f616-ee07c044130e"
      },
      "execution_count": 7,
      "outputs": [
        {
          "output_type": "stream",
          "name": "stdout",
          "text": [
            "<__main__.Item object at 0x7d1d192c91d0>\n",
            "[<__main__.Item object at 0x7d1d192c91d0>, <__main__.Item object at 0x7d1d192c9050>, <__main__.Item object at 0x7d1d4c0a4e10>, <__main__.Item object at 0x7d1d192c8790>, <__main__.Item object at 0x7d1d192c9950>]\n"
          ]
        }
      ]
    },
    {
      "cell_type": "markdown",
      "source": [
        "`__repr__` **Method:**\n",
        "Defines a developer-friendly string representation of the object.\n",
        "This is primarily used for debugging and logging."
      ],
      "metadata": {
        "id": "b4E61iZcqpgI"
      }
    },
    {
      "cell_type": "code",
      "source": [
        "def __repr__(self): # This will be called\n",
        "    return f\"Item('{self.name}', {self.price}, {self.quantity}, {self.sell_price}, {self.pay_rate})\"\n",
        "\n",
        "Item.__repr__ = __repr__"
      ],
      "metadata": {
        "id": "D_i8zmkluJ8G"
      },
      "execution_count": 9,
      "outputs": []
    },
    {
      "cell_type": "code",
      "source": [
        "print(item1)\n",
        "print(Item.all)"
      ],
      "metadata": {
        "colab": {
          "base_uri": "https://localhost:8080/"
        },
        "id": "eo0d42apug8Y",
        "outputId": "4e9f5c70-b371-4ff5-85bb-80b6ff41e7df"
      },
      "execution_count": 10,
      "outputs": [
        {
          "output_type": "stream",
          "name": "stdout",
          "text": [
            "Item('Phone', 100, 1, 100, 0.8)\n",
            "[Item('Phone', 100, 1, 100, 0.8), Item('Laptop', 1000, 3, 1000, 0.8), Item('Cable', 10, 5, 10, 0.8), Item('Mouse', 50, 5, 50, 0.8), Item('Keyboard', 75, 5, 75, 0.8)]\n"
          ]
        }
      ]
    },
    {
      "cell_type": "code",
      "source": [
        "from google.colab import drive\n",
        "drive.mount('/content/drive')"
      ],
      "metadata": {
        "colab": {
          "base_uri": "https://localhost:8080/"
        },
        "id": "vubQKMtarqwF",
        "outputId": "bb3f5448-72c3-4d7f-9438-19f4119f5e26"
      },
      "execution_count": 11,
      "outputs": [
        {
          "output_type": "stream",
          "name": "stdout",
          "text": [
            "Mounted at /content/drive\n"
          ]
        }
      ]
    },
    {
      "cell_type": "markdown",
      "source": [
        "### **Working with CSV**\n",
        "\n",
        "CSV (Comma-Separated Values) files are a simple and efficient way to store structured data in a tabular format.\n",
        "\n",
        "- Instead of hardcoding object data in the code, data can be stored in a CSV file.\n",
        "- This approach improves scalability and separation of concerns:\n",
        "  - Data is stored externally (in the CSV file).\n",
        "  - Logic is implemented in the Python code to read and process the data."
      ],
      "metadata": {
        "id": "-BklmvAt6VRB"
      }
    },
    {
      "cell_type": "code",
      "source": [
        "import csv\n",
        "\n",
        "# Open the CSV file\n",
        "with open('/content/drive/MyDrive/Python/items.csv', 'r') as f:\n",
        "    reader = csv.DictReader(f)  # Read as dictionaries\n",
        "    items = list(reader)  # Convert to a list of dictionaries\n",
        "\n",
        "# Print the data\n",
        "for item in items:\n",
        "    print(item)\n"
      ],
      "metadata": {
        "colab": {
          "base_uri": "https://localhost:8080/"
        },
        "id": "aAkzWvjH7QGi",
        "outputId": "4a6fce99-ae8e-4e90-cd60-98d85488d7c5"
      },
      "execution_count": 34,
      "outputs": [
        {
          "output_type": "stream",
          "name": "stdout",
          "text": [
            "{'name': 'Phone', 'price': '100', 'quantity': '1'}\n",
            "{'name': 'Laptop', 'price': '1000', 'quantity': '3'}\n",
            "{'name': 'Cable', 'price': '10', 'quantity': '5'}\n",
            "{'name': 'Mouse', 'price': '50', 'quantity': '5'}\n",
            "{'name': 'Keyboard', 'price': '75', 'quantity': '5'}\n"
          ]
        }
      ]
    },
    {
      "cell_type": "markdown",
      "source": [
        "Now, the goal is to create instances of a class based on the data read from the CSV file.\n",
        "\n",
        "So, in order to do that, we have to create a class method to read and instantiate objects dynamically. Class method as it will work for the whole class and not for each instance."
      ],
      "metadata": {
        "id": "-qKTsE217baL"
      }
    },
    {
      "cell_type": "markdown",
      "source": [
        "#### Class Vs. Static Methods\n",
        "\n",
        "`@classmethod`:\n",
        "- Methods that operate on the class rather than individual instances.\n",
        "-Defined using the @classmethod decorator.\n",
        "- The first parameter is cls, representing the class itself.\n"
      ],
      "metadata": {
        "id": "01zBPTSusGSM"
      }
    },
    {
      "cell_type": "markdown",
      "source": [
        "Now add the instance data to CSV to update the it for new items added to stock."
      ],
      "metadata": {
        "id": "MiS_gWRqN_wz"
      }
    },
    {
      "cell_type": "code",
      "source": [
        "class Item:\n",
        "  pay_rate = 0.8\n",
        "  all = []\n",
        "  def __init__(self, name: str, price: float, quantity = 0):\n",
        "    assert price >= 0, f\"Price {price} is not greater than or equal to zero!\"\n",
        "    assert quantity >= 0, f\"Quantity {quantity} is not greater than or equal to zero!\"\n",
        "    self.name = name\n",
        "    self.price = price\n",
        "    self.quantity = quantity\n",
        "    self.sell_price = self.price\n",
        "\n",
        "    Item.all.append(self)\n",
        "\n",
        "  def calculate_total_price(self):\n",
        "    return self.price * self.quantity\n",
        "\n",
        "  def apply_discount(self):\n",
        "    self.sell_price = self.price * self.pay_rate\n",
        "\n",
        "  def __repr__(self): # This will be called\n",
        "    temp = {\"name\": self.name, \"price\": self.price, \"quantity\": self.quantity, \"sell_price\": self.sell_price, \"pay_rate\": self.pay_rate}\n",
        "    return f'Item({temp})\\n'\n",
        "###################FOCUS HERE###################################################\n",
        "  @classmethod\n",
        "  def instantiate_from_CSV(cls):\n",
        "    with open('/content/drive/MyDrive/Python/items.csv', 'r') as f:\n",
        "      reader = csv.DictReader(f)\n",
        "      for item in reader:\n",
        "        Item(\n",
        "            name = item.get('name'),\n",
        "            price = float(item.get('price')),\n",
        "            quantity = int(item.get('quantity'))\n",
        "        )\n",
        "#######################################################################################\n",
        "\n",
        "Item.instantiate_from_CSV()\n",
        "print(Item.all)\n",
        "item1.__dict__\n"
      ],
      "metadata": {
        "colab": {
          "base_uri": "https://localhost:8080/"
        },
        "id": "g2mbkjYr8Yak",
        "outputId": "48bba42d-81e6-43a2-9c12-85539b8623ac"
      },
      "execution_count": 55,
      "outputs": [
        {
          "output_type": "stream",
          "name": "stdout",
          "text": [
            "[{'name': 'Phone', 'price': 100.0, 'quantity': 1, 'sell_price': 100.0, 'pay_rate': 0.8}\n",
            ", {'name': 'Laptop', 'price': 1000.0, 'quantity': 3, 'sell_price': 1000.0, 'pay_rate': 0.8}\n",
            ", {'name': 'Cable', 'price': 10.0, 'quantity': 5, 'sell_price': 10.0, 'pay_rate': 0.8}\n",
            ", {'name': 'Mouse', 'price': 50.0, 'quantity': 5, 'sell_price': 50.0, 'pay_rate': 0.8}\n",
            ", {'name': 'Keyboard', 'price': 75.0, 'quantity': 5, 'sell_price': 75.0, 'pay_rate': 0.8}\n",
            "]\n"
          ]
        },
        {
          "output_type": "execute_result",
          "data": {
            "text/plain": [
              "{'name': 'Phone', 'price': 100, 'quantity': 1, 'sell_price': 100}"
            ]
          },
          "metadata": {},
          "execution_count": 55
        }
      ]
    },
    {
      "cell_type": "markdown",
      "source": [
        "\n",
        "`@staticmethods`:\n",
        "- Methods that do not operate on the instance or the class.\n",
        "- Defined using the @staticmethod decorator.\n",
        "- Do not take self or cls as parameters."
      ],
      "metadata": {
        "id": "dMJ5JjhjtLAX"
      }
    },
    {
      "cell_type": "code",
      "source": [
        "class Item:\n",
        "  pay_rate = 0.8\n",
        "  all = []\n",
        "  def __init__(self, name: str, price: float, quantity = 0):\n",
        "    assert price >= 0, f\"Price {price} is not greater than or equal to zero!\"\n",
        "    assert quantity >= 0, f\"Quantity {quantity} is not greater than or equal to zero!\"\n",
        "    self.name = name\n",
        "    self.price = price\n",
        "    self.quantity = quantity\n",
        "    self.sell_price = self.price\n",
        "\n",
        "    Item.all.append(self)\n",
        "\n",
        "  def calculate_total_price(self):\n",
        "    return self.price * self.quantity\n",
        "\n",
        "  def apply_discount(self):\n",
        "    self.sell_price = self.price * self.pay_rate\n",
        "\n",
        "  def __repr__(self): # This will be called\n",
        "    temp = {\"name\": self.name, \"price\": self.price, \"quantity\": self.quantity, \"sell_price\": self.sell_price, \"pay_rate\": self.pay_rate}\n",
        "    return f'Item({temp})\\n'\n",
        "\n",
        "  @classmethod\n",
        "  def instantiate_from_CSV(cls):\n",
        "    with open('/content/drive/MyDrive/Python/items.csv', 'r') as f:\n",
        "      reader = csv.DictReader(f)\n",
        "      for item in reader:\n",
        "        Item(\n",
        "            name = item.get('name'),\n",
        "            price = float(item.get('price')),\n",
        "            quantity = int(item.get('quantity'))\n",
        "        )\n",
        "################FOCUS HERE##############################\n",
        "  @staticmethod\n",
        "  def is_integer(num):\n",
        "      # Check if the number is an integer or a float with no decimal part\n",
        "      if isinstance(num, float):\n",
        "          return num.is_integer()\n",
        "      return isinstance(num, int)\n",
        "#####################################################\n",
        "# Use the static method\n",
        "print(Item.is_integer(5))      # Output: True\n",
        "print(Item.is_integer(5.0))    # Output: True\n",
        "print(Item.is_integer(5.5))    # Output: False\n"
      ],
      "metadata": {
        "colab": {
          "base_uri": "https://localhost:8080/"
        },
        "id": "zL0rF5sWtMOw",
        "outputId": "a081bb7d-27a7-4e33-c587-08a4978b6073"
      },
      "execution_count": 109,
      "outputs": [
        {
          "output_type": "stream",
          "name": "stdout",
          "text": [
            "True\n",
            "True\n",
            "False\n"
          ]
        }
      ]
    },
    {
      "cell_type": "markdown",
      "source": [
        "Static methods behave like regular functions but are logically grouped within a class.\n"
      ],
      "metadata": {
        "id": "s6B4cuGgtmaD"
      }
    },
    {
      "cell_type": "markdown",
      "source": [
        "#####**Practice**"
      ],
      "metadata": {
        "id": "QDwVdqj1s1DZ"
      }
    },
    {
      "cell_type": "code",
      "source": [
        "import csv\n",
        "\n",
        "class Item:\n",
        "    pay_rate = 0.8\n",
        "    all = []\n",
        "\n",
        "    def __init__(self, name: str, price: float, quantity=0):\n",
        "        # Basic validations\n",
        "        assert price >= 0, f\"Price {price} is not greater than or equal to zero!\"\n",
        "        assert quantity >= 0, f\"Quantity {quantity} is not greater than or equal to zero!\"\n",
        "\n",
        "        # Assign attributes\n",
        "        self.name = name\n",
        "        self.price = price\n",
        "        self.quantity = quantity\n",
        "        self.sell_price = self.price\n",
        "\n",
        "        # Add the new item to the overall \"basket\"\n",
        "        Item.all.append(self)\n",
        "\n",
        "    def calculate_total_price(self):\n",
        "        \"\"\"Calculate total price of item(s) in basket.\"\"\"\n",
        "        return self.price * self.quantity\n",
        "\n",
        "    def apply_discount(self):\n",
        "        \"\"\"Apply pay_rate discount to the sell_price.\"\"\"\n",
        "        self.sell_price = self.price * self.pay_rate\n",
        "\n",
        "    def __repr__(self):\n",
        "        \"\"\"\n",
        "        Convenient representation for debugging:\n",
        "        Shows name, price, quantity, sell_price, and pay_rate.\n",
        "        \"\"\"\n",
        "        temp = {\n",
        "            \"name\": self.name,\n",
        "            \"price\": self.price,\n",
        "            \"quantity\": self.quantity,\n",
        "            \"sell_price\": self.sell_price,\n",
        "            \"pay_rate\": self.pay_rate\n",
        "        }\n",
        "        return f'{temp}\\n'\n",
        "\n",
        "    @classmethod\n",
        "    def instantiate_from_CSV(cls):\n",
        "        \"\"\"Reads items from a CSV file and creates Item instances.\"\"\"\n",
        "        with open('/content/drive/MyDrive/Python/items.csv', 'r', newline='') as f:\n",
        "            reader = csv.DictReader(f)\n",
        "            for row in reader:\n",
        "                Item(\n",
        "                    name=row.get('name'),\n",
        "                    price=float(row.get('price')),\n",
        "                    quantity=int(row.get('quantity'))\n",
        "                )\n",
        "\n",
        "    def check_in_csv(self):\n",
        "        \"\"\"\n",
        "        Checks if the item (by name) is already in the CSV.\n",
        "        Returns True if found, False otherwise.\n",
        "        \"\"\"\n",
        "        with open('/content/drive/MyDrive/Python/items.csv', 'r', newline='') as f:\n",
        "            reader = csv.reader(f)\n",
        "            # skip header if needed: next(reader, None)\n",
        "            for row in reader:\n",
        "                # row is a list like ['name', 'price', 'quantity']\n",
        "                if row and row[0] == self.name:\n",
        "                    return True\n",
        "            return False\n",
        "\n",
        "    def add_to_csv(self):\n",
        "        \"\"\"\n",
        "        1. If the item is not in the CSV, it appends a new line.\n",
        "        2. If the item exists, it updates the existing record:\n",
        "           - overwrites the price\n",
        "           - adds the new quantity to the existing quantity\n",
        "        \"\"\"\n",
        "        if not self.check_in_csv():\n",
        "            # Not found in CSV, so append\n",
        "            with open('/content/drive/MyDrive/Python/items.csv', 'a', newline='') as f:\n",
        "                writer = csv.DictWriter(f, fieldnames=['name', 'price', 'quantity'])\n",
        "                # If CSV was empty and no header, you could do writer.writeheader() once,\n",
        "                # but typically the file is assumed to have a header at creation.\n",
        "                writer.writerow({\n",
        "                    'name': self.name,\n",
        "                    'price': str(self.price),\n",
        "                    'quantity': str(self.quantity)\n",
        "                })\n",
        "        else:\n",
        "            # Update existing record\n",
        "            with open('/content/drive/MyDrive/Python/items.csv', 'r', newline='') as f:\n",
        "                reader = csv.DictReader(f)\n",
        "                items = list(reader)\n",
        "\n",
        "            for item in items:\n",
        "                if item['name'] == self.name:\n",
        "                    item['price'] = str(self.price)\n",
        "                    item['quantity'] = str(int(item['quantity']) + self.quantity)\n",
        "                    break\n",
        "\n",
        "            with open('/content/drive/MyDrive/Python/items.csv', 'w', newline='') as f:\n",
        "                writer = csv.DictWriter(f, fieldnames=['name', 'price', 'quantity'])\n",
        "                writer.writeheader()\n",
        "                writer.writerows(items)\n",
        "\n",
        "    @classmethod\n",
        "    def empty_basket(cls):\n",
        "        \"\"\"Clears all items from the in-memory basket.\"\"\"\n",
        "        cls.all = []\n",
        "        print(\"Basket Emptied!\")\n",
        "\n",
        "    def remove_item_from_csv(self):\n",
        "        \"\"\"\n",
        "        Subtracts the item's `quantity` from the CSV record.\n",
        "        If total drops to 0, removes the entire entry.\n",
        "        Raises ValueError if removal would produce a negative quantity.\n",
        "        \"\"\"\n",
        "        with open('/content/drive/MyDrive/Python/items.csv', 'r', newline='') as f:\n",
        "            reader = csv.DictReader(f)\n",
        "            items = list(reader)\n",
        "\n",
        "        for item in items:\n",
        "            if item['name'] == self.name:\n",
        "                new_quantity = int(item['quantity']) - self.quantity\n",
        "                if new_quantity < 0:\n",
        "                    raise ValueError(\"Quantity cannot be negative\")\n",
        "                elif new_quantity == 0:\n",
        "                    # Remove entire entry if quantity hits 0\n",
        "                    items.remove(item)\n",
        "                else:\n",
        "                    item['quantity'] = str(new_quantity)\n",
        "                break\n",
        "\n",
        "        with open('/content/drive/MyDrive/Python/items.csv', 'w', newline='') as f:\n",
        "            writer = csv.DictWriter(f, fieldnames=['name', 'price', 'quantity'])\n",
        "            writer.writeheader()\n",
        "            writer.writerows(items)\n",
        "\n",
        "    @classmethod\n",
        "    def update_csv(cls):\n",
        "        \"\"\"\n",
        "        Writes all in-memory items to the CSV\n",
        "        (adding or updating existing entries).\n",
        "        Then clears the in-memory basket.\n",
        "        \"\"\"\n",
        "        for item in cls.all:\n",
        "            item.add_to_csv()\n",
        "        cls.empty_basket()\n",
        "\n",
        "    @classmethod\n",
        "    def print_csv(cls):\n",
        "        \"\"\"Prints each row from the CSV for quick inspection.\"\"\"\n",
        "        with open('/content/drive/MyDrive/Python/items.csv', 'r', newline='') as f:\n",
        "            reader = csv.DictReader(f)\n",
        "            for row in reader:\n",
        "                print(row)\n"
      ],
      "metadata": {
        "id": "FDdhcBX0Opda"
      },
      "execution_count": 97,
      "outputs": []
    },
    {
      "cell_type": "markdown",
      "source": [
        "\n",
        "1. **`remove_item_from_csv()`**:\n",
        "   - Decreases an item's quantity in the CSV file.\n",
        "   - Deletes the item from the file if the resulting quantity is 0.\n",
        "   - Raises a `ValueError` if the quantity would become negative.\n",
        "\n",
        "2. **`empty_basket()`**:\n",
        "   - Clears all in-memory items stored in the `Item.all` list.\n",
        "   - Does not affect the CSV file directly.\n",
        "\n",
        "3. **`update_csv()`**:\n",
        "   - Writes all in-memory items (`Item.all`) to the CSV.\n",
        "   - Updates existing items or appends new ones.\n",
        "   - Calls `empty_basket()` afterward, clearing the in-memory list.\n",
        "\n",
        "4. **`check_in_csv()`**:\n",
        "   - Checks if an item exists in the CSV by its name.\n",
        "   - Returns `True` if found, `False` otherwise.\n",
        "\n",
        "5. **`add_to_csv()`**:\n",
        "   - Adds a new item or updates an existing one in the CSV.\n",
        "   - Uses `check_in_csv()` to determine whether to append or update.\n",
        "\n",
        "Relationships:\n",
        "- **`update_csv()`** calls `add_to_csv()` and then clears the basket.\n",
        "- **`remove_item_from_csv()`** modifies item quantities, potentially removing items entirely."
      ],
      "metadata": {
        "id": "so65WG28qRWS"
      }
    },
    {
      "cell_type": "markdown",
      "source": [
        "Run the code in sequence as the logic is a bit flawed just to explain how to work with CSV in different functions"
      ],
      "metadata": {
        "id": "Sdurche0q4T8"
      }
    },
    {
      "cell_type": "code",
      "source": [
        "print(Item.all)"
      ],
      "metadata": {
        "colab": {
          "base_uri": "https://localhost:8080/"
        },
        "id": "zkvEMSG7jOm-",
        "outputId": "b2099e27-b72d-4740-95c0-785c8f2d1702"
      },
      "execution_count": 98,
      "outputs": [
        {
          "output_type": "stream",
          "name": "stdout",
          "text": [
            "[]\n"
          ]
        }
      ]
    },
    {
      "cell_type": "code",
      "source": [
        "Item.print_csv()"
      ],
      "metadata": {
        "colab": {
          "base_uri": "https://localhost:8080/"
        },
        "id": "D6IXt66Hm1eA",
        "outputId": "44b0c556-412d-4583-d492-2f6f29681629"
      },
      "execution_count": 99,
      "outputs": [
        {
          "output_type": "stream",
          "name": "stdout",
          "text": [
            "{'name': 'Phone', 'price': '100', 'quantity': '1'}\n",
            "{'name': 'Laptop', 'price': '1000', 'quantity': '3'}\n",
            "{'name': 'Cable', 'price': '10', 'quantity': '5'}\n",
            "{'name': 'Mouse', 'price': '50', 'quantity': '5'}\n",
            "{'name': 'Keyboard', 'price': '75', 'quantity': '5'}\n"
          ]
        }
      ]
    },
    {
      "cell_type": "code",
      "source": [
        "item1 = Item(\"Phone\", 100, 1)\n",
        "item2 = Item(\"Laptop\", 1000, 3)\n",
        "item3 = Item(\"CPU\", 10000, 3)"
      ],
      "metadata": {
        "id": "ISewFus2Zl6Y"
      },
      "execution_count": 100,
      "outputs": []
    },
    {
      "cell_type": "code",
      "source": [
        "Item.update_csv()\n",
        "Item.instantiate_from_CSV()\n",
        "print(Item.all)\n",
        "\n",
        "# In order to retain original data\n",
        "item1.remove_item_from_csv()\n",
        "item2.remove_item_from_csv()\n",
        "item3.remove_item_from_csv()"
      ],
      "metadata": {
        "colab": {
          "base_uri": "https://localhost:8080/"
        },
        "id": "073WVWh3jLcC",
        "outputId": "5473c8c8-ee14-4b6c-dc42-9d93d3cb3d19"
      },
      "execution_count": 101,
      "outputs": [
        {
          "output_type": "stream",
          "name": "stdout",
          "text": [
            "Basket Emptied!\n",
            "[{'name': 'Phone', 'price': 100.0, 'quantity': 2, 'sell_price': 100.0, 'pay_rate': 0.8}\n",
            ", {'name': 'Laptop', 'price': 1000.0, 'quantity': 6, 'sell_price': 1000.0, 'pay_rate': 0.8}\n",
            ", {'name': 'Cable', 'price': 10.0, 'quantity': 5, 'sell_price': 10.0, 'pay_rate': 0.8}\n",
            ", {'name': 'Mouse', 'price': 50.0, 'quantity': 5, 'sell_price': 50.0, 'pay_rate': 0.8}\n",
            ", {'name': 'Keyboard', 'price': 75.0, 'quantity': 5, 'sell_price': 75.0, 'pay_rate': 0.8}\n",
            ", {'name': 'CPU', 'price': 10000.0, 'quantity': 3, 'sell_price': 10000.0, 'pay_rate': 0.8}\n",
            "]\n"
          ]
        }
      ]
    },
    {
      "cell_type": "code",
      "source": [
        "Item.print_csv()"
      ],
      "metadata": {
        "colab": {
          "base_uri": "https://localhost:8080/"
        },
        "id": "LivWq_2HjBDQ",
        "outputId": "ebabeb96-e4ad-48f0-d9a8-8d76eff8cf11"
      },
      "execution_count": 105,
      "outputs": [
        {
          "output_type": "stream",
          "name": "stdout",
          "text": [
            "{'name': 'Phone', 'price': '100', 'quantity': '1'}\n",
            "{'name': 'Laptop', 'price': '1000', 'quantity': '3'}\n",
            "{'name': 'Cable', 'price': '10', 'quantity': '5'}\n",
            "{'name': 'Mouse', 'price': '50', 'quantity': '5'}\n",
            "{'name': 'Keyboard', 'price': '75', 'quantity': '5'}\n"
          ]
        }
      ]
    },
    {
      "cell_type": "code",
      "source": [
        "Item.empty_basket()"
      ],
      "metadata": {
        "colab": {
          "base_uri": "https://localhost:8080/"
        },
        "id": "O5k0NpdzjY-c",
        "outputId": "3a057011-0158-4e5c-a1ec-1e8cda65c161"
      },
      "execution_count": 104,
      "outputs": [
        {
          "output_type": "stream",
          "name": "stdout",
          "text": [
            "Basket Emptied!\n"
          ]
        }
      ]
    },
    {
      "cell_type": "code",
      "source": [
        "import csv\n",
        "\n",
        "class Item:\n",
        "    pay_rate = 0.8\n",
        "    all = []\n",
        "\n",
        "    def __init__(self, name: str, price: float, quantity=0):\n",
        "        # Basic validations\n",
        "        assert price >= 0, f\"Price {price} is not greater than or equal to zero!\"\n",
        "        assert quantity >= 0, f\"Quantity {quantity} is not greater than or equal to zero!\"\n",
        "\n",
        "        # Assign attributes\n",
        "        self.name = name\n",
        "        self.price = price\n",
        "        self.quantity = quantity\n",
        "        self.sell_price = self.price\n",
        "\n",
        "        # Add the new item to the overall \"basket\"\n",
        "        Item.all.append(self)\n",
        "\n",
        "    def calculate_total_price(self):\n",
        "        \"\"\"Calculate total price of item(s) in basket.\"\"\"\n",
        "        return self.price * self.quantity\n",
        "\n",
        "    def apply_discount(self):\n",
        "        \"\"\"Apply pay_rate discount to the sell_price.\"\"\"\n",
        "        self.sell_price = self.price * self.pay_rate\n",
        "\n",
        "    def __repr__(self):\n",
        "        \"\"\"\n",
        "        Convenient representation for debugging:\n",
        "        Shows name, price, quantity, sell_price, and pay_rate.\n",
        "        \"\"\"\n",
        "        temp = {\n",
        "            \"name\": self.name,\n",
        "            \"price\": self.price,\n",
        "            \"quantity\": self.quantity,\n",
        "            \"sell_price\": self.sell_price,\n",
        "            \"pay_rate\": self.pay_rate\n",
        "        }\n",
        "        return f'{temp}\\n'\n",
        "\n",
        "    @classmethod\n",
        "    def instantiate_from_CSV(cls):\n",
        "        \"\"\"Reads items from a CSV file and creates Item instances.\"\"\"\n",
        "        with open('/content/drive/MyDrive/Python/items.csv', 'r', newline='') as f:\n",
        "            reader = csv.DictReader(f)\n",
        "            for row in reader:\n",
        "                Item(\n",
        "                    name=row.get('name'),\n",
        "                    price=float(row.get('price')),\n",
        "                    quantity=int(row.get('quantity'))\n",
        "                )"
      ],
      "metadata": {
        "id": "lhwliXsyrQ2f"
      },
      "execution_count": 106,
      "outputs": []
    },
    {
      "cell_type": "markdown",
      "source": [
        "### **Inheritance**\n",
        "\n",
        "Inheritance is an object-oriented programming (OOP) concept where one class (child or derived class) inherits attributes and methods from another class (parent or base class).\n",
        "\n",
        "- Promotes code reuse by sharing functionality between classes.\n",
        "-Establishes a hierarchical relationship between classes."
      ],
      "metadata": {
        "id": "YDyPQuqZmvGn"
      }
    },
    {
      "cell_type": "markdown",
      "source": [
        "In this example lets say we have some broken phones that are being added. So we need to identify these phones seperatley and manage them specially.\n",
        "\n",
        "So let's say we make a similar class named `Phones` with same attributes, functions and then add some more.\n",
        "This is alright method but we'll need to add all the objects again in the `phone` class.\n",
        "\n",
        "So instead we can use the property of Inheritance."
      ],
      "metadata": {
        "id": "G_x8Pa0_nAYr"
      }
    },
    {
      "cell_type": "markdown",
      "source": [
        "`super()`: In Python, the built-in super() function is used to give you access to methods (and properties) in a superclass (or parent class).\n",
        "\n",
        "```python\n",
        "class Parent:\n",
        "    def __init__(self, value):\n",
        "        self.value = value\n",
        "\n",
        "class Child(Parent):\n",
        "    def __init__(self, value, extra):\n",
        "        # Call the Parent's __init__ first\n",
        "        super().__init__(value)\n",
        "        self.extra = extra\n",
        "```\n"
      ],
      "metadata": {
        "id": "td_qk5YLsuWw"
      }
    },
    {
      "cell_type": "code",
      "source": [
        "class Item:\n",
        "  pay_rate = 0.8\n",
        "  all = []\n",
        "  def __init__(self, name: str, price: float, quantity = 0):\n",
        "    assert price >= 0, f\"Price {price} is not greater than or equal to zero!\"\n",
        "    assert quantity >= 0, f\"Quantity {quantity} is not greater than or equal to zero!\"\n",
        "    self.name = name\n",
        "    self.price = price\n",
        "    self.quantity = quantity\n",
        "    self.sell_price = self.price\n",
        "\n",
        "    Item.all.append(self)\n",
        "\n",
        "  def calculate_total_price(self):\n",
        "    return self.price * self.quantity\n",
        "\n",
        "  def apply_discount(self):\n",
        "    self.sell_price = self.price * self.pay_rate\n",
        "\n",
        "  def __repr__(self): # This will be called\n",
        "    temp = {\"name\": self.name, \"price\": self.price, \"quantity\": self.quantity, \"sell_price\": self.sell_price, \"pay_rate\": self.pay_rate}\n",
        "    return f'Item({temp})\\n'\n",
        "\n",
        "  @classmethod\n",
        "  def instantiate_from_CSV(cls):\n",
        "    with open('/content/drive/MyDrive/Python/items.csv', 'r') as f:\n",
        "      reader = csv.DictReader(f)\n",
        "      for item in reader:\n",
        "        Item(\n",
        "            name = item.get('name'),\n",
        "            price = float(item.get('price')),\n",
        "            quantity = int(item.get('quantity'))\n",
        "        )\n",
        "\n",
        "  @staticmethod\n",
        "  def is_integer(num):\n",
        "      # Check if the number is an integer or a float with no decimal part\n",
        "      if isinstance(num, float):\n",
        "          return num.is_integer()\n",
        "      return isinstance(num, int)\n",
        "\n",
        "class Phone(Item):\n",
        "  def __init__(self, name: str, price: float, quantity = 0, broken_phones = 0):\n",
        "    super().__init__(name,price,quantity)\n",
        "    assert broken_phones >= 0, f\"Broken Phones cannot be negative\"\n",
        "    self.broken_phones = broken_phones\n",
        "\n",
        "phone1 = Phone(\"jscPhonev10\", 500, 5, 1)\n",
        "print(phone1.calculate_total_price())\n",
        "print(phone1.broken_phones)\n",
        "phone2 = Phone(\"jscPhonev20\", 700, 5, 1)\n",
        "print(phone2.calculate_total_price())\n",
        "print(phone2.broken_phones)\n",
        "\n"
      ],
      "metadata": {
        "colab": {
          "base_uri": "https://localhost:8080/"
        },
        "id": "DcRAYngdorVA",
        "outputId": "b77683e6-c5f6-4903-d361-8ab836aa5650"
      },
      "execution_count": 7,
      "outputs": [
        {
          "output_type": "stream",
          "name": "stdout",
          "text": [
            "2500\n",
            "1\n",
            "3500\n",
            "1\n"
          ]
        }
      ]
    },
    {
      "cell_type": "code",
      "source": [
        "print(Phone.all)"
      ],
      "metadata": {
        "colab": {
          "base_uri": "https://localhost:8080/"
        },
        "id": "Do4aQY28rVuf",
        "outputId": "8f4bcf5b-d364-44f2-ebc0-6fdd824b7c17"
      },
      "execution_count": 8,
      "outputs": [
        {
          "output_type": "stream",
          "name": "stdout",
          "text": [
            "[Item({'name': 'jscPhonev10', 'price': 500, 'quantity': 5, 'sell_price': 500, 'pay_rate': 0.8})\n",
            ", Item({'name': 'jscPhonev20', 'price': 700, 'quantity': 5, 'sell_price': 700, 'pay_rate': 0.8})\n",
            "]\n"
          ]
        }
      ]
    },
    {
      "cell_type": "markdown",
      "source": [
        "Since this prints Item as the `__repr__` belongs to Item class and it's hardcorded to print Item. So let's change that to printing the Class from where the method is called even if from a child class. As all the attiributes and methods of the parent class are inherited from the child class"
      ],
      "metadata": {
        "id": "-Bbw2WTgrWzZ"
      }
    },
    {
      "cell_type": "code",
      "source": [
        "class Item:\n",
        "  pay_rate = 0.8\n",
        "  all = []\n",
        "  def __init__(self, name: str, price: float, quantity = 0):\n",
        "    assert price >= 0, f\"Price {price} is not greater than or equal to zero!\"\n",
        "    assert quantity >= 0, f\"Quantity {quantity} is not greater than or equal to zero!\"\n",
        "    self.name = name\n",
        "    self.price = price\n",
        "    self.quantity = quantity\n",
        "    self.sell_price = self.price\n",
        "\n",
        "    Item.all.append(self)\n",
        "\n",
        "  def calculate_total_price(self):\n",
        "    return self.price * self.quantity\n",
        "\n",
        "  def apply_discount(self):\n",
        "    self.sell_price = self.price * self.pay_rate\n",
        "\n",
        "  def __repr__(self): # This will be called\n",
        "    temp = {\"name\": self.name, \"price\": self.price, \"quantity\": self.quantity, \"sell_price\": self.sell_price, \"pay_rate\": self.pay_rate}\n",
        "    return f'{self.__class__.__name__}({temp})\\n'\n",
        "\n",
        "  @classmethod\n",
        "  def instantiate_from_CSV(cls):\n",
        "    with open('/content/drive/MyDrive/Python/items.csv', 'r') as f:\n",
        "      reader = csv.DictReader(f)\n",
        "      for item in reader:\n",
        "        Item(\n",
        "            name = item.get('name'),\n",
        "            price = float(item.get('price')),\n",
        "            quantity = int(item.get('quantity'))\n",
        "        )\n",
        "\n",
        "  @staticmethod\n",
        "  def is_integer(num):\n",
        "      # Check if the number is an integer or a float with no decimal part\n",
        "      if isinstance(num, float):\n",
        "          return num.is_integer()\n",
        "      return isinstance(num, int)\n",
        "\n",
        "class Phone(Item):\n",
        "  def __init__(self, name: str, price: float, quantity = 0, broken_phones = 0):\n",
        "    super().__init__(name,price,quantity) # Because of this the Phone class has access to all the methods and attributes of the Item class.\n",
        "    assert broken_phones >= 0, f\"Broken Phones cannot be negative\"\n",
        "    self.broken_phones = broken_phones\n",
        "\n",
        "phone1 = Phone(\"jscPhonev10\", 500, 5, 1)\n",
        "phone2 = Phone(\"jscPhonev20\", 700, 5, 1)\n",
        "\n",
        "print(phone1)\n",
        "print(Phone.all)\n"
      ],
      "metadata": {
        "colab": {
          "base_uri": "https://localhost:8080/"
        },
        "id": "81MeNPmEr_Wn",
        "outputId": "9c9d37bb-d5b3-4c77-90e3-399b0d985552"
      },
      "execution_count": 12,
      "outputs": [
        {
          "output_type": "stream",
          "name": "stdout",
          "text": [
            "Phone({'name': 'jscPhonev10', 'price': 500, 'quantity': 5, 'sell_price': 500, 'pay_rate': 0.8})\n",
            "\n",
            "[Phone({'name': 'jscPhonev10', 'price': 500, 'quantity': 5, 'sell_price': 500, 'pay_rate': 0.8})\n",
            ", Phone({'name': 'jscPhonev20', 'price': 700, 'quantity': 5, 'sell_price': 700, 'pay_rate': 0.8})\n",
            "]\n"
          ]
        }
      ]
    },
    {
      "cell_type": "markdown",
      "source": [
        "Moving forward we'll work with main.py file only and the classes file would be different and would be imported as a module."
      ],
      "metadata": {
        "id": "1ZdRo6EZ095S"
      }
    },
    {
      "cell_type": "code",
      "source": [
        "import os\n",
        "\n",
        "os.getcwd()"
      ],
      "metadata": {
        "colab": {
          "base_uri": "https://localhost:8080/",
          "height": 35
        },
        "id": "_VMoRKHz1WSR",
        "outputId": "2e5f4d43-6b35-4ae2-ddc2-be70c01189d1"
      },
      "execution_count": 12,
      "outputs": [
        {
          "output_type": "execute_result",
          "data": {
            "text/plain": [
              "'/content'"
            ],
            "application/vnd.google.colaboratory.intrinsic+json": {
              "type": "string"
            }
          },
          "metadata": {},
          "execution_count": 12
        }
      ]
    },
    {
      "cell_type": "code",
      "source": [
        "os.chdir('/content/drive/MyDrive/Python')"
      ],
      "metadata": {
        "id": "iINU2ppO1mEl"
      },
      "execution_count": 13,
      "outputs": []
    },
    {
      "cell_type": "code",
      "source": [
        "os.getcwd()"
      ],
      "metadata": {
        "colab": {
          "base_uri": "https://localhost:8080/",
          "height": 35
        },
        "id": "T5Nd32jR3GLV",
        "outputId": "28077fb4-6b42-4096-9359-5a3973694cde"
      },
      "execution_count": 14,
      "outputs": [
        {
          "output_type": "execute_result",
          "data": {
            "text/plain": [
              "'/content/drive/MyDrive/Python'"
            ],
            "application/vnd.google.colaboratory.intrinsic+json": {
              "type": "string"
            }
          },
          "metadata": {},
          "execution_count": 14
        }
      ]
    },
    {
      "cell_type": "code",
      "source": [
        "for dirpath,dirname,filenames in os.walk(os.getcwd()):\n",
        "  print(\"Current Path:\",dirpath)\n",
        "  print(\"Directories:\",dirname)\n",
        "  print(\"Files:\",filenames)\n",
        "  print()"
      ],
      "metadata": {
        "colab": {
          "base_uri": "https://localhost:8080/"
        },
        "id": "pAUohQww5DXV",
        "outputId": "83d11101-9e54-4d35-f2c9-863d3b53ae17"
      },
      "execution_count": 15,
      "outputs": [
        {
          "output_type": "stream",
          "name": "stdout",
          "text": [
            "Current Path: /content/drive/MyDrive/Python\n",
            "Directories: ['.ipynb_checkpoints', '__pycache__']\n",
            "Files: ['naman.py', 'main.py', 'myfile1.txt', 'myfile.txt', 'myfile2.txt', 'myfile3.txt', 'Python Notebook.ipynb', 'items.gsheet', 'items.csv', 'Item.py', 'Phone.py']\n",
            "\n",
            "Current Path: /content/drive/MyDrive/Python/.ipynb_checkpoints\n",
            "Directories: []\n",
            "Files: []\n",
            "\n",
            "Current Path: /content/drive/MyDrive/Python/__pycache__\n",
            "Directories: []\n",
            "Files: ['Item.cpython-311.pyc', 'Phone.cpython-311.pyc']\n",
            "\n"
          ]
        }
      ]
    },
    {
      "cell_type": "markdown",
      "source": [
        "As you can see I have created an `Item.py` and `Phone.py` in the my directory"
      ],
      "metadata": {
        "id": "pHicQj706DnX"
      }
    },
    {
      "cell_type": "code",
      "source": [
        "#This notebook cell will act as main.py as we are running all the code here\n",
        "from Item import Item\n",
        "from Phone import Phone\n",
        "print(\"Correctly imported\")"
      ],
      "metadata": {
        "colab": {
          "base_uri": "https://localhost:8080/"
        },
        "id": "ZyADDMUS1qCH",
        "outputId": "87b13416-4a11-428d-b110-03829d6c3da7"
      },
      "execution_count": 16,
      "outputs": [
        {
          "output_type": "stream",
          "name": "stdout",
          "text": [
            "Correctly imported\n"
          ]
        }
      ]
    },
    {
      "cell_type": "markdown",
      "source": [
        "### **Encapsulation**\n",
        "\n",
        "Encapsulation is the bundling of data (attributes) and methods (functions) within a class, restricting direct access to some components and ensuring controlled interaction.\n",
        "\n",
        "- Protects data from being accessed or modified directly.\n",
        "- Provides controlled mechanisms (methods) to interact with the internal state of an object.\n",
        "- Enforces abstraction by hiding implementation details.\n",
        "\n"
      ],
      "metadata": {
        "id": "KGeo3KvF6gqR"
      }
    },
    {
      "cell_type": "markdown",
      "source": [
        "#### **Access Modifiers in Python**\n",
        "Python uses a naming convention with underscores to indicate access levels for attributes and methods:\n",
        "\n"
      ],
      "metadata": {
        "id": "dQ-e7cf3IjhD"
      }
    },
    {
      "cell_type": "markdown",
      "source": [
        "##### **Public:**\n",
        "Accessible from anywhere (inside or outside of class).\n",
        "- Syntax - No underscore (`attribute`).\n",
        "\n",
        "```python\n",
        "class Item:\n",
        "    def __init__(self, name, price):\n",
        "        self.name = name  # Public attribute\n",
        "        self.price = price  # Public attribute\n",
        "\n",
        "# Create an instance\n",
        "item = Item(\"Phone\", 500)\n",
        "\n",
        "# Access and modify public attributes\n",
        "print(item.name)  # Output: Phone\n",
        "item.price = 600\n",
        "print(item.price)  # Output: 600\n",
        "\n",
        "```"
      ],
      "metadata": {
        "id": "CagH5TZ7JEY2"
      }
    },
    {
      "cell_type": "markdown",
      "source": [
        "So bascially it's what we have been using so far. Now let's add a little protection to our attributes."
      ],
      "metadata": {
        "id": "g4gtf3RaLYjC"
      }
    },
    {
      "cell_type": "markdown",
      "source": [
        "##### **Protected:**\n",
        "Accessible within the class and its subclasses. But are still accessible outside the class (with a convention-based warning). **IT'S NOT ADVISED**\n",
        "- Single underscore (`_attribute`).\n",
        "\n",
        "```python\n",
        "class Item:\n",
        "    def __init__(self, name, price):\n",
        "        self._price = price  # Protected attribute\n",
        "\n",
        "# Create an instance\n",
        "item = Item(\"Laptop\", 1000)\n",
        "\n",
        "# Accessing a protected attribute (not recommended)\n",
        "print(item._price)  # Output: 1000\n",
        "```"
      ],
      "metadata": {
        "id": "p2O0zjlcLvwf"
      }
    },
    {
      "cell_type": "markdown",
      "source": [
        "##### **Private:**\n",
        "Accessible only within the class.\n",
        "- Double underscore (`__attribute`)."
      ],
      "metadata": {
        "id": "cZNb2ApyNYtQ"
      }
    },
    {
      "cell_type": "code",
      "source": [
        "class Item:\n",
        "    def __init__(self, name, price):\n",
        "        self.__price = price  # Private attribute\n",
        "\n",
        "    def get_price(self):  # Public method to access private attribute\n",
        "        return self.__price\n",
        "\n",
        "# Create an instance\n",
        "item = Item(\"Tablet\", 300)\n",
        "\n",
        "# Attempting direct access (raises an AttributeError)\n",
        "try:\n",
        "  print(item.__price)  # This will fail\n",
        "except AttributeError as e:\n",
        "  print('AttributreError:',e)\n",
        "\n",
        "# Access using public method\n",
        "print(item.get_price())\n"
      ],
      "metadata": {
        "colab": {
          "base_uri": "https://localhost:8080/"
        },
        "id": "yIATeavANxmW",
        "outputId": "cea2a8ef-4e55-4b6d-c3b9-d8f61e904991"
      },
      "execution_count": 15,
      "outputs": [
        {
          "output_type": "stream",
          "name": "stdout",
          "text": [
            "AttributreError: 'Item' object has no attribute '__price'\n",
            "300\n"
          ]
        }
      ]
    },
    {
      "cell_type": "markdown",
      "source": [
        "##### Getter Methods\n",
        "- Getters: Provide read-only access to private or protected attributes."
      ],
      "metadata": {
        "id": "TkvU71NIObT5"
      }
    },
    {
      "cell_type": "code",
      "source": [
        "class Item:\n",
        "  pay_rate = 0.8\n",
        "  all = []\n",
        "  def __init__(self, name: str, price: float, quantity = 0):\n",
        "    assert price >= 0, f\"Price {price} is not greater than or equal to zero!\"\n",
        "    assert quantity >= 0, f\"Quantity {quantity} is not greater than or equal to zero!\"\n",
        "    self.__name = name\n",
        "    self.__price = price\n",
        "    self.quantity = quantity\n",
        "    self.sell_price = self.price\n",
        "\n",
        "    Item.all.append(self)\n",
        "########################FOUCUS HERE #########################################\n",
        "  @property # provides an elegant way to define getters as well as setters as allows attribute variable name to be called to get values\n",
        "  def name(self):\n",
        "    return self.__name\n",
        "\n",
        "  @property\n",
        "  def price(self):\n",
        "    return self.__price\n",
        "######################################################################################\n",
        "  def calculate_total_price(self):\n",
        "    return self.price * self.quantity\n",
        "\n",
        "  def apply_discount(self):\n",
        "    self.sell_price = self.price * self.pay_rate\n",
        "\n",
        "  def __repr__(self): # This will be called\n",
        "    temp = {\"name\": self.name, \"price\": self.price, \"quantity\": self.quantity, \"sell_price\": self.sell_price, \"pay_rate\": self.pay_rate}\n",
        "    return f'{self.__class__.__name__}({temp})\\n'\n",
        "\n",
        "  @classmethod\n",
        "  def instantiate_from_CSV(cls):\n",
        "    with open('/content/drive/MyDrive/Python/items.csv', 'r') as f:\n",
        "      reader = csv.DictReader(f)\n",
        "      for item in reader:\n",
        "        Item(\n",
        "            name = item.get('name'),\n",
        "            price = float(item.get('price')),\n",
        "            quantity = int(item.get('quantity'))\n",
        "        )\n",
        "\n",
        "  @staticmethod\n",
        "  def is_integer(num):\n",
        "      # Check if the number is an integer or a float with no decimal part\n",
        "      if isinstance(num, float):\n",
        "          return num.is_integer()\n",
        "      return isinstance(num, int)\n",
        "\n",
        "\n",
        "\n",
        "class Phone(Item):\n",
        "  def __init__(self, name: str, price: float, quantity = 0, broken_phones = 0):\n",
        "    super().__init__(name,price,quantity) # Because of this the Phone class has access to all the methods and attributes of the Item class.\n",
        "    assert broken_phones >= 0, f\"Broken Phones cannot be negative\"\n",
        "    self.broken_phones = broken_phones\n",
        "\n",
        "  def get_name(self):\n",
        "    return self.__name\n",
        "\n",
        "phone1 = Phone(\"jscPhonev10\", 500, 5, 1)\n",
        "phone2 = Phone(\"jscPhonev20\", 700, 5, 1)\n",
        "\n",
        "try:\n",
        "  print(phone1.__name)\n",
        "except:\n",
        "  print(\"Attribute: __name is private\")\n",
        "\n",
        "#this will call the getter method with the @property so not so inconvinient. Otherwise had to call another public function from item class to get value.\n",
        "print(phone1.name)\n",
        "print(phone1.price)\n",
        "\n",
        "#this will raise AttributeError as name is a private attribute in the Item class and won't change it's value\n",
        "try:\n",
        "  phone1.name = \"New Name\"\n",
        "except:\n",
        "  print(\"Attribute: __name is private and a setter method is not there\")\n",
        "\n",
        "#try accessing private attribute from the child class\n",
        "try:\n",
        "  print(phone1.get_name())\n",
        "except Exception as e:\n",
        "  print(e)"
      ],
      "metadata": {
        "colab": {
          "base_uri": "https://localhost:8080/"
        },
        "id": "KKcAj1g4eq5h",
        "outputId": "b2c477f1-d0ea-475d-d036-49b0e3ed2ab8"
      },
      "execution_count": 33,
      "outputs": [
        {
          "output_type": "stream",
          "name": "stdout",
          "text": [
            "Attribute: __name is private\n",
            "jscPhonev10\n",
            "500\n",
            "Attribute: __name is private and a setter method is not there\n",
            "'Phone' object has no attribute '_Phone__name'\n"
          ]
        }
      ]
    },
    {
      "cell_type": "markdown",
      "source": [
        "##### Setter Methods\n",
        "- Setters: Allow controlled modification of attributes.\n"
      ],
      "metadata": {
        "id": "necE7LL6eQD6"
      }
    },
    {
      "cell_type": "code",
      "source": [
        "class Item:\n",
        "  pay_rate = 0.8\n",
        "  all = []\n",
        "  def __init__(self, name: str, price: float, quantity = 0):\n",
        "    assert price >= 0, f\"Price {price} is not greater than or equal to zero!\"\n",
        "    assert quantity >= 0, f\"Quantity {quantity} is not greater than or equal to zero!\"\n",
        "    self.__name = name\n",
        "    self.__price = price\n",
        "    self.quantity = quantity\n",
        "    self.sell_price = self.__price\n",
        "\n",
        "    Item.all.append(self)\n",
        "\n",
        "  @property # provides an elegant way to define getters as well as setters as allows attribute variable name to be called to get values\n",
        "  def name(self):\n",
        "    return self.__name\n",
        "\n",
        "  @property\n",
        "  def price(self):\n",
        "    return self.__price\n",
        "########################FOUCUS HERE #########################################\n",
        "  @name.setter\n",
        "  def name(self,name):\n",
        "    if len(name) > 8:\n",
        "      raise Exception(f\"Name is {len(name)- 8} charaters longer\")\n",
        "    elif str(name).isnumeric():\n",
        "      raise Exception(f\"Name cannot be numeric\")\n",
        "    else:\n",
        "      self.__name = name\n",
        "  @price.setter\n",
        "  def price(self,price):\n",
        "    if isinstance(price,(str,list,dict)):\n",
        "      raise Exception(f\"Price cannot contain alphbets\")\n",
        "    elif price < 0:\n",
        "      raise Exception(f\"Price cannot be negative\")\n",
        "    else:\n",
        "      self.__price = price\n",
        "######################################################################################\n",
        "  def calculate_total_price(self):\n",
        "    return self.__price * self.quantity\n",
        "\n",
        "  def apply_discount(self):\n",
        "    self.sell_price = self.__price * self.pay_rate\n",
        "\n",
        "  def __repr__(self): # This will be called\n",
        "    temp = {\"name\": self.__name, \"price\": self.__price, \"quantity\": self.quantity, \"sell_price\": self.sell_price, \"pay_rate\": self.pay_rate}\n",
        "    return f'{self.__class__.__name__}({temp})\\n'\n",
        "\n",
        "  @classmethod\n",
        "  def instantiate_from_CSV(cls):\n",
        "    with open('/content/drive/MyDrive/Python/items.csv', 'r') as f:\n",
        "      reader = csv.DictReader(f)\n",
        "      for item in reader:\n",
        "        Item(\n",
        "            __name = item.get('name'),\n",
        "            __price = float(item.get('price')),\n",
        "            quantity = int(item.get('quantity'))\n",
        "        )\n",
        "\n",
        "  @staticmethod\n",
        "  def is_integer(num):\n",
        "      # Check if the number is an integer or a float with no decimal part\n",
        "      if isinstance(num, float):\n",
        "          return num.is_integer()\n",
        "      return isinstance(num, int)\n",
        "\n",
        "\n",
        "\n",
        "class Phone(Item):\n",
        "  def __init__(self, name: str, price: float, quantity = 0, broken_phones = 0):\n",
        "    super().__init__(name,price,quantity) # Because of this the Phone class has access to all the methods and attributes of the Item class.\n",
        "    assert broken_phones >= 0, f\"Broken Phones cannot be negative\"\n",
        "    self.broken_phones = broken_phones\n",
        "\n",
        "  def get_name(self):\n",
        "    return self.__name\n",
        "\n",
        "phone1 = Phone(\"jscPhonev10\", 500, 5, 1)\n",
        "phone2 = Phone(\"jscPhonev20\", 700, 5, 1)\n",
        "\n",
        "# Valid name update\n",
        "phone1.name = \"NewName\"\n",
        "print(phone1.name)  # Output: NewName\n",
        "\n",
        "# Invalid name update\n",
        "try:\n",
        "    phone1.name = \"VeryLongName\"\n",
        "except Exception as e:\n",
        "    print(e)  # Output: Name is 4 characters longer\n",
        "\n",
        "# Invalid price update\n",
        "try:\n",
        "    phone2.price = \"InvalidPrice\"\n",
        "except Exception as e:\n",
        "    print(e)  # Output: Price cannot contain alphabets or non-numeric data\n",
        "\n",
        "print(phone2.price)"
      ],
      "metadata": {
        "colab": {
          "base_uri": "https://localhost:8080/"
        },
        "id": "2dDtF85zdQ2E",
        "outputId": "a0de7dfc-6204-442a-ae59-e7de6a0502c7"
      },
      "execution_count": 10,
      "outputs": [
        {
          "output_type": "stream",
          "name": "stdout",
          "text": [
            "NewName\n",
            "Name is 4 charaters longer\n",
            "Price cannot contain alphbets\n",
            "700\n"
          ]
        }
      ]
    },
    {
      "cell_type": "markdown",
      "source": [
        "Updating these to the Item.py"
      ],
      "metadata": {
        "id": "RZyO5HKLcc60"
      }
    },
    {
      "cell_type": "code",
      "source": [],
      "metadata": {
        "id": "N4v35iPNcanj"
      },
      "execution_count": null,
      "outputs": []
    },
    {
      "cell_type": "markdown",
      "source": [
        "## **Itertools**\n",
        "\n"
      ],
      "metadata": {
        "id": "T_uYMeQdDUm_"
      }
    },
    {
      "cell_type": "code",
      "source": [],
      "metadata": {
        "id": "RJP-iAywDXxG"
      },
      "execution_count": null,
      "outputs": []
    }
  ]
}